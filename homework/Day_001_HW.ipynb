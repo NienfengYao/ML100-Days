{
 "cells": [
  {
   "cell_type": "markdown",
   "metadata": {},
   "source": [
    "# [D1：資料介紹與評估指標](https://ai100.cupoy.com/mission/D1)"
   ]
  },
  {
   "cell_type": "markdown",
   "metadata": {},
   "source": [
    "## 作業1：\n",
    "請上 Kaggle, 在 Competitions 或 Dataset 中找一組競賽或資料並寫下：\n",
    "1. 你選的這組資料為何重要\n",
    "2. 資料從何而來 (tips: 譬如提供者是誰、以什麼方式蒐集)\n",
    "3. 蒐集而來的資料型態為何\n",
    "4. 這組資料想解決的問題如何評估"
   ]
  },
  {
   "cell_type": "markdown",
   "metadata": {},
   "source": [
    "## Ans1:  \n",
    "以 [Fashion MNIST](https://www.kaggle.com/zalando-research/fashionmnist)為例。\n",
    "1. 有趣且簡易的入門學習。一開始接處 ML 時，其實是以 MNIST 為 study case。而在後來持續學習時，才發現了 \"Fashion MNIST\"，覺得這將數字辨識的難度稍後提升到簡易的圖片辨識，還蠻有趣的。\n",
    "  * The original MNIST dataset contains a lot of handwritten digits. Members of the AI/ML/Data Science community love this dataset and use it as a benchmark to validate their algorithms. In fact, MNIST is often the first dataset researchers try. \"If it doesn't work on MNIST, it won't work at all\", they said. \"Well, if it does work on MNIST, it may still fail on others.\"\n",
    "  * 作者的動機\n",
    "    * MNIST is too easy\n",
    "    * MNIST is overused\n",
    "    * MNIST can not represent modern CV tasks\n",
    "2. 資料原始來源：[zalandoresearch/fashion-mnist](https://github.com/zalandoresearch/fashion-mnist)\n",
    "3. 資料型態為：\n",
    "  * consisting of a training set of 60,000 examples and a test set of 10,000 examples. Each example is a 28x28 grayscale image, associated with a label from 10 classes.\n",
    "4. 這組資料想解決的問題如何評估：\n",
    "  * 能正確預測圖片代表的是十分類中的那一類\n",
    "  * 每個圖片都已被標上 label，說明每一張圖片是屬於那一類。所以可以用\"正確率\"來評估"
   ]
  },
  {
   "cell_type": "markdown",
   "metadata": {},
   "source": [
    "## 作業2：\n",
    "想像你經營一個自由載客車隊，你希望能透過數據分析以提升業績，請你思考並描述你如何規劃整體的分析/解決方案：\n",
    "1. 核心問題為何 (tips：如何定義 「提升業績 & 你的假設」)\n",
    "2. 資料從何而來 (tips：哪些資料可能會對你想問的問題產生影響 & 資料如何蒐集)\n",
    "3. 蒐集而來的資料型態為何\n",
    "4. 你要回答的問題，其如何評估 (tips：你的假設如何驗證)"
   ]
  },
  {
   "cell_type": "markdown",
   "metadata": {},
   "source": [
    "## ANS2：\n",
    "1. 核心問題為何：\n",
    "  * 以車隊的整體營收，來定義業績\n",
    "  * 假設車款(大、新)、天氣(雨)、地域性(交通便利性、市中心、鄉村)、時段(上、下班、假日)會影響業績\n",
    "2. 資料從何而來\n",
    "  * 可由車隊的司機記錄，可設計一款 app，或整合至車隊的系統中，會\n",
    "    * 自動記錄 (時間、地點、天氣、付款金額)\n",
    "    * 系統設定 (車款、車齡)\n",
    "3. 蒐集而來的資料型態為何\n",
    "  * 主要是文字，數字\n",
    "4. 其如何評估\n",
    "  * 評估以上幾個因素的影響，調整車隊的配置，看整體業績是否有提升。\n"
   ]
  },
  {
   "cell_type": "markdown",
   "metadata": {},
   "source": [
    "## 作業3：\n",
    "完成 Mean Squared Error 的函式\n",
    "\n",
    "* [均方誤差 (mean-square error、MSE)](https://zh.wikipedia.org/wiki/%E5%9D%87%E6%96%B9%E8%AF%AF%E5%B7%AE)\n",
    "  * $ MSE = \\frac{1}{n}\\sum_{i=1}^{n}{(Y_i - \\hat{Y}_i)^2} $\n",
    "* [Mean absolute error](https://en.wikipedia.org/wiki/Mean_absolute_error)\n",
    "  * $ MAE = \\frac{1}{n}\\sum_{i=1}^{n}{|Y_i - \\hat{Y}_i|} $"
   ]
  },
  {
   "cell_type": "code",
   "execution_count": 1,
   "metadata": {},
   "outputs": [],
   "source": [
    "import numpy as np\n",
    "import matplotlib.pyplot as plt"
   ]
  },
  {
   "cell_type": "code",
   "execution_count": 2,
   "metadata": {},
   "outputs": [],
   "source": [
    "def mean_squared_error(y, y_hat):\n",
    "    MSE = sum((y-y_hat)**2) / len(y)\n",
    "    return MSE\n",
    "\n",
    "def mean_absolute_error(y, y_hat):\n",
    "    MAE = sum(abs(y-y_hat)) / len(y)\n",
    "    return MAE"
   ]
  },
  {
   "cell_type": "code",
   "execution_count": 3,
   "metadata": {},
   "outputs": [
    {
     "data": {
      "image/png": "[encoded data removed]",
      "text/plain": [
       "<Figure size 432x288 with 1 Axes>"
      ]
     },
     "metadata": {
      "needs_background": "light"
     },
     "output_type": "display_data"
    }
   ],
   "source": [
    "w = 3\n",
    "b = 0.5\n",
    "\n",
    "x_lin = np.linspace(0, 100, 101)\n",
    "\n",
    "y = (x_lin + np.random.randn(101) * 5) * w + b\n",
    "\n",
    "plt.plot(x_lin, y, 'b.', label = 'data points')\n",
    "plt.title(\"Assume we have data points\")\n",
    "plt.legend(loc = 2)\n",
    "plt.show()"
   ]
  },
  {
   "cell_type": "code",
   "execution_count": 4,
   "metadata": {},
   "outputs": [
    {
     "data": {
      "image/png": "[encoded data removed]",
      "text/plain": [
       "<Figure size 432x288 with 1 Axes>"
      ]
     },
     "metadata": {
      "needs_background": "light"
     },
     "output_type": "display_data"
    }
   ],
   "source": [
    "y_hat = x_lin * w + b\n",
    "plt.plot(x_lin, y, 'b.', label = 'data')\n",
    "plt.plot(x_lin, y_hat, 'r-', label = 'prediction')\n",
    "plt.title(\"Assume we have data points (And the prediction)\")\n",
    "plt.legend(loc = 2)\n",
    "plt.show()"
   ]
  },
  {
   "cell_type": "code",
   "execution_count": 5,
   "metadata": {},
   "outputs": [
    {
     "name": "stdout",
     "output_type": "stream",
     "text": [
      "The Mean squared error is 209.491\n",
      "The Mean absolute error is 11.238\n"
     ]
    }
   ],
   "source": [
    "# 執行 Function, 確認有沒有正常執行\n",
    "# print(type(y), type(y_hat))                # <class 'numpy.ndarray'>\n",
    "MSE = mean_squared_error(y, y_hat)\n",
    "MAE = mean_absolute_error(y, y_hat)\n",
    "print(\"The Mean squared error is %.3f\" % (MSE))\n",
    "print(\"The Mean absolute error is %.3f\" % (MAE))"
   ]
  },
  {
   "cell_type": "code",
   "execution_count": 6,
   "metadata": {},
   "outputs": [
    {
     "name": "stdout",
     "output_type": "stream",
     "text": [
      "The Mean squared error is 209.491\n",
      "The Mean absolute error is 11.238\n"
     ]
    }
   ],
   "source": [
    "# Double check with sklearn\n",
    "from sklearn.metrics import mean_squared_error, mean_absolute_error\n",
    "\n",
    "print(\"The Mean squared error is %.3f\" % (mean_squared_error(y, y_hat)))\n",
    "print(\"The Mean absolute error is %.3f\" % (mean_absolute_error(y, y_hat)))"
   ]
  },
  {
   "cell_type": "code",
   "execution_count": null,
   "metadata": {},
   "outputs": [],
   "source": []
  }
 ],
 "metadata": {
  "kernelspec": {
   "display_name": "Python 3",
   "language": "python",
   "name": "python3"
  },
  "language_info": {
   "codemirror_mode": {
    "name": "ipython",
    "version": 3
   },
   "file_extension": ".py",
   "mimetype": "text/x-python",
   "name": "python",
   "nbconvert_exporter": "python",
   "pygments_lexer": "ipython3",
   "version": "3.6.6"
  }
 },
 "nbformat": 4,
 "nbformat_minor": 2
}
