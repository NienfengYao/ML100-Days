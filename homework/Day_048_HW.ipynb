{
 "cells": [
  {
   "cell_type": "markdown",
   "metadata": {},
   "source": [
    "# 練習題\n",
    "* [Data Science London + Scikit-learn](https://www.kaggle.com/c/data-science-london-scikit-learn/)"
   ]
  },
  {
   "cell_type": "code",
   "execution_count": 1,
   "metadata": {},
   "outputs": [],
   "source": [
    "import numpy as np \n",
    "import pandas as pd"
   ]
  },
  {
   "cell_type": "code",
   "execution_count": 2,
   "metadata": {},
   "outputs": [],
   "source": [
    "# read csv (comma separated value) into data\n",
    "data_path = \"data/\"\n",
    "\n",
    "# train = pd.read_csv('data/train.csv')\n",
    "train = pd.read_csv(data_path + 'train.csv', header=None)\n",
    "train_labels = pd.read_csv(data_path + 'trainLabels.csv', header=None)\n",
    "test = pd.read_csv(data_path + 'test.csv', header=None)"
   ]
  },
  {
   "cell_type": "markdown",
   "metadata": {},
   "source": [
    "## 觀察資料"
   ]
  },
  {
   "cell_type": "code",
   "execution_count": 3,
   "metadata": {},
   "outputs": [
    {
     "name": "stdout",
     "output_type": "stream",
     "text": [
      "(1000, 40) (1000, 1) (9000, 40)\n"
     ]
    }
   ],
   "source": [
    "print(train.shape, train_labels.shape, test.shape)\n",
    "# print(train.head())\n",
    "# train.info()\n",
    "# train.describe()\n",
    "# train_labels.head()"
   ]
  },
  {
   "cell_type": "markdown",
   "metadata": {},
   "source": [
    "## Use only GradientBoostingClassifier for classification\n",
    "* 參考 Day_047_HW"
   ]
  },
  {
   "cell_type": "code",
   "execution_count": 4,
   "metadata": {},
   "outputs": [],
   "source": [
    "from sklearn import datasets, metrics\n",
    "from sklearn.model_selection import train_test_split, KFold, GridSearchCV\n",
    "from sklearn.ensemble import GradientBoostingClassifier"
   ]
  },
  {
   "cell_type": "code",
   "execution_count": 5,
   "metadata": {},
   "outputs": [
    {
     "name": "stdout",
     "output_type": "stream",
     "text": [
      "(1000,)\n"
     ]
    }
   ],
   "source": [
    "X, y = train, np.ravel(train_labels)\n",
    "X_train, X_test, y_train, y_test = train_test_split(X, y, test_size=0.3)\n",
    "print(y.shape)\n"
   ]
  },
  {
   "cell_type": "code",
   "execution_count": 6,
   "metadata": {},
   "outputs": [
    {
     "name": "stdout",
     "output_type": "stream",
     "text": [
      "0.87\n"
     ]
    }
   ],
   "source": [
    "# 建立模型\n",
    "clf = GradientBoostingClassifier(random_state=7)\n",
    "\n",
    "clf.fit(X_train, y_train)\n",
    "y_pred = clf.predict(X_test)\n",
    "print(metrics.accuracy_score(y_test, y_pred))"
   ]
  },
  {
   "cell_type": "code",
   "execution_count": 37,
   "metadata": {},
   "outputs": [
    {
     "name": "stdout",
     "output_type": "stream",
     "text": [
      "(9000, 2)\n",
      "   Solution  Id\n",
      "0         1   1\n",
      "1         0   2\n",
      "2         0   3\n",
      "3         0   4\n",
      "4         0   5\n"
     ]
    }
   ],
   "source": [
    "# 上傳 Kaggle\n",
    "\n",
    "submit = pd.DataFrame(clf.predict(test), columns=[\"Solution\"])\n",
    "submit['Id'] = np.arange(1, submit.shape[0] + 1)\n",
    "print(submit.shape)\n",
    "print(submit.head())\n",
    "submit.to_csv('submission.csv', index=False)"
   ]
  },
  {
   "cell_type": "code",
   "execution_count": null,
   "metadata": {},
   "outputs": [],
   "source": []
  }
 ],
 "metadata": {
  "kernelspec": {
   "display_name": "Python 3",
   "language": "python",
   "name": "python3"
  },
  "language_info": {
   "codemirror_mode": {
    "name": "ipython",
    "version": 3
   },
   "file_extension": ".py",
   "mimetype": "text/x-python",
   "name": "python",
   "nbconvert_exporter": "python",
   "pygments_lexer": "ipython3",
   "version": "3.6.7"
  }
 },
 "nbformat": 4,
 "nbformat_minor": 2
}
