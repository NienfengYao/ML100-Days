{
 "cells": [
  {
   "cell_type": "markdown",
   "metadata": {},
   "source": [
    "# ML100 期中考\n",
    "* [ML100marathon](https://www.kaggle.com/c/ml100marathon)"
   ]
  },
  {
   "cell_type": "code",
   "execution_count": 1,
   "metadata": {},
   "outputs": [],
   "source": [
    "import numpy as np \n",
    "import pandas as pd\n",
    "import matplotlib.pyplot as plt\n",
    "%matplotlib inline"
   ]
  },
  {
   "cell_type": "code",
   "execution_count": 2,
   "metadata": {},
   "outputs": [],
   "source": [
    "# read csv\n",
    "data_path = \"data/enron/\"\n",
    "\n",
    "train = pd.read_csv(data_path + 'train_data.csv')\n",
    "test = pd.read_csv(data_path + 'test_features.csv')"
   ]
  },
  {
   "cell_type": "markdown",
   "metadata": {},
   "source": [
    "## 觀察資料"
   ]
  },
  {
   "cell_type": "code",
   "execution_count": 3,
   "metadata": {},
   "outputs": [
    {
     "name": "stdout",
     "output_type": "stream",
     "text": [
      "(113, 22) (33, 21)\n"
     ]
    }
   ],
   "source": [
    "print(train.shape, test.shape)\n",
    "# print(train.head(2))\n",
    "# train.info()\n",
    "# train.describe()\n",
    "# print(train.columns)"
   ]
  },
  {
   "cell_type": "markdown",
   "metadata": {},
   "source": [
    "### 補充缺失值"
   ]
  },
  {
   "cell_type": "code",
   "execution_count": 4,
   "metadata": {},
   "outputs": [
    {
     "name": "stdout",
     "output_type": "stream",
     "text": [
      "(113, 22)\n",
      "(113, 22)\n"
     ]
    }
   ],
   "source": [
    "# 補充缺失值\n",
    "train_tmp = train.fillna(0)\n",
    "print(train.shape)\n",
    "\n",
    "# 移除掉我覺得沒用的欄位及 poi\n",
    "train_tmp = train_tmp.drop(['name', 'email_address', 'poi'], axis=1)   \n",
    "print(train.shape)"
   ]
  },
  {
   "cell_type": "markdown",
   "metadata": {},
   "source": [
    "### 找出異常值"
   ]
  },
  {
   "cell_type": "code",
   "execution_count": 5,
   "metadata": {},
   "outputs": [
    {
     "data": {
      "text/html": [
       "<div>\n",
       "<style scoped>\n",
       "    .dataframe tbody tr th:only-of-type {\n",
       "        vertical-align: middle;\n",
       "    }\n",
       "\n",
       "    .dataframe tbody tr th {\n",
       "        vertical-align: top;\n",
       "    }\n",
       "\n",
       "    .dataframe thead th {\n",
       "        text-align: right;\n",
       "    }\n",
       "</style>\n",
       "<table border=\"1\" class=\"dataframe\">\n",
       "  <thead>\n",
       "    <tr style=\"text-align: right;\">\n",
       "      <th></th>\n",
       "      <th>bonus</th>\n",
       "      <th>deferral_payments</th>\n",
       "      <th>deferred_income</th>\n",
       "      <th>director_fees</th>\n",
       "      <th>exercised_stock_options</th>\n",
       "      <th>expenses</th>\n",
       "      <th>from_messages</th>\n",
       "      <th>from_poi_to_this_person</th>\n",
       "      <th>from_this_person_to_poi</th>\n",
       "      <th>loan_advances</th>\n",
       "      <th>long_term_incentive</th>\n",
       "      <th>other</th>\n",
       "      <th>restricted_stock</th>\n",
       "      <th>restricted_stock_deferred</th>\n",
       "      <th>salary</th>\n",
       "      <th>shared_receipt_with_poi</th>\n",
       "      <th>to_messages</th>\n",
       "      <th>total_payments</th>\n",
       "      <th>total_stock_value</th>\n",
       "    </tr>\n",
       "  </thead>\n",
       "  <tbody>\n",
       "    <tr>\n",
       "      <th>count</th>\n",
       "      <td>1.130000e+02</td>\n",
       "      <td>1.130000e+02</td>\n",
       "      <td>1.130000e+02</td>\n",
       "      <td>113.000000</td>\n",
       "      <td>1.130000e+02</td>\n",
       "      <td>113.000000</td>\n",
       "      <td>113.000000</td>\n",
       "      <td>113.000000</td>\n",
       "      <td>113.000000</td>\n",
       "      <td>1.130000e+02</td>\n",
       "      <td>1.130000e+02</td>\n",
       "      <td>1.130000e+02</td>\n",
       "      <td>1.130000e+02</td>\n",
       "      <td>113.000000</td>\n",
       "      <td>1.130000e+02</td>\n",
       "      <td>113.000000</td>\n",
       "      <td>113.000000</td>\n",
       "      <td>1.130000e+02</td>\n",
       "      <td>1.130000e+02</td>\n",
       "    </tr>\n",
       "    <tr>\n",
       "      <th>mean</th>\n",
       "      <td>6.194126e+05</td>\n",
       "      <td>1.572057e+05</td>\n",
       "      <td>-1.391793e+05</td>\n",
       "      <td>10284.707965</td>\n",
       "      <td>2.139748e+06</td>\n",
       "      <td>32973.097345</td>\n",
       "      <td>409.168142</td>\n",
       "      <td>37.274336</td>\n",
       "      <td>23.061947</td>\n",
       "      <td>7.250000e+05</td>\n",
       "      <td>3.437012e+05</td>\n",
       "      <td>2.730552e+05</td>\n",
       "      <td>9.396291e+05</td>\n",
       "      <td>-19635.902655</td>\n",
       "      <td>1.769459e+05</td>\n",
       "      <td>639.283186</td>\n",
       "      <td>1240.212389</td>\n",
       "      <td>2.201184e+06</td>\n",
       "      <td>3.058932e+06</td>\n",
       "    </tr>\n",
       "    <tr>\n",
       "      <th>std</th>\n",
       "      <td>1.242456e+06</td>\n",
       "      <td>5.041240e+05</td>\n",
       "      <td>4.883707e+05</td>\n",
       "      <td>31658.955219</td>\n",
       "      <td>5.251192e+06</td>\n",
       "      <td>45358.746287</td>\n",
       "      <td>1607.452015</td>\n",
       "      <td>76.533402</td>\n",
       "      <td>70.089392</td>\n",
       "      <td>7.668983e+06</td>\n",
       "      <td>7.367731e+05</td>\n",
       "      <td>1.068036e+06</td>\n",
       "      <td>2.202460e+06</td>\n",
       "      <td>85965.881870</td>\n",
       "      <td>1.904034e+05</td>\n",
       "      <td>1039.799616</td>\n",
       "      <td>2379.796707</td>\n",
       "      <td>9.775920e+06</td>\n",
       "      <td>6.791932e+06</td>\n",
       "    </tr>\n",
       "    <tr>\n",
       "      <th>min</th>\n",
       "      <td>0.000000e+00</td>\n",
       "      <td>-1.025000e+05</td>\n",
       "      <td>-3.504386e+06</td>\n",
       "      <td>0.000000</td>\n",
       "      <td>0.000000e+00</td>\n",
       "      <td>0.000000</td>\n",
       "      <td>0.000000</td>\n",
       "      <td>0.000000</td>\n",
       "      <td>0.000000</td>\n",
       "      <td>0.000000e+00</td>\n",
       "      <td>0.000000e+00</td>\n",
       "      <td>0.000000e+00</td>\n",
       "      <td>0.000000e+00</td>\n",
       "      <td>-560222.000000</td>\n",
       "      <td>0.000000e+00</td>\n",
       "      <td>0.000000</td>\n",
       "      <td>0.000000</td>\n",
       "      <td>0.000000e+00</td>\n",
       "      <td>-4.409300e+04</td>\n",
       "    </tr>\n",
       "    <tr>\n",
       "      <th>25%</th>\n",
       "      <td>0.000000e+00</td>\n",
       "      <td>0.000000e+00</td>\n",
       "      <td>-2.500000e+04</td>\n",
       "      <td>0.000000</td>\n",
       "      <td>0.000000e+00</td>\n",
       "      <td>0.000000</td>\n",
       "      <td>0.000000</td>\n",
       "      <td>0.000000</td>\n",
       "      <td>0.000000</td>\n",
       "      <td>0.000000e+00</td>\n",
       "      <td>0.000000e+00</td>\n",
       "      <td>0.000000e+00</td>\n",
       "      <td>0.000000e+00</td>\n",
       "      <td>0.000000</td>\n",
       "      <td>0.000000e+00</td>\n",
       "      <td>0.000000</td>\n",
       "      <td>0.000000</td>\n",
       "      <td>8.499200e+04</td>\n",
       "      <td>2.211410e+05</td>\n",
       "    </tr>\n",
       "    <tr>\n",
       "      <th>50%</th>\n",
       "      <td>2.500000e+05</td>\n",
       "      <td>0.000000e+00</td>\n",
       "      <td>0.000000e+00</td>\n",
       "      <td>0.000000</td>\n",
       "      <td>4.934890e+05</td>\n",
       "      <td>16514.000000</td>\n",
       "      <td>16.000000</td>\n",
       "      <td>0.000000</td>\n",
       "      <td>0.000000</td>\n",
       "      <td>0.000000e+00</td>\n",
       "      <td>0.000000e+00</td>\n",
       "      <td>7.130000e+02</td>\n",
       "      <td>3.605280e+05</td>\n",
       "      <td>0.000000</td>\n",
       "      <td>1.991570e+05</td>\n",
       "      <td>71.000000</td>\n",
       "      <td>232.000000</td>\n",
       "      <td>9.690680e+05</td>\n",
       "      <td>8.802900e+05</td>\n",
       "    </tr>\n",
       "    <tr>\n",
       "      <th>75%</th>\n",
       "      <td>7.500000e+05</td>\n",
       "      <td>0.000000e+00</td>\n",
       "      <td>0.000000e+00</td>\n",
       "      <td>0.000000</td>\n",
       "      <td>1.624396e+06</td>\n",
       "      <td>50080.000000</td>\n",
       "      <td>59.000000</td>\n",
       "      <td>37.000000</td>\n",
       "      <td>11.000000</td>\n",
       "      <td>0.000000e+00</td>\n",
       "      <td>3.353490e+05</td>\n",
       "      <td>1.111220e+05</td>\n",
       "      <td>6.982420e+05</td>\n",
       "      <td>0.000000</td>\n",
       "      <td>2.652140e+05</td>\n",
       "      <td>742.000000</td>\n",
       "      <td>1433.000000</td>\n",
       "      <td>1.747522e+06</td>\n",
       "      <td>2.072035e+06</td>\n",
       "    </tr>\n",
       "    <tr>\n",
       "      <th>max</th>\n",
       "      <td>8.000000e+06</td>\n",
       "      <td>2.964506e+06</td>\n",
       "      <td>0.000000e+00</td>\n",
       "      <td>125034.000000</td>\n",
       "      <td>3.434838e+07</td>\n",
       "      <td>228763.000000</td>\n",
       "      <td>14368.000000</td>\n",
       "      <td>528.000000</td>\n",
       "      <td>411.000000</td>\n",
       "      <td>8.152500e+07</td>\n",
       "      <td>5.145434e+06</td>\n",
       "      <td>1.035973e+07</td>\n",
       "      <td>1.476169e+07</td>\n",
       "      <td>44093.000000</td>\n",
       "      <td>1.111258e+06</td>\n",
       "      <td>4527.000000</td>\n",
       "      <td>15149.000000</td>\n",
       "      <td>1.035598e+08</td>\n",
       "      <td>4.911008e+07</td>\n",
       "    </tr>\n",
       "  </tbody>\n",
       "</table>\n",
       "</div>"
      ],
      "text/plain": [
       "              bonus  deferral_payments  deferred_income  director_fees  \\\n",
       "count  1.130000e+02       1.130000e+02     1.130000e+02     113.000000   \n",
       "mean   6.194126e+05       1.572057e+05    -1.391793e+05   10284.707965   \n",
       "std    1.242456e+06       5.041240e+05     4.883707e+05   31658.955219   \n",
       "min    0.000000e+00      -1.025000e+05    -3.504386e+06       0.000000   \n",
       "25%    0.000000e+00       0.000000e+00    -2.500000e+04       0.000000   \n",
       "50%    2.500000e+05       0.000000e+00     0.000000e+00       0.000000   \n",
       "75%    7.500000e+05       0.000000e+00     0.000000e+00       0.000000   \n",
       "max    8.000000e+06       2.964506e+06     0.000000e+00  125034.000000   \n",
       "\n",
       "       exercised_stock_options       expenses  from_messages  \\\n",
       "count             1.130000e+02     113.000000     113.000000   \n",
       "mean              2.139748e+06   32973.097345     409.168142   \n",
       "std               5.251192e+06   45358.746287    1607.452015   \n",
       "min               0.000000e+00       0.000000       0.000000   \n",
       "25%               0.000000e+00       0.000000       0.000000   \n",
       "50%               4.934890e+05   16514.000000      16.000000   \n",
       "75%               1.624396e+06   50080.000000      59.000000   \n",
       "max               3.434838e+07  228763.000000   14368.000000   \n",
       "\n",
       "       from_poi_to_this_person  from_this_person_to_poi  loan_advances  \\\n",
       "count               113.000000               113.000000   1.130000e+02   \n",
       "mean                 37.274336                23.061947   7.250000e+05   \n",
       "std                  76.533402                70.089392   7.668983e+06   \n",
       "min                   0.000000                 0.000000   0.000000e+00   \n",
       "25%                   0.000000                 0.000000   0.000000e+00   \n",
       "50%                   0.000000                 0.000000   0.000000e+00   \n",
       "75%                  37.000000                11.000000   0.000000e+00   \n",
       "max                 528.000000               411.000000   8.152500e+07   \n",
       "\n",
       "       long_term_incentive         other  restricted_stock  \\\n",
       "count         1.130000e+02  1.130000e+02      1.130000e+02   \n",
       "mean          3.437012e+05  2.730552e+05      9.396291e+05   \n",
       "std           7.367731e+05  1.068036e+06      2.202460e+06   \n",
       "min           0.000000e+00  0.000000e+00      0.000000e+00   \n",
       "25%           0.000000e+00  0.000000e+00      0.000000e+00   \n",
       "50%           0.000000e+00  7.130000e+02      3.605280e+05   \n",
       "75%           3.353490e+05  1.111220e+05      6.982420e+05   \n",
       "max           5.145434e+06  1.035973e+07      1.476169e+07   \n",
       "\n",
       "       restricted_stock_deferred        salary  shared_receipt_with_poi  \\\n",
       "count                 113.000000  1.130000e+02               113.000000   \n",
       "mean               -19635.902655  1.769459e+05               639.283186   \n",
       "std                 85965.881870  1.904034e+05              1039.799616   \n",
       "min               -560222.000000  0.000000e+00                 0.000000   \n",
       "25%                     0.000000  0.000000e+00                 0.000000   \n",
       "50%                     0.000000  1.991570e+05                71.000000   \n",
       "75%                     0.000000  2.652140e+05               742.000000   \n",
       "max                 44093.000000  1.111258e+06              4527.000000   \n",
       "\n",
       "        to_messages  total_payments  total_stock_value  \n",
       "count    113.000000    1.130000e+02       1.130000e+02  \n",
       "mean    1240.212389    2.201184e+06       3.058932e+06  \n",
       "std     2379.796707    9.775920e+06       6.791932e+06  \n",
       "min        0.000000    0.000000e+00      -4.409300e+04  \n",
       "25%        0.000000    8.499200e+04       2.211410e+05  \n",
       "50%      232.000000    9.690680e+05       8.802900e+05  \n",
       "75%     1433.000000    1.747522e+06       2.072035e+06  \n",
       "max    15149.000000    1.035598e+08       4.911008e+07  "
      ]
     },
     "execution_count": 5,
     "metadata": {},
     "output_type": "execute_result"
    }
   ],
   "source": [
    "# 找出異常值\n",
    "train_tmp.describe()"
   ]
  },
  {
   "cell_type": "markdown",
   "metadata": {},
   "source": [
    "### 數據標準化"
   ]
  },
  {
   "cell_type": "code",
   "execution_count": 6,
   "metadata": {},
   "outputs": [],
   "source": [
    "# # 加了反而效果不好\n",
    "\n",
    "# # from sklearn.preprocessing import StandardScaler, MinMaxScaler, Normalizer\n",
    "# from sklearn.preprocessing import StandardScaler\n",
    "\n",
    "# train_tmp = StandardScaler().fit_transform(train_tmp)"
   ]
  },
  {
   "cell_type": "markdown",
   "metadata": {},
   "source": [
    "## Use only GradientBoostingClassifier for classification\n",
    "* 參考 Day_047_HW"
   ]
  },
  {
   "cell_type": "code",
   "execution_count": 7,
   "metadata": {},
   "outputs": [],
   "source": [
    "from sklearn import datasets, metrics\n",
    "from sklearn.model_selection import train_test_split, KFold, GridSearchCV\n",
    "from sklearn.ensemble import GradientBoostingClassifier"
   ]
  },
  {
   "cell_type": "code",
   "execution_count": 8,
   "metadata": {},
   "outputs": [
    {
     "name": "stdout",
     "output_type": "stream",
     "text": [
      "(113, 19) (113,)\n",
      "(79, 19) (34, 19) (79,) (34,)\n"
     ]
    }
   ],
   "source": [
    "y = train['poi']\n",
    "X = train_tmp        \n",
    "print(X.shape, y.shape)          \n",
    "X_train, X_test, y_train, y_test = train_test_split(X, y, test_size=0.3)\n",
    "print(X_train.shape, X_test.shape, y_train.shape, y_test.shape)"
   ]
  },
  {
   "cell_type": "code",
   "execution_count": 9,
   "metadata": {},
   "outputs": [
    {
     "name": "stdout",
     "output_type": "stream",
     "text": [
      "0.9411764705882353\n"
     ]
    }
   ],
   "source": [
    "# 建立模型\n",
    "\n",
    "clf = GradientBoostingClassifier(random_state=7)\n",
    "clf.fit(X_train, y_train)\n",
    "y_pred = clf.predict(X_test)\n",
    "print(metrics.accuracy_score(y_test, y_pred))"
   ]
  },
  {
   "cell_type": "markdown",
   "metadata": {},
   "source": [
    "## AUC 評估"
   ]
  },
  {
   "cell_type": "code",
   "execution_count": 10,
   "metadata": {},
   "outputs": [
    {
     "name": "stdout",
     "output_type": "stream",
     "text": [
      "AUC:  0.8181818181818181\n"
     ]
    }
   ],
   "source": [
    "# 使用 roc_auc_score 來評估。 **這邊特別注意 y_pred 必須要放機率值進去!**\n",
    "\n",
    "y_pred_prob = clf.predict_proba(X_test)[:, 1]\n",
    "auc = metrics.roc_auc_score(y_test, y_pred_prob) \n",
    "print(\"AUC: \", auc) "
   ]
  },
  {
   "cell_type": "markdown",
   "metadata": {},
   "source": [
    "## 上傳 Kaggle"
   ]
  },
  {
   "cell_type": "code",
   "execution_count": 11,
   "metadata": {},
   "outputs": [],
   "source": [
    "submit = pd.DataFrame(test['name'])\n",
    "test_tmp = test.drop(['name', 'email_address'], axis=1)\n",
    "test_tmp = test_tmp.fillna(0)\n",
    "\n",
    "# 加了反而效果不好\n",
    "# test_tmp = StandardScaler().fit_transform(test_tmp)\n",
    "\n",
    "pred_prob = clf.predict_proba(test_tmp)[:, 1]\n",
    "submit['poi'] = pred_prob\n",
    "submit.to_csv('submission.csv', index=False)"
   ]
  },
  {
   "cell_type": "code",
   "execution_count": null,
   "metadata": {},
   "outputs": [],
   "source": []
  }
 ],
 "metadata": {
  "kernelspec": {
   "display_name": "Python 3",
   "language": "python",
   "name": "python3"
  },
  "language_info": {
   "codemirror_mode": {
    "name": "ipython",
    "version": 3
   },
   "file_extension": ".py",
   "mimetype": "text/x-python",
   "name": "python",
   "nbconvert_exporter": "python",
   "pygments_lexer": "ipython3",
   "version": "3.6.7"
  }
 },
 "nbformat": 4,
 "nbformat_minor": 2
}
