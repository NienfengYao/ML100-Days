{
 "cells": [
  {
   "cell_type": "code",
   "execution_count": 1,
   "metadata": {},
   "outputs": [
    {
     "name": "stderr",
     "output_type": "stream",
     "text": [
      "Using TensorFlow backend.\n"
     ]
    }
   ],
   "source": [
    "import os\n",
    "import keras\n",
    "\n",
    "# Disable GPU\n",
    "# os.environ[\"CUDA_VISIBLE_DEVICES\"] = \"\""
   ]
  },
  {
   "cell_type": "code",
   "execution_count": 2,
   "metadata": {},
   "outputs": [],
   "source": [
    "train, test = keras.datasets.cifar10.load_data()"
   ]
  },
  {
   "cell_type": "code",
   "execution_count": 3,
   "metadata": {},
   "outputs": [],
   "source": [
    "## 資料前處理\n",
    "def preproc_x(x, flatten=True):\n",
    "    x = x / 255.\n",
    "    if flatten:\n",
    "        x = x.reshape((len(x), -1))\n",
    "    return x\n",
    "\n",
    "def preproc_y(y, num_classes=10):\n",
    "    if y.shape[-1] == 1:\n",
    "        y = keras.utils.to_categorical(y, num_classes)\n",
    "    return y    "
   ]
  },
  {
   "cell_type": "code",
   "execution_count": 4,
   "metadata": {},
   "outputs": [],
   "source": [
    "x_train, y_train = train\n",
    "x_test, y_test = test\n",
    "\n",
    "# Preproc the inputs\n",
    "x_train = preproc_x(x_train)\n",
    "x_test = preproc_x(x_test)\n",
    "\n",
    "# Preprc the outputs\n",
    "y_train = preproc_y(y_train)\n",
    "y_test = preproc_y(y_test)"
   ]
  },
  {
   "cell_type": "code",
   "execution_count": 5,
   "metadata": {},
   "outputs": [
    {
     "data": {
      "text/plain": [
       "(50000, 3072)"
      ]
     },
     "execution_count": 5,
     "metadata": {},
     "output_type": "execute_result"
    }
   ],
   "source": [
    "x_train.shape"
   ]
  },
  {
   "cell_type": "code",
   "execution_count": 6,
   "metadata": {},
   "outputs": [],
   "source": [
    "from keras.layers import Dropout\n",
    "def build_mlp(input_shape, output_units=10, num_neurons=[512, 256, 128], drp_ratio=0.2):\n",
    "    input_layer = keras.layers.Input(input_shape)\n",
    "    \n",
    "    for i, n_units in enumerate(num_neurons):\n",
    "        if i == 0:\n",
    "            x = keras.layers.Dense(units=n_units, \n",
    "                                   activation=\"relu\", \n",
    "                                   name=\"hidden_layer\"+str(i+1))(input_layer)\n",
    "            x = Dropout(drp_ratio)(x)\n",
    "        else:\n",
    "            x = keras.layers.Dense(units=n_units, \n",
    "                                   activation=\"relu\", \n",
    "                                   name=\"hidden_layer\"+str(i+1))(x)\n",
    "            x = Dropout(drp_ratio)(x)\n",
    "    \n",
    "    out = keras.layers.Dense(units=output_units, activation=\"softmax\", name=\"output\")(x)\n",
    "    \n",
    "    model = keras.models.Model(inputs=[input_layer], outputs=[out])\n",
    "    return model"
   ]
  },
  {
   "cell_type": "code",
   "execution_count": 7,
   "metadata": {},
   "outputs": [],
   "source": [
    "## 超參數設定\n",
    "LEARNING_RATE = 1e-3\n",
    "EPOCHS = 50\n",
    "BATCH_SIZE = 256\n",
    "MOMENTUM = 0.95\n",
    "Dropout_EXP = 0.25"
   ]
  },
  {
   "cell_type": "code",
   "execution_count": 8,
   "metadata": {
    "scrolled": true
   },
   "outputs": [
    {
     "name": "stdout",
     "output_type": "stream",
     "text": [
      "WARNING:tensorflow:From /usr/local/lib/python3.5/dist-packages/tensorflow/python/framework/op_def_library.py:263: colocate_with (from tensorflow.python.framework.ops) is deprecated and will be removed in a future version.\n",
      "Instructions for updating:\n",
      "Colocations handled automatically by placer.\n",
      "WARNING:tensorflow:From /usr/local/lib/python3.5/dist-packages/keras/backend/tensorflow_backend.py:3445: calling dropout (from tensorflow.python.ops.nn_ops) with keep_prob is deprecated and will be removed in a future version.\n",
      "Instructions for updating:\n",
      "Please use `rate` instead of `keep_prob`. Rate should be set to `rate = 1 - keep_prob`.\n",
      "_________________________________________________________________\n",
      "Layer (type)                 Output Shape              Param #   \n",
      "=================================================================\n",
      "input_1 (InputLayer)         (None, 3072)              0         \n",
      "_________________________________________________________________\n",
      "hidden_layer1 (Dense)        (None, 512)               1573376   \n",
      "_________________________________________________________________\n",
      "dropout_1 (Dropout)          (None, 512)               0         \n",
      "_________________________________________________________________\n",
      "hidden_layer2 (Dense)        (None, 256)               131328    \n",
      "_________________________________________________________________\n",
      "dropout_2 (Dropout)          (None, 256)               0         \n",
      "_________________________________________________________________\n",
      "hidden_layer3 (Dense)        (None, 128)               32896     \n",
      "_________________________________________________________________\n",
      "dropout_3 (Dropout)          (None, 128)               0         \n",
      "_________________________________________________________________\n",
      "output (Dense)               (None, 10)                1290      \n",
      "=================================================================\n",
      "Total params: 1,738,890\n",
      "Trainable params: 1,738,890\n",
      "Non-trainable params: 0\n",
      "_________________________________________________________________\n",
      "WARNING:tensorflow:From /usr/local/lib/python3.5/dist-packages/tensorflow/python/ops/math_ops.py:3066: to_int32 (from tensorflow.python.ops.math_ops) is deprecated and will be removed in a future version.\n",
      "Instructions for updating:\n",
      "Use tf.cast instead.\n",
      "Train on 50000 samples, validate on 10000 samples\n",
      "Epoch 1/50\n",
      "50000/50000 [==============================] - 3s 65us/step - loss: 2.1913 - acc: 0.1797 - val_loss: 1.9975 - val_acc: 0.2759\n",
      "Epoch 2/50\n",
      "50000/50000 [==============================] - 2s 40us/step - loss: 2.0048 - acc: 0.2608 - val_loss: 1.8894 - val_acc: 0.3363\n",
      "Epoch 3/50\n",
      "50000/50000 [==============================] - 2s 40us/step - loss: 1.9201 - acc: 0.3037 - val_loss: 1.8170 - val_acc: 0.3563\n",
      "Epoch 4/50\n",
      "50000/50000 [==============================] - 2s 40us/step - loss: 1.8651 - acc: 0.3250 - val_loss: 1.7646 - val_acc: 0.3802\n",
      "Epoch 5/50\n",
      "50000/50000 [==============================] - 2s 40us/step - loss: 1.8243 - acc: 0.3425 - val_loss: 1.7210 - val_acc: 0.3965\n",
      "Epoch 6/50\n",
      "50000/50000 [==============================] - 2s 40us/step - loss: 1.7891 - acc: 0.3575 - val_loss: 1.6880 - val_acc: 0.4031\n",
      "Epoch 7/50\n",
      "50000/50000 [==============================] - 2s 40us/step - loss: 1.7563 - acc: 0.3703 - val_loss: 1.6540 - val_acc: 0.4151\n",
      "Epoch 8/50\n",
      "50000/50000 [==============================] - 2s 40us/step - loss: 1.7350 - acc: 0.3806 - val_loss: 1.6333 - val_acc: 0.4218\n",
      "Epoch 9/50\n",
      "50000/50000 [==============================] - 2s 40us/step - loss: 1.7111 - acc: 0.3891 - val_loss: 1.6102 - val_acc: 0.4357\n",
      "Epoch 10/50\n",
      "50000/50000 [==============================] - 2s 40us/step - loss: 1.6863 - acc: 0.3971 - val_loss: 1.5860 - val_acc: 0.4400\n",
      "Epoch 11/50\n",
      "50000/50000 [==============================] - 2s 40us/step - loss: 1.6719 - acc: 0.4045 - val_loss: 1.5703 - val_acc: 0.4452\n",
      "Epoch 12/50\n",
      "50000/50000 [==============================] - 2s 40us/step - loss: 1.6485 - acc: 0.4138 - val_loss: 1.5529 - val_acc: 0.4535\n",
      "Epoch 13/50\n",
      "50000/50000 [==============================] - 2s 40us/step - loss: 1.6325 - acc: 0.4177 - val_loss: 1.5406 - val_acc: 0.4520\n",
      "Epoch 14/50\n",
      "50000/50000 [==============================] - 2s 40us/step - loss: 1.6171 - acc: 0.4249 - val_loss: 1.5228 - val_acc: 0.4567\n",
      "Epoch 15/50\n",
      "50000/50000 [==============================] - 2s 40us/step - loss: 1.6007 - acc: 0.4285 - val_loss: 1.5168 - val_acc: 0.4611\n",
      "Epoch 16/50\n",
      "50000/50000 [==============================] - 2s 40us/step - loss: 1.5864 - acc: 0.4342 - val_loss: 1.4983 - val_acc: 0.4728\n",
      "Epoch 17/50\n",
      "50000/50000 [==============================] - 2s 40us/step - loss: 1.5725 - acc: 0.4401 - val_loss: 1.4864 - val_acc: 0.4709\n",
      "Epoch 18/50\n",
      "50000/50000 [==============================] - 2s 40us/step - loss: 1.5564 - acc: 0.4451 - val_loss: 1.4768 - val_acc: 0.4710\n",
      "Epoch 19/50\n",
      "50000/50000 [==============================] - 2s 40us/step - loss: 1.5459 - acc: 0.4481 - val_loss: 1.4677 - val_acc: 0.4717\n",
      "Epoch 20/50\n",
      "50000/50000 [==============================] - 2s 40us/step - loss: 1.5359 - acc: 0.4548 - val_loss: 1.4567 - val_acc: 0.4775\n",
      "Epoch 21/50\n",
      "50000/50000 [==============================] - 2s 40us/step - loss: 1.5205 - acc: 0.4610 - val_loss: 1.4472 - val_acc: 0.4861\n",
      "Epoch 22/50\n",
      "50000/50000 [==============================] - 2s 40us/step - loss: 1.5117 - acc: 0.4596 - val_loss: 1.4399 - val_acc: 0.4876\n",
      "Epoch 23/50\n",
      "50000/50000 [==============================] - 2s 40us/step - loss: 1.5012 - acc: 0.4654 - val_loss: 1.4313 - val_acc: 0.4912\n",
      "Epoch 24/50\n",
      "50000/50000 [==============================] - 2s 40us/step - loss: 1.4926 - acc: 0.4675 - val_loss: 1.4299 - val_acc: 0.4869\n",
      "Epoch 25/50\n",
      "50000/50000 [==============================] - 2s 40us/step - loss: 1.4799 - acc: 0.4754 - val_loss: 1.4317 - val_acc: 0.4912\n",
      "Epoch 26/50\n",
      "50000/50000 [==============================] - 2s 40us/step - loss: 1.4707 - acc: 0.4750 - val_loss: 1.4155 - val_acc: 0.4947\n",
      "Epoch 27/50\n",
      "50000/50000 [==============================] - 2s 40us/step - loss: 1.4636 - acc: 0.4801 - val_loss: 1.4022 - val_acc: 0.5048\n",
      "Epoch 28/50\n",
      "50000/50000 [==============================] - 2s 40us/step - loss: 1.4531 - acc: 0.4805 - val_loss: 1.4012 - val_acc: 0.5027\n",
      "Epoch 29/50\n",
      "50000/50000 [==============================] - 2s 40us/step - loss: 1.4478 - acc: 0.4839 - val_loss: 1.3963 - val_acc: 0.5050\n",
      "Epoch 30/50\n",
      "50000/50000 [==============================] - 2s 40us/step - loss: 1.4347 - acc: 0.4854 - val_loss: 1.3914 - val_acc: 0.5036\n",
      "Epoch 31/50\n",
      "50000/50000 [==============================] - 2s 40us/step - loss: 1.4259 - acc: 0.4907 - val_loss: 1.3844 - val_acc: 0.5066\n",
      "Epoch 32/50\n",
      "50000/50000 [==============================] - 2s 40us/step - loss: 1.4181 - acc: 0.4941 - val_loss: 1.3776 - val_acc: 0.5089\n",
      "Epoch 33/50\n",
      "50000/50000 [==============================] - 2s 40us/step - loss: 1.4133 - acc: 0.4950 - val_loss: 1.3775 - val_acc: 0.5105\n",
      "Epoch 34/50\n",
      "50000/50000 [==============================] - 2s 40us/step - loss: 1.4025 - acc: 0.4985 - val_loss: 1.3827 - val_acc: 0.5040\n",
      "Epoch 35/50\n",
      "50000/50000 [==============================] - 2s 40us/step - loss: 1.3952 - acc: 0.5007 - val_loss: 1.3774 - val_acc: 0.5104\n",
      "Epoch 36/50\n",
      "50000/50000 [==============================] - 2s 40us/step - loss: 1.3861 - acc: 0.5017 - val_loss: 1.3569 - val_acc: 0.5134\n",
      "Epoch 37/50\n",
      "50000/50000 [==============================] - 2s 40us/step - loss: 1.3773 - acc: 0.5089 - val_loss: 1.3565 - val_acc: 0.5157\n",
      "Epoch 38/50\n",
      "50000/50000 [==============================] - 2s 40us/step - loss: 1.3735 - acc: 0.5063 - val_loss: 1.3485 - val_acc: 0.5163\n",
      "Epoch 39/50\n",
      "50000/50000 [==============================] - 2s 40us/step - loss: 1.3652 - acc: 0.5106 - val_loss: 1.3463 - val_acc: 0.5246\n",
      "Epoch 40/50\n",
      "50000/50000 [==============================] - 2s 40us/step - loss: 1.3580 - acc: 0.5135 - val_loss: 1.3582 - val_acc: 0.5108\n",
      "Epoch 41/50\n",
      "50000/50000 [==============================] - 2s 40us/step - loss: 1.3527 - acc: 0.5165 - val_loss: 1.3342 - val_acc: 0.5235\n",
      "Epoch 42/50\n",
      "50000/50000 [==============================] - 2s 40us/step - loss: 1.3466 - acc: 0.5218 - val_loss: 1.3376 - val_acc: 0.5199\n",
      "Epoch 43/50\n"
     ]
    },
    {
     "name": "stdout",
     "output_type": "stream",
     "text": [
      "50000/50000 [==============================] - 2s 40us/step - loss: 1.3435 - acc: 0.5186 - val_loss: 1.3347 - val_acc: 0.5235\n",
      "Epoch 44/50\n",
      "50000/50000 [==============================] - 2s 40us/step - loss: 1.3321 - acc: 0.5223 - val_loss: 1.3422 - val_acc: 0.5195\n",
      "Epoch 45/50\n",
      "50000/50000 [==============================] - 2s 40us/step - loss: 1.3269 - acc: 0.5250 - val_loss: 1.3262 - val_acc: 0.5292\n",
      "Epoch 46/50\n",
      "50000/50000 [==============================] - 2s 40us/step - loss: 1.3199 - acc: 0.5262 - val_loss: 1.3301 - val_acc: 0.5248\n",
      "Epoch 47/50\n",
      "50000/50000 [==============================] - 2s 40us/step - loss: 1.3136 - acc: 0.5319 - val_loss: 1.3225 - val_acc: 0.5302\n",
      "Epoch 48/50\n",
      "50000/50000 [==============================] - 2s 40us/step - loss: 1.3088 - acc: 0.5308 - val_loss: 1.3249 - val_acc: 0.5240\n",
      "Epoch 49/50\n",
      "50000/50000 [==============================] - 2s 40us/step - loss: 1.2994 - acc: 0.5351 - val_loss: 1.3324 - val_acc: 0.5248\n",
      "Epoch 50/50\n",
      "50000/50000 [==============================] - 2s 40us/step - loss: 1.2938 - acc: 0.5366 - val_loss: 1.3143 - val_acc: 0.5337\n"
     ]
    }
   ],
   "source": [
    "model = build_mlp(input_shape=x_train.shape[1:], drp_ratio=Dropout_EXP)\n",
    "model.summary()\n",
    "optimizer = keras.optimizers.SGD(lr=LEARNING_RATE, nesterov=True, momentum=MOMENTUM)\n",
    "model.compile(loss=\"categorical_crossentropy\", metrics=[\"accuracy\"], optimizer=optimizer)\n",
    "\n",
    "model.fit(x_train, y_train, \n",
    "          epochs=EPOCHS, \n",
    "          batch_size=BATCH_SIZE, \n",
    "          validation_data=(x_test, y_test), \n",
    "          shuffle=True)\n",
    "\n",
    "# Collect results\n",
    "train_loss = model.history.history[\"loss\"]\n",
    "valid_loss = model.history.history[\"val_loss\"]\n",
    "train_acc = model.history.history[\"acc\"]\n",
    "valid_acc = model.history.history[\"val_acc\"]"
   ]
  },
  {
   "cell_type": "code",
   "execution_count": 9,
   "metadata": {},
   "outputs": [
    {
     "data": {
      "image/png": "[encoded data removed]",
      "text/plain": [
       "<Figure size 432x288 with 1 Axes>"
      ]
     },
     "metadata": {
      "needs_background": "light"
     },
     "output_type": "display_data"
    },
    {
     "data": {
      "image/png": "[encoded data removed]",
      "text/plain": [
       "<Figure size 432x288 with 1 Axes>"
      ]
     },
     "metadata": {
      "needs_background": "light"
     },
     "output_type": "display_data"
    }
   ],
   "source": [
    "import matplotlib.pyplot as plt\n",
    "%matplotlib inline\n",
    "\n",
    "plt.plot(range(len(train_loss)), train_loss, label=\"train loss\")\n",
    "plt.plot(range(len(valid_loss)), valid_loss, label=\"valid loss\")\n",
    "plt.legend()\n",
    "plt.title(\"Loss\")\n",
    "plt.show()\n",
    "\n",
    "plt.plot(range(len(train_acc)), train_acc, label=\"train accuracy\")\n",
    "plt.plot(range(len(valid_acc)), valid_acc, label=\"valid accuracy\")\n",
    "plt.legend()\n",
    "plt.title(\"Accuracy\")\n",
    "plt.show()"
   ]
  },
  {
   "cell_type": "markdown",
   "metadata": {},
   "source": [
    "## Work\n",
    "1. 請比較使用不同層數以及不同 Dropout rate 對訓練的效果\n",
    "2. 將 optimizer 改成使用 Adam 並加上適當的 dropout rate 檢視結果"
   ]
  }
 ],
 "metadata": {
  "kernelspec": {
   "display_name": "Python 3",
   "language": "python",
   "name": "python3"
  },
  "language_info": {
   "codemirror_mode": {
    "name": "ipython",
    "version": 3
   },
   "file_extension": ".py",
   "mimetype": "text/x-python",
   "name": "python",
   "nbconvert_exporter": "python",
   "pygments_lexer": "ipython3",
   "version": "3.5.2"
  }
 },
 "nbformat": 4,
 "nbformat_minor": 2
}
