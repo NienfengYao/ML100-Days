{
 "cells": [
  {
   "cell_type": "code",
   "execution_count": 1,
   "metadata": {},
   "outputs": [
    {
     "name": "stdout",
     "output_type": "stream",
     "text": [
      "Mon Mar 25 04:32:50 2019       \n",
      "+-----------------------------------------------------------------------------+\n",
      "| NVIDIA-SMI 415.27       Driver Version: 415.27       CUDA Version: 10.0     |\n",
      "|-------------------------------+----------------------+----------------------+\n",
      "| GPU  Name        Persistence-M| Bus-Id        Disp.A | Volatile Uncorr. ECC |\n",
      "| Fan  Temp  Perf  Pwr:Usage/Cap|         Memory-Usage | GPU-Util  Compute M. |\n",
      "|===============================+======================+======================|\n",
      "|   0  GeForce RTX 2070    Off  | 00000000:02:00.0 Off |                  N/A |\n",
      "|  0%   38C    P8     1W / 175W |    131MiB /  7952MiB |      0%      Default |\n",
      "+-------------------------------+----------------------+----------------------+\n",
      "                                                                               \n",
      "+-----------------------------------------------------------------------------+\n",
      "| Processes:                                                       GPU Memory |\n",
      "|  GPU       PID   Type   Process name                             Usage      |\n",
      "|=============================================================================|\n",
      "+-----------------------------------------------------------------------------+\n"
     ]
    }
   ],
   "source": [
    "## 確認硬體資源\n",
    "!nvidia-smi"
   ]
  },
  {
   "cell_type": "code",
   "execution_count": 2,
   "metadata": {},
   "outputs": [
    {
     "name": "stderr",
     "output_type": "stream",
     "text": [
      "Using TensorFlow backend.\n"
     ]
    }
   ],
   "source": [
    "import os\n",
    "import keras\n",
    "\n",
    "# Disable GPU\n",
    "# os.environ[\"CUDA_VISIBLE_DEVICES\"] = \"\""
   ]
  },
  {
   "cell_type": "code",
   "execution_count": 3,
   "metadata": {},
   "outputs": [],
   "source": [
    "train, test = keras.datasets.cifar10.load_data()"
   ]
  },
  {
   "cell_type": "code",
   "execution_count": 4,
   "metadata": {},
   "outputs": [],
   "source": [
    "## 資料前處理\n",
    "def preproc_x(x, flatten=True):\n",
    "    x = x / 255.\n",
    "    if flatten:\n",
    "        x = x.reshape((len(x), -1))\n",
    "    return x\n",
    "\n",
    "def preproc_y(y, num_classes=10):\n",
    "    if y.shape[-1] == 1:\n",
    "        y = keras.utils.to_categorical(y, num_classes)\n",
    "    return y    "
   ]
  },
  {
   "cell_type": "code",
   "execution_count": 5,
   "metadata": {},
   "outputs": [],
   "source": [
    "x_train, y_train = train\n",
    "x_test, y_test = test\n",
    "\n",
    "# Preproc the inputs\n",
    "x_train = preproc_x(x_train)\n",
    "x_test = preproc_x(x_test)\n",
    "\n",
    "# Preprc the outputs\n",
    "y_train = preproc_y(y_train)\n",
    "y_test = preproc_y(y_test)"
   ]
  },
  {
   "cell_type": "code",
   "execution_count": 6,
   "metadata": {},
   "outputs": [],
   "source": [
    "def build_mlp(input_shape, output_units=10, num_neurons=[512, 256, 128]):\n",
    "    input_layer = keras.layers.Input(input_shape)\n",
    "    \n",
    "    for i, n_units in enumerate(num_neurons):\n",
    "        if i == 0:\n",
    "            x = keras.layers.Dense(units=n_units, activation=\"relu\", name=\"hidden_layer\"+str(i+1))(input_layer)\n",
    "        else:\n",
    "            x = keras.layers.Dense(units=n_units, activation=\"relu\", name=\"hidden_layer\"+str(i+1))(x)\n",
    "    \n",
    "    out = keras.layers.Dense(units=output_units, activation=\"softmax\", name=\"output\")(x)\n",
    "    \n",
    "    model = keras.models.Model(inputs=[input_layer], outputs=[out])\n",
    "    return model"
   ]
  },
  {
   "cell_type": "code",
   "execution_count": 7,
   "metadata": {},
   "outputs": [
    {
     "name": "stdout",
     "output_type": "stream",
     "text": [
      "WARNING:tensorflow:From /usr/local/lib/python3.5/dist-packages/tensorflow/python/framework/op_def_library.py:263: colocate_with (from tensorflow.python.framework.ops) is deprecated and will be removed in a future version.\n",
      "Instructions for updating:\n",
      "Colocations handled automatically by placer.\n",
      "_________________________________________________________________\n",
      "Layer (type)                 Output Shape              Param #   \n",
      "=================================================================\n",
      "input_1 (InputLayer)         (None, 3072)              0         \n",
      "_________________________________________________________________\n",
      "hidden_layer1 (Dense)        (None, 512)               1573376   \n",
      "_________________________________________________________________\n",
      "hidden_layer2 (Dense)        (None, 256)               131328    \n",
      "_________________________________________________________________\n",
      "hidden_layer3 (Dense)        (None, 128)               32896     \n",
      "_________________________________________________________________\n",
      "output (Dense)               (None, 10)                1290      \n",
      "=================================================================\n",
      "Total params: 1,738,890\n",
      "Trainable params: 1,738,890\n",
      "Non-trainable params: 0\n",
      "_________________________________________________________________\n"
     ]
    }
   ],
   "source": [
    "model = build_mlp(input_shape=x_train.shape[1:])\n",
    "model.summary()"
   ]
  },
  {
   "cell_type": "code",
   "execution_count": 8,
   "metadata": {},
   "outputs": [],
   "source": [
    "## 超參數設定\n",
    "LEARNING_RATE = 0.001\n",
    "EPOCHS = 100\n",
    "BATCH_SIZE = 256"
   ]
  },
  {
   "cell_type": "code",
   "execution_count": 9,
   "metadata": {},
   "outputs": [],
   "source": [
    "optimizer = keras.optimizers.Adam(lr=LEARNING_RATE)\n",
    "model.compile(loss=\"categorical_crossentropy\", metrics=[\"accuracy\"], optimizer=optimizer)"
   ]
  },
  {
   "cell_type": "code",
   "execution_count": 10,
   "metadata": {},
   "outputs": [
    {
     "name": "stdout",
     "output_type": "stream",
     "text": [
      "WARNING:tensorflow:From /usr/local/lib/python3.5/dist-packages/tensorflow/python/ops/math_ops.py:3066: to_int32 (from tensorflow.python.ops.math_ops) is deprecated and will be removed in a future version.\n",
      "Instructions for updating:\n",
      "Use tf.cast instead.\n",
      "Train on 50000 samples, validate on 10000 samples\n",
      "Epoch 1/100\n",
      "50000/50000 [==============================] - 9s 171us/step - loss: 1.9429 - acc: 0.2990 - val_loss: 1.7811 - val_acc: 0.3565\n",
      "Epoch 2/100\n",
      "50000/50000 [==============================] - 2s 42us/step - loss: 1.7014 - acc: 0.3921 - val_loss: 1.6477 - val_acc: 0.4107\n",
      "Epoch 3/100\n",
      "50000/50000 [==============================] - 2s 42us/step - loss: 1.6154 - acc: 0.4236 - val_loss: 1.6140 - val_acc: 0.4309\n",
      "Epoch 4/100\n",
      "50000/50000 [==============================] - 2s 42us/step - loss: 1.5560 - acc: 0.4422 - val_loss: 1.5392 - val_acc: 0.4501\n",
      "Epoch 5/100\n",
      "50000/50000 [==============================] - 2s 42us/step - loss: 1.5103 - acc: 0.4624 - val_loss: 1.5156 - val_acc: 0.4582\n",
      "Epoch 6/100\n",
      "50000/50000 [==============================] - 2s 42us/step - loss: 1.4658 - acc: 0.4746 - val_loss: 1.4997 - val_acc: 0.4601\n",
      "Epoch 7/100\n",
      "50000/50000 [==============================] - 2s 42us/step - loss: 1.4398 - acc: 0.4843 - val_loss: 1.5646 - val_acc: 0.4403\n",
      "Epoch 8/100\n",
      "50000/50000 [==============================] - 2s 42us/step - loss: 1.4138 - acc: 0.4942 - val_loss: 1.4762 - val_acc: 0.4800\n",
      "Epoch 9/100\n",
      "50000/50000 [==============================] - 2s 42us/step - loss: 1.3812 - acc: 0.5073 - val_loss: 1.4312 - val_acc: 0.4927\n",
      "Epoch 10/100\n",
      "50000/50000 [==============================] - 2s 42us/step - loss: 1.3484 - acc: 0.5183 - val_loss: 1.4052 - val_acc: 0.4991\n",
      "Epoch 11/100\n",
      "50000/50000 [==============================] - 2s 42us/step - loss: 1.3328 - acc: 0.5215 - val_loss: 1.4078 - val_acc: 0.5045\n",
      "Epoch 12/100\n",
      "50000/50000 [==============================] - 2s 42us/step - loss: 1.2954 - acc: 0.5389 - val_loss: 1.4176 - val_acc: 0.5013\n",
      "Epoch 13/100\n",
      "50000/50000 [==============================] - 2s 42us/step - loss: 1.2726 - acc: 0.5476 - val_loss: 1.4517 - val_acc: 0.4893\n",
      "Epoch 14/100\n",
      "50000/50000 [==============================] - 2s 42us/step - loss: 1.2556 - acc: 0.5513 - val_loss: 1.3746 - val_acc: 0.5201\n",
      "Epoch 15/100\n",
      "50000/50000 [==============================] - 2s 42us/step - loss: 1.2286 - acc: 0.5607 - val_loss: 1.3683 - val_acc: 0.5132\n",
      "Epoch 16/100\n",
      "50000/50000 [==============================] - 2s 42us/step - loss: 1.2181 - acc: 0.5691 - val_loss: 1.3665 - val_acc: 0.5125\n",
      "Epoch 17/100\n",
      "50000/50000 [==============================] - 2s 42us/step - loss: 1.1926 - acc: 0.5761 - val_loss: 1.3661 - val_acc: 0.5216\n",
      "Epoch 18/100\n",
      "50000/50000 [==============================] - 2s 42us/step - loss: 1.1757 - acc: 0.5800 - val_loss: 1.3377 - val_acc: 0.5317\n",
      "Epoch 19/100\n",
      "50000/50000 [==============================] - 2s 42us/step - loss: 1.1449 - acc: 0.5918 - val_loss: 1.3684 - val_acc: 0.5186\n",
      "Epoch 20/100\n",
      "50000/50000 [==============================] - 2s 42us/step - loss: 1.1358 - acc: 0.5947 - val_loss: 1.3329 - val_acc: 0.5386\n",
      "Epoch 21/100\n",
      "50000/50000 [==============================] - 2s 42us/step - loss: 1.1143 - acc: 0.6047 - val_loss: 1.3386 - val_acc: 0.5333\n",
      "Epoch 22/100\n",
      "50000/50000 [==============================] - 2s 42us/step - loss: 1.0944 - acc: 0.6101 - val_loss: 1.4102 - val_acc: 0.5132\n",
      "Epoch 23/100\n",
      "50000/50000 [==============================] - 2s 42us/step - loss: 1.0729 - acc: 0.6166 - val_loss: 1.4014 - val_acc: 0.5171\n",
      "Epoch 24/100\n",
      "50000/50000 [==============================] - 2s 42us/step - loss: 1.0540 - acc: 0.6248 - val_loss: 1.3438 - val_acc: 0.5373\n",
      "Epoch 25/100\n",
      "50000/50000 [==============================] - 2s 42us/step - loss: 1.0329 - acc: 0.6322 - val_loss: 1.4014 - val_acc: 0.5318\n",
      "Epoch 26/100\n",
      "50000/50000 [==============================] - 2s 42us/step - loss: 1.0243 - acc: 0.6336 - val_loss: 1.3580 - val_acc: 0.5301\n",
      "Epoch 27/100\n",
      "50000/50000 [==============================] - 2s 42us/step - loss: 0.9909 - acc: 0.6479 - val_loss: 1.3924 - val_acc: 0.5310\n",
      "Epoch 28/100\n",
      "50000/50000 [==============================] - 2s 42us/step - loss: 0.9899 - acc: 0.6446 - val_loss: 1.3984 - val_acc: 0.5216\n",
      "Epoch 29/100\n",
      "50000/50000 [==============================] - 2s 42us/step - loss: 0.9635 - acc: 0.6540 - val_loss: 1.4393 - val_acc: 0.5291\n",
      "Epoch 30/100\n",
      "50000/50000 [==============================] - 2s 42us/step - loss: 0.9467 - acc: 0.6622 - val_loss: 1.4199 - val_acc: 0.5250\n",
      "Epoch 31/100\n",
      "50000/50000 [==============================] - 2s 42us/step - loss: 0.9305 - acc: 0.6683 - val_loss: 1.4075 - val_acc: 0.5376\n",
      "Epoch 32/100\n",
      "50000/50000 [==============================] - 2s 42us/step - loss: 0.9161 - acc: 0.6725 - val_loss: 1.4557 - val_acc: 0.5203\n",
      "Epoch 33/100\n",
      "50000/50000 [==============================] - 2s 42us/step - loss: 0.8959 - acc: 0.6801 - val_loss: 1.4476 - val_acc: 0.5286\n",
      "Epoch 34/100\n",
      "50000/50000 [==============================] - 2s 42us/step - loss: 0.8780 - acc: 0.6857 - val_loss: 1.4441 - val_acc: 0.5381\n",
      "Epoch 35/100\n",
      "50000/50000 [==============================] - 2s 42us/step - loss: 0.8596 - acc: 0.6929 - val_loss: 1.4833 - val_acc: 0.5332\n",
      "Epoch 36/100\n",
      "50000/50000 [==============================] - 2s 42us/step - loss: 0.8514 - acc: 0.6947 - val_loss: 1.5226 - val_acc: 0.5191\n",
      "Epoch 37/100\n",
      "50000/50000 [==============================] - 2s 42us/step - loss: 0.8267 - acc: 0.7042 - val_loss: 1.5004 - val_acc: 0.5248\n",
      "Epoch 38/100\n",
      "50000/50000 [==============================] - 2s 42us/step - loss: 0.8164 - acc: 0.7073 - val_loss: 1.5330 - val_acc: 0.5216\n",
      "Epoch 39/100\n",
      "50000/50000 [==============================] - 2s 42us/step - loss: 0.7923 - acc: 0.7168 - val_loss: 1.5073 - val_acc: 0.5356\n",
      "Epoch 40/100\n",
      "50000/50000 [==============================] - 2s 42us/step - loss: 0.7748 - acc: 0.7225 - val_loss: 1.5258 - val_acc: 0.5279\n",
      "Epoch 41/100\n",
      "50000/50000 [==============================] - 2s 42us/step - loss: 0.7668 - acc: 0.7260 - val_loss: 1.5793 - val_acc: 0.5324\n",
      "Epoch 42/100\n",
      "50000/50000 [==============================] - 2s 42us/step - loss: 0.7625 - acc: 0.7258 - val_loss: 1.5574 - val_acc: 0.5254\n",
      "Epoch 43/100\n",
      "50000/50000 [==============================] - 2s 42us/step - loss: 0.7468 - acc: 0.7310 - val_loss: 1.5788 - val_acc: 0.5223\n",
      "Epoch 44/100\n",
      "50000/50000 [==============================] - 2s 42us/step - loss: 0.7431 - acc: 0.7351 - val_loss: 1.6540 - val_acc: 0.5186\n",
      "Epoch 45/100\n",
      "50000/50000 [==============================] - 2s 42us/step - loss: 0.7137 - acc: 0.7462 - val_loss: 1.6189 - val_acc: 0.5286\n",
      "Epoch 46/100\n",
      "50000/50000 [==============================] - 2s 42us/step - loss: 0.7044 - acc: 0.7493 - val_loss: 1.7068 - val_acc: 0.5180\n",
      "Epoch 47/100\n",
      "50000/50000 [==============================] - 2s 42us/step - loss: 0.6817 - acc: 0.7563 - val_loss: 1.6952 - val_acc: 0.5195\n",
      "Epoch 48/100\n",
      "50000/50000 [==============================] - 2s 42us/step - loss: 0.6792 - acc: 0.7556 - val_loss: 1.7388 - val_acc: 0.5237\n",
      "Epoch 49/100\n",
      "50000/50000 [==============================] - 2s 42us/step - loss: 0.6521 - acc: 0.7658 - val_loss: 1.7314 - val_acc: 0.5255\n",
      "Epoch 50/100\n",
      "50000/50000 [==============================] - 2s 42us/step - loss: 0.6507 - acc: 0.7681 - val_loss: 1.8160 - val_acc: 0.5106\n",
      "Epoch 51/100\n",
      "50000/50000 [==============================] - 2s 42us/step - loss: 0.6288 - acc: 0.7760 - val_loss: 1.8009 - val_acc: 0.5261\n",
      "Epoch 52/100\n",
      "50000/50000 [==============================] - 2s 42us/step - loss: 0.6208 - acc: 0.7759 - val_loss: 1.8039 - val_acc: 0.5193\n",
      "Epoch 53/100\n",
      "50000/50000 [==============================] - 2s 42us/step - loss: 0.6190 - acc: 0.7798 - val_loss: 1.7896 - val_acc: 0.5229\n",
      "Epoch 54/100\n",
      "50000/50000 [==============================] - 2s 42us/step - loss: 0.6034 - acc: 0.7829 - val_loss: 1.8248 - val_acc: 0.5213\n",
      "Epoch 55/100\n",
      "50000/50000 [==============================] - 2s 42us/step - loss: 0.5822 - acc: 0.7921 - val_loss: 1.8860 - val_acc: 0.5129\n",
      "Epoch 56/100\n",
      "50000/50000 [==============================] - 2s 42us/step - loss: 0.5972 - acc: 0.7850 - val_loss: 1.9241 - val_acc: 0.4947\n",
      "Epoch 57/100\n",
      "50000/50000 [==============================] - 2s 42us/step - loss: 0.5709 - acc: 0.7962 - val_loss: 1.9361 - val_acc: 0.5160\n"
     ]
    },
    {
     "name": "stdout",
     "output_type": "stream",
     "text": [
      "Epoch 58/100\n",
      "50000/50000 [==============================] - 2s 42us/step - loss: 0.5472 - acc: 0.8050 - val_loss: 1.9479 - val_acc: 0.5171\n",
      "Epoch 59/100\n",
      "50000/50000 [==============================] - 2s 42us/step - loss: 0.5460 - acc: 0.8054 - val_loss: 1.9994 - val_acc: 0.5194\n",
      "Epoch 60/100\n",
      "50000/50000 [==============================] - 2s 42us/step - loss: 0.5463 - acc: 0.8028 - val_loss: 1.9778 - val_acc: 0.5073\n",
      "Epoch 61/100\n",
      "50000/50000 [==============================] - 2s 42us/step - loss: 0.5450 - acc: 0.8048 - val_loss: 1.9797 - val_acc: 0.5179\n",
      "Epoch 62/100\n",
      "50000/50000 [==============================] - 2s 42us/step - loss: 0.5253 - acc: 0.8114 - val_loss: 2.0212 - val_acc: 0.5111\n",
      "Epoch 63/100\n",
      "50000/50000 [==============================] - 2s 42us/step - loss: 0.5055 - acc: 0.8192 - val_loss: 2.0917 - val_acc: 0.5121\n",
      "Epoch 64/100\n",
      "50000/50000 [==============================] - 2s 42us/step - loss: 0.4991 - acc: 0.8213 - val_loss: 2.0909 - val_acc: 0.5170\n",
      "Epoch 65/100\n",
      "50000/50000 [==============================] - 2s 42us/step - loss: 0.4867 - acc: 0.8262 - val_loss: 2.2055 - val_acc: 0.5040\n",
      "Epoch 66/100\n",
      "50000/50000 [==============================] - 2s 42us/step - loss: 0.5001 - acc: 0.8210 - val_loss: 2.1456 - val_acc: 0.5134\n",
      "Epoch 67/100\n",
      "50000/50000 [==============================] - 2s 42us/step - loss: 0.4578 - acc: 0.8364 - val_loss: 2.2054 - val_acc: 0.5099\n",
      "Epoch 68/100\n",
      "50000/50000 [==============================] - 2s 42us/step - loss: 0.4645 - acc: 0.8350 - val_loss: 2.2489 - val_acc: 0.5110\n",
      "Epoch 69/100\n",
      "50000/50000 [==============================] - 2s 42us/step - loss: 0.4614 - acc: 0.8347 - val_loss: 2.2342 - val_acc: 0.5179\n",
      "Epoch 70/100\n",
      "50000/50000 [==============================] - 2s 42us/step - loss: 0.4525 - acc: 0.8373 - val_loss: 2.2882 - val_acc: 0.5098\n",
      "Epoch 71/100\n",
      "50000/50000 [==============================] - 2s 42us/step - loss: 0.4407 - acc: 0.8426 - val_loss: 2.2831 - val_acc: 0.5022\n",
      "Epoch 72/100\n",
      "50000/50000 [==============================] - 2s 42us/step - loss: 0.4233 - acc: 0.8478 - val_loss: 2.4104 - val_acc: 0.5063\n",
      "Epoch 73/100\n",
      "50000/50000 [==============================] - 2s 42us/step - loss: 0.4242 - acc: 0.8492 - val_loss: 2.3163 - val_acc: 0.5009\n",
      "Epoch 74/100\n",
      "50000/50000 [==============================] - 2s 42us/step - loss: 0.4222 - acc: 0.8484 - val_loss: 2.3704 - val_acc: 0.5038\n",
      "Epoch 75/100\n",
      "50000/50000 [==============================] - 2s 42us/step - loss: 0.4318 - acc: 0.8444 - val_loss: 2.4126 - val_acc: 0.5041\n",
      "Epoch 76/100\n",
      "50000/50000 [==============================] - 2s 42us/step - loss: 0.4014 - acc: 0.8570 - val_loss: 2.4907 - val_acc: 0.5111\n",
      "Epoch 77/100\n",
      "50000/50000 [==============================] - 2s 42us/step - loss: 0.4099 - acc: 0.8549 - val_loss: 2.4769 - val_acc: 0.5100\n",
      "Epoch 78/100\n",
      "50000/50000 [==============================] - 2s 42us/step - loss: 0.3878 - acc: 0.8617 - val_loss: 2.5993 - val_acc: 0.4991\n",
      "Epoch 79/100\n",
      "50000/50000 [==============================] - 2s 42us/step - loss: 0.4068 - acc: 0.8523 - val_loss: 2.5463 - val_acc: 0.5058\n",
      "Epoch 80/100\n",
      "50000/50000 [==============================] - 2s 42us/step - loss: 0.3862 - acc: 0.8622 - val_loss: 2.5829 - val_acc: 0.5001\n",
      "Epoch 81/100\n",
      "50000/50000 [==============================] - 2s 42us/step - loss: 0.3775 - acc: 0.8644 - val_loss: 2.6361 - val_acc: 0.5070\n",
      "Epoch 82/100\n",
      "50000/50000 [==============================] - 2s 42us/step - loss: 0.3881 - acc: 0.8612 - val_loss: 2.5721 - val_acc: 0.5063\n",
      "Epoch 83/100\n",
      "50000/50000 [==============================] - 2s 42us/step - loss: 0.3711 - acc: 0.8665 - val_loss: 2.5802 - val_acc: 0.5038\n",
      "Epoch 84/100\n",
      "50000/50000 [==============================] - 2s 42us/step - loss: 0.3556 - acc: 0.8722 - val_loss: 2.6359 - val_acc: 0.5040\n",
      "Epoch 85/100\n",
      "50000/50000 [==============================] - 2s 42us/step - loss: 0.3530 - acc: 0.8748 - val_loss: 2.6830 - val_acc: 0.5113\n",
      "Epoch 86/100\n",
      "50000/50000 [==============================] - 2s 42us/step - loss: 0.3455 - acc: 0.8752 - val_loss: 2.6423 - val_acc: 0.5051\n",
      "Epoch 87/100\n",
      "50000/50000 [==============================] - 2s 42us/step - loss: 0.3362 - acc: 0.8791 - val_loss: 2.7476 - val_acc: 0.5045\n",
      "Epoch 88/100\n",
      "50000/50000 [==============================] - 2s 42us/step - loss: 0.3610 - acc: 0.8710 - val_loss: 2.7934 - val_acc: 0.4934\n",
      "Epoch 89/100\n",
      "50000/50000 [==============================] - 2s 42us/step - loss: 0.3508 - acc: 0.8739 - val_loss: 2.7833 - val_acc: 0.5036\n",
      "Epoch 90/100\n",
      "50000/50000 [==============================] - 2s 42us/step - loss: 0.3524 - acc: 0.8723 - val_loss: 2.8603 - val_acc: 0.4952\n",
      "Epoch 91/100\n",
      "50000/50000 [==============================] - 2s 42us/step - loss: 0.3267 - acc: 0.8838 - val_loss: 2.8893 - val_acc: 0.4955\n",
      "Epoch 92/100\n",
      "50000/50000 [==============================] - 2s 42us/step - loss: 0.3343 - acc: 0.8816 - val_loss: 2.8454 - val_acc: 0.5111\n",
      "Epoch 93/100\n",
      "50000/50000 [==============================] - 2s 42us/step - loss: 0.3105 - acc: 0.8876 - val_loss: 2.8232 - val_acc: 0.5134\n",
      "Epoch 94/100\n",
      "50000/50000 [==============================] - 2s 42us/step - loss: 0.3084 - acc: 0.8896 - val_loss: 3.0164 - val_acc: 0.4918\n",
      "Epoch 95/100\n",
      "50000/50000 [==============================] - 2s 42us/step - loss: 0.3248 - acc: 0.8818 - val_loss: 2.8933 - val_acc: 0.5053\n",
      "Epoch 96/100\n",
      "50000/50000 [==============================] - 2s 42us/step - loss: 0.3211 - acc: 0.8839 - val_loss: 2.9163 - val_acc: 0.5033\n",
      "Epoch 97/100\n",
      "50000/50000 [==============================] - 2s 42us/step - loss: 0.3202 - acc: 0.8835 - val_loss: 2.9297 - val_acc: 0.5025\n",
      "Epoch 98/100\n",
      "50000/50000 [==============================] - 2s 42us/step - loss: 0.3110 - acc: 0.8894 - val_loss: 2.9658 - val_acc: 0.4957\n",
      "Epoch 99/100\n",
      "50000/50000 [==============================] - 2s 42us/step - loss: 0.2971 - acc: 0.8930 - val_loss: 3.0510 - val_acc: 0.4987\n",
      "Epoch 100/100\n",
      "50000/50000 [==============================] - 2s 42us/step - loss: 0.3233 - acc: 0.8836 - val_loss: 2.9665 - val_acc: 0.5004\n"
     ]
    },
    {
     "data": {
      "text/plain": [
       "<keras.callbacks.History at 0x7fd15c4ed320>"
      ]
     },
     "execution_count": 10,
     "metadata": {},
     "output_type": "execute_result"
    }
   ],
   "source": [
    "model.fit(x_train, y_train, \n",
    "          epochs=EPOCHS, \n",
    "          batch_size=BATCH_SIZE, \n",
    "          validation_data=(x_test, y_test), \n",
    "          shuffle=True)"
   ]
  },
  {
   "cell_type": "code",
   "execution_count": 12,
   "metadata": {},
   "outputs": [
    {
     "data": {
      "image/png": "[encoded data removed]",
      "text/plain": [
       "<Figure size 432x288 with 1 Axes>"
      ]
     },
     "metadata": {
      "needs_background": "light"
     },
     "output_type": "display_data"
    },
    {
     "data": {
      "image/png": "[encoded data removed]",
      "text/plain": [
       "<Figure size 432x288 with 1 Axes>"
      ]
     },
     "metadata": {
      "needs_background": "light"
     },
     "output_type": "display_data"
    }
   ],
   "source": [
    "import matplotlib.pyplot as plt\n",
    "%matplotlib inline\n",
    "\n",
    "\n",
    "train_loss = model.history.history[\"loss\"]\n",
    "valid_loss = model.history.history[\"val_loss\"]\n",
    "\n",
    "train_acc = model.history.history[\"acc\"]\n",
    "valid_acc = model.history.history[\"val_acc\"]\n",
    "\n",
    "plt.plot(range(len(train_loss)), train_loss, label=\"train loss\")\n",
    "plt.plot(range(len(valid_loss)), valid_loss, label=\"valid loss\")\n",
    "plt.legend()\n",
    "plt.title(\"Loss\")\n",
    "plt.show()\n",
    "\n",
    "plt.plot(range(len(train_acc)), train_acc, label=\"train accuracy\")\n",
    "plt.plot(range(len(valid_acc)), valid_acc, label=\"valid accuracy\")\n",
    "plt.legend()\n",
    "plt.title(\"Accuracy\")\n",
    "plt.show()"
   ]
  },
  {
   "cell_type": "markdown",
   "metadata": {},
   "source": [
    "## Work\n",
    "1. 請嘗試將 preproc_x 替換成以每筆資料的 min/max 進行標準化至 -1 ~ 1 間，再進行訓練\n",
    "2. 請嘗試將 mlp 疊更深 (e.g 5~10 層)，進行訓練後觀察 learning curve 的走勢\n",
    "3. (optional) 請改用 GPU 進行訓練 (如果你有 GPU 的話)，比較使用 CPU 與 GPU 的訓練速度"
   ]
  }
 ],
 "metadata": {
  "kernelspec": {
   "display_name": "Python 3",
   "language": "python",
   "name": "python3"
  },
  "language_info": {
   "codemirror_mode": {
    "name": "ipython",
    "version": 3
   },
   "file_extension": ".py",
   "mimetype": "text/x-python",
   "name": "python",
   "nbconvert_exporter": "python",
   "pygments_lexer": "ipython3",
   "version": "3.5.2"
  }
 },
 "nbformat": 4,
 "nbformat_minor": 2
}
