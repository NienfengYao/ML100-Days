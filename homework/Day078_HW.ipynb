{
 "cells": [
  {
   "cell_type": "markdown",
   "metadata": {},
   "source": [
    "## Work\n",
    "1. 請嘗試將 preproc_x 替換成以每筆資料的 min/max 進行標準化至 -1 ~ 1 間，再進行訓練\n",
    "2. 請嘗試將 mlp 疊更深 (e.g 5~10 層)，進行訓練後觀察 learning curve 的走勢\n",
    "  * 看起來，overfitting 的情況更嚴重\n",
    "3. (optional) 請改用 GPU 進行訓練 (如果你有 GPU 的話)，比較使用 CPU 與 GPU 的訓練速度\n",
    "  * 234.17720913887024 seconds --- for GPU\n",
    "  * 918.2194638252258 seconds --- for CPU only"
   ]
  },
  {
   "cell_type": "code",
   "execution_count": 1,
   "metadata": {},
   "outputs": [
    {
     "name": "stdout",
     "output_type": "stream",
     "text": [
      "Mon Mar 25 06:50:34 2019       \n",
      "+-----------------------------------------------------------------------------+\n",
      "| NVIDIA-SMI 415.27       Driver Version: 415.27       CUDA Version: 10.0     |\n",
      "|-------------------------------+----------------------+----------------------+\n",
      "| GPU  Name        Persistence-M| Bus-Id        Disp.A | Volatile Uncorr. ECC |\n",
      "| Fan  Temp  Perf  Pwr:Usage/Cap|         Memory-Usage | GPU-Util  Compute M. |\n",
      "|===============================+======================+======================|\n",
      "|   0  GeForce RTX 2070    Off  | 00000000:02:00.0 Off |                  N/A |\n",
      "|  5%   41C    P8     1W / 175W |    131MiB /  7952MiB |      0%      Default |\n",
      "+-------------------------------+----------------------+----------------------+\n",
      "                                                                               \n",
      "+-----------------------------------------------------------------------------+\n",
      "| Processes:                                                       GPU Memory |\n",
      "|  GPU       PID   Type   Process name                             Usage      |\n",
      "|=============================================================================|\n",
      "+-----------------------------------------------------------------------------+\n"
     ]
    }
   ],
   "source": [
    "## 確認硬體資源\n",
    "\"\"\"\n",
    "Your code here\n",
    "\"\"\"\n",
    "!nvidia-smi"
   ]
  },
  {
   "cell_type": "code",
   "execution_count": 2,
   "metadata": {},
   "outputs": [
    {
     "name": "stderr",
     "output_type": "stream",
     "text": [
      "Using TensorFlow backend.\n"
     ]
    }
   ],
   "source": [
    "import os\n",
    "import keras\n",
    "import time\n",
    "import matplotlib.pyplot as plt\n",
    "%matplotlib inline\n",
    "\n",
    "# Try to enable GPU (optional)\n",
    "\n",
    "# Disable GPU\n",
    "os.environ[\"CUDA_VISIBLE_DEVICES\"] = \"\""
   ]
  },
  {
   "cell_type": "code",
   "execution_count": 3,
   "metadata": {},
   "outputs": [],
   "source": [
    "train, test = keras.datasets.cifar10.load_data()"
   ]
  },
  {
   "cell_type": "code",
   "execution_count": 4,
   "metadata": {},
   "outputs": [],
   "source": [
    "## 資料前處理\n",
    "\"\"\"\n",
    "Your code here\n",
    "\"\"\"\n",
    "def preproc_x(x, flatten=True):\n",
    "    x = ((x - x.min()) / x.max()-x.min())*2 -1\n",
    "    if flatten:\n",
    "        x = x.reshape((len(x), -1))\n",
    "    return x\n",
    "\n",
    "def preproc_y(y, num_classes=10):\n",
    "    if y.shape[-1] == 1:\n",
    "        y = keras.utils.to_categorical(y, num_classes)\n",
    "    return y    "
   ]
  },
  {
   "cell_type": "code",
   "execution_count": 5,
   "metadata": {},
   "outputs": [],
   "source": [
    "x_train, y_train = train\n",
    "x_test, y_test = test\n",
    "\n",
    "# Preproc the inputs\n",
    "x_train = preproc_x(x_train)\n",
    "x_test = preproc_x(x_test)\n",
    "\n",
    "# Preprc the outputs\n",
    "y_train = preproc_y(y_train)\n",
    "y_test = preproc_y(y_test)"
   ]
  },
  {
   "cell_type": "code",
   "execution_count": 6,
   "metadata": {},
   "outputs": [
    {
     "name": "stdout",
     "output_type": "stream",
     "text": [
      "WARNING:tensorflow:From /usr/local/lib/python3.5/dist-packages/tensorflow/python/framework/op_def_library.py:263: colocate_with (from tensorflow.python.framework.ops) is deprecated and will be removed in a future version.\n",
      "Instructions for updating:\n",
      "Colocations handled automatically by placer.\n",
      "_________________________________________________________________\n",
      "Layer (type)                 Output Shape              Param #   \n",
      "=================================================================\n",
      "input_1 (InputLayer)         (None, 3072)              0         \n",
      "_________________________________________________________________\n",
      "hidden_layer1 (Dense)        (None, 512)               1573376   \n",
      "_________________________________________________________________\n",
      "hidden_layer2 (Dense)        (None, 256)               131328    \n",
      "_________________________________________________________________\n",
      "hidden_layer3 (Dense)        (None, 128)               32896     \n",
      "_________________________________________________________________\n",
      "hidden_layer4 (Dense)        (None, 64)                8256      \n",
      "_________________________________________________________________\n",
      "hidden_layer5 (Dense)        (None, 32)                2080      \n",
      "_________________________________________________________________\n",
      "output (Dense)               (None, 10)                330       \n",
      "=================================================================\n",
      "Total params: 1,748,266\n",
      "Trainable params: 1,748,266\n",
      "Non-trainable params: 0\n",
      "_________________________________________________________________\n"
     ]
    }
   ],
   "source": [
    "\"\"\"\n",
    "Your code here\n",
    "\"\"\"\n",
    "def build_mlp(input_shape, output_units=10, num_neurons=[512, 256, 128, 64, 32]):\n",
    "    input_layer = keras.layers.Input(input_shape)\n",
    "    \n",
    "    for i, n_units in enumerate(num_neurons):\n",
    "        if i == 0:\n",
    "            x = keras.layers.Dense(units=n_units, activation=\"relu\", name=\"hidden_layer\"+str(i+1))(input_layer)\n",
    "        else:\n",
    "            x = keras.layers.Dense(units=n_units, activation=\"relu\", name=\"hidden_layer\"+str(i+1))(x)\n",
    "    \n",
    "    out = keras.layers.Dense(units=output_units, activation=\"softmax\", name=\"output\")(x)\n",
    "    \n",
    "    model = keras.models.Model(inputs=[input_layer], outputs=[out])\n",
    "    return model\n",
    "\n",
    "model = build_mlp(input_shape=x_train.shape[1:])\n",
    "model.summary()"
   ]
  },
  {
   "cell_type": "code",
   "execution_count": 7,
   "metadata": {},
   "outputs": [],
   "source": [
    "## 超參數設定\n",
    "LEARNING_RATE = 0.001\n",
    "EPOCHS = 100\n",
    "BATCH_SIZE = 256"
   ]
  },
  {
   "cell_type": "code",
   "execution_count": 8,
   "metadata": {},
   "outputs": [],
   "source": [
    "optimizer = keras.optimizers.Adam(lr=LEARNING_RATE)\n",
    "model.compile(loss=\"categorical_crossentropy\", metrics=[\"accuracy\"], optimizer=optimizer)"
   ]
  },
  {
   "cell_type": "code",
   "execution_count": 9,
   "metadata": {},
   "outputs": [
    {
     "name": "stdout",
     "output_type": "stream",
     "text": [
      "WARNING:tensorflow:From /usr/local/lib/python3.5/dist-packages/tensorflow/python/ops/math_ops.py:3066: to_int32 (from tensorflow.python.ops.math_ops) is deprecated and will be removed in a future version.\n",
      "Instructions for updating:\n",
      "Use tf.cast instead.\n",
      "Train on 50000 samples, validate on 10000 samples\n",
      "Epoch 1/100\n",
      "50000/50000 [==============================] - 10s 197us/step - loss: 1.7321 - acc: 0.3846 - val_loss: 1.5386 - val_acc: 0.4561\n",
      "Epoch 2/100\n",
      "50000/50000 [==============================] - 9s 183us/step - loss: 1.4875 - acc: 0.4752 - val_loss: 1.4481 - val_acc: 0.4879\n",
      "Epoch 3/100\n",
      "50000/50000 [==============================] - 9s 184us/step - loss: 1.3631 - acc: 0.5179 - val_loss: 1.4480 - val_acc: 0.4974\n",
      "Epoch 4/100\n",
      "50000/50000 [==============================] - 9s 183us/step - loss: 1.2753 - acc: 0.5492 - val_loss: 1.3814 - val_acc: 0.5196\n",
      "Epoch 5/100\n",
      "50000/50000 [==============================] - 9s 183us/step - loss: 1.1914 - acc: 0.5804 - val_loss: 1.3585 - val_acc: 0.5198\n",
      "Epoch 6/100\n",
      "50000/50000 [==============================] - 9s 183us/step - loss: 1.1104 - acc: 0.6085 - val_loss: 1.3444 - val_acc: 0.5317\n",
      "Epoch 7/100\n",
      "50000/50000 [==============================] - 9s 184us/step - loss: 1.0421 - acc: 0.6336 - val_loss: 1.3984 - val_acc: 0.5245\n",
      "Epoch 8/100\n",
      "50000/50000 [==============================] - 9s 183us/step - loss: 0.9732 - acc: 0.6571 - val_loss: 1.4058 - val_acc: 0.5254\n",
      "Epoch 9/100\n",
      "50000/50000 [==============================] - 9s 183us/step - loss: 0.8992 - acc: 0.6850 - val_loss: 1.4037 - val_acc: 0.5410\n",
      "Epoch 10/100\n",
      "50000/50000 [==============================] - 9s 183us/step - loss: 0.8310 - acc: 0.7060 - val_loss: 1.4590 - val_acc: 0.5363\n",
      "Epoch 11/100\n",
      "50000/50000 [==============================] - 9s 183us/step - loss: 0.7698 - acc: 0.7256 - val_loss: 1.5309 - val_acc: 0.5312\n",
      "Epoch 12/100\n",
      "50000/50000 [==============================] - 9s 183us/step - loss: 0.7151 - acc: 0.7483 - val_loss: 1.5218 - val_acc: 0.5395\n",
      "Epoch 13/100\n",
      "50000/50000 [==============================] - 9s 183us/step - loss: 0.6508 - acc: 0.7693 - val_loss: 1.5980 - val_acc: 0.5401\n",
      "Epoch 14/100\n",
      "50000/50000 [==============================] - 9s 184us/step - loss: 0.5977 - acc: 0.7891 - val_loss: 1.7021 - val_acc: 0.5298\n",
      "Epoch 15/100\n",
      "50000/50000 [==============================] - 9s 183us/step - loss: 0.5507 - acc: 0.8063 - val_loss: 1.7647 - val_acc: 0.5335\n",
      "Epoch 16/100\n",
      "50000/50000 [==============================] - 9s 184us/step - loss: 0.4988 - acc: 0.8241 - val_loss: 1.8199 - val_acc: 0.5230\n",
      "Epoch 17/100\n",
      "50000/50000 [==============================] - 9s 183us/step - loss: 0.4569 - acc: 0.8391 - val_loss: 1.9242 - val_acc: 0.5370\n",
      "Epoch 18/100\n",
      "50000/50000 [==============================] - 9s 183us/step - loss: 0.4273 - acc: 0.8481 - val_loss: 1.9866 - val_acc: 0.5292\n",
      "Epoch 19/100\n",
      "50000/50000 [==============================] - 9s 184us/step - loss: 0.3864 - acc: 0.8627 - val_loss: 2.2015 - val_acc: 0.5361\n",
      "Epoch 20/100\n",
      "50000/50000 [==============================] - 9s 183us/step - loss: 0.3525 - acc: 0.8758 - val_loss: 2.2147 - val_acc: 0.5369\n",
      "Epoch 21/100\n",
      "50000/50000 [==============================] - 9s 184us/step - loss: 0.3336 - acc: 0.8833 - val_loss: 2.2110 - val_acc: 0.5313\n",
      "Epoch 22/100\n",
      "50000/50000 [==============================] - 9s 183us/step - loss: 0.3170 - acc: 0.8900 - val_loss: 2.3459 - val_acc: 0.5306\n",
      "Epoch 23/100\n",
      "50000/50000 [==============================] - 9s 183us/step - loss: 0.2901 - acc: 0.8980 - val_loss: 2.4395 - val_acc: 0.5226\n",
      "Epoch 24/100\n",
      "50000/50000 [==============================] - 9s 184us/step - loss: 0.2615 - acc: 0.9081 - val_loss: 2.4984 - val_acc: 0.5308\n",
      "Epoch 25/100\n",
      "50000/50000 [==============================] - 9s 184us/step - loss: 0.2623 - acc: 0.9086 - val_loss: 2.5864 - val_acc: 0.5207\n",
      "Epoch 26/100\n",
      "50000/50000 [==============================] - 9s 183us/step - loss: 0.2615 - acc: 0.9091 - val_loss: 2.6317 - val_acc: 0.5303\n",
      "Epoch 27/100\n",
      "50000/50000 [==============================] - 9s 183us/step - loss: 0.2175 - acc: 0.9238 - val_loss: 2.7205 - val_acc: 0.5360\n",
      "Epoch 28/100\n",
      "50000/50000 [==============================] - 9s 184us/step - loss: 0.2190 - acc: 0.9255 - val_loss: 2.7743 - val_acc: 0.5324\n",
      "Epoch 29/100\n",
      "50000/50000 [==============================] - 9s 183us/step - loss: 0.2164 - acc: 0.9256 - val_loss: 2.8243 - val_acc: 0.5281\n",
      "Epoch 30/100\n",
      "50000/50000 [==============================] - 9s 183us/step - loss: 0.1988 - acc: 0.9314 - val_loss: 3.0019 - val_acc: 0.5264\n",
      "Epoch 31/100\n",
      "50000/50000 [==============================] - 9s 183us/step - loss: 0.1821 - acc: 0.9367 - val_loss: 2.9787 - val_acc: 0.5274\n",
      "Epoch 32/100\n",
      "50000/50000 [==============================] - 9s 184us/step - loss: 0.1890 - acc: 0.9347 - val_loss: 3.0091 - val_acc: 0.5194\n",
      "Epoch 33/100\n",
      "50000/50000 [==============================] - 9s 184us/step - loss: 0.2016 - acc: 0.9305 - val_loss: 2.9800 - val_acc: 0.5298\n",
      "Epoch 34/100\n",
      "50000/50000 [==============================] - 9s 183us/step - loss: 0.1548 - acc: 0.9473 - val_loss: 3.0786 - val_acc: 0.5325\n",
      "Epoch 35/100\n",
      "50000/50000 [==============================] - 9s 184us/step - loss: 0.1468 - acc: 0.9505 - val_loss: 3.1035 - val_acc: 0.5309\n",
      "Epoch 36/100\n",
      "50000/50000 [==============================] - 9s 184us/step - loss: 0.1689 - acc: 0.9423 - val_loss: 3.3084 - val_acc: 0.5238\n",
      "Epoch 37/100\n",
      "50000/50000 [==============================] - 9s 183us/step - loss: 0.1577 - acc: 0.9475 - val_loss: 3.3093 - val_acc: 0.5255\n",
      "Epoch 38/100\n",
      "50000/50000 [==============================] - 9s 183us/step - loss: 0.1391 - acc: 0.9531 - val_loss: 3.3562 - val_acc: 0.5216\n",
      "Epoch 39/100\n",
      "50000/50000 [==============================] - 9s 183us/step - loss: 0.1612 - acc: 0.9452 - val_loss: 3.2949 - val_acc: 0.5279\n",
      "Epoch 40/100\n",
      "50000/50000 [==============================] - 9s 183us/step - loss: 0.1583 - acc: 0.9452 - val_loss: 3.2213 - val_acc: 0.5267\n",
      "Epoch 41/100\n",
      "50000/50000 [==============================] - 9s 184us/step - loss: 0.1339 - acc: 0.9543 - val_loss: 3.3409 - val_acc: 0.5327\n",
      "Epoch 42/100\n",
      "50000/50000 [==============================] - 9s 184us/step - loss: 0.1263 - acc: 0.9572 - val_loss: 3.4032 - val_acc: 0.5287\n",
      "Epoch 43/100\n",
      "50000/50000 [==============================] - 9s 183us/step - loss: 0.1406 - acc: 0.9517 - val_loss: 3.4525 - val_acc: 0.5268\n",
      "Epoch 44/100\n",
      "50000/50000 [==============================] - 9s 183us/step - loss: 0.1241 - acc: 0.9585 - val_loss: 3.3786 - val_acc: 0.5295\n",
      "Epoch 45/100\n",
      "50000/50000 [==============================] - 9s 183us/step - loss: 0.1217 - acc: 0.9584 - val_loss: 3.4622 - val_acc: 0.5243\n",
      "Epoch 46/100\n",
      "50000/50000 [==============================] - 9s 183us/step - loss: 0.1375 - acc: 0.9542 - val_loss: 3.4679 - val_acc: 0.5264\n",
      "Epoch 47/100\n",
      "50000/50000 [==============================] - 9s 184us/step - loss: 0.1048 - acc: 0.9647 - val_loss: 3.5866 - val_acc: 0.5281\n",
      "Epoch 48/100\n",
      "50000/50000 [==============================] - 9s 183us/step - loss: 0.1021 - acc: 0.9663 - val_loss: 3.6784 - val_acc: 0.5259\n",
      "Epoch 49/100\n",
      "50000/50000 [==============================] - 9s 184us/step - loss: 0.1410 - acc: 0.9534 - val_loss: 3.4791 - val_acc: 0.5301\n",
      "Epoch 50/100\n",
      "50000/50000 [==============================] - 9s 183us/step - loss: 0.1016 - acc: 0.9649 - val_loss: 3.5585 - val_acc: 0.5326\n",
      "Epoch 51/100\n",
      "50000/50000 [==============================] - 9s 183us/step - loss: 0.1116 - acc: 0.9625 - val_loss: 3.6525 - val_acc: 0.5208\n",
      "Epoch 52/100\n",
      "50000/50000 [==============================] - 9s 184us/step - loss: 0.1208 - acc: 0.9594 - val_loss: 3.5391 - val_acc: 0.5275\n",
      "Epoch 53/100\n",
      "50000/50000 [==============================] - 9s 183us/step - loss: 0.1093 - acc: 0.9641 - val_loss: 3.6209 - val_acc: 0.5308\n",
      "Epoch 54/100\n",
      "50000/50000 [==============================] - 9s 184us/step - loss: 0.1021 - acc: 0.9654 - val_loss: 3.7599 - val_acc: 0.5264\n",
      "Epoch 55/100\n",
      "50000/50000 [==============================] - 9s 183us/step - loss: 0.1115 - acc: 0.9635 - val_loss: 3.6495 - val_acc: 0.5297\n",
      "Epoch 56/100\n",
      "50000/50000 [==============================] - 9s 184us/step - loss: 0.1071 - acc: 0.9652 - val_loss: 3.7330 - val_acc: 0.5269\n",
      "Epoch 57/100\n"
     ]
    },
    {
     "name": "stdout",
     "output_type": "stream",
     "text": [
      "50000/50000 [==============================] - 9s 183us/step - loss: 0.1099 - acc: 0.9635 - val_loss: 3.7297 - val_acc: 0.5247\n",
      "Epoch 58/100\n",
      "50000/50000 [==============================] - 9s 184us/step - loss: 0.0981 - acc: 0.9669 - val_loss: 3.6730 - val_acc: 0.5334\n",
      "Epoch 59/100\n",
      "50000/50000 [==============================] - 9s 183us/step - loss: 0.0962 - acc: 0.9673 - val_loss: 3.6990 - val_acc: 0.5281\n",
      "Epoch 60/100\n",
      "50000/50000 [==============================] - 9s 183us/step - loss: 0.1004 - acc: 0.9671 - val_loss: 3.7252 - val_acc: 0.5242\n",
      "Epoch 61/100\n",
      "50000/50000 [==============================] - 9s 183us/step - loss: 0.1042 - acc: 0.9659 - val_loss: 3.6727 - val_acc: 0.5282\n",
      "Epoch 62/100\n",
      "50000/50000 [==============================] - 9s 184us/step - loss: 0.0870 - acc: 0.9706 - val_loss: 3.8802 - val_acc: 0.5257\n",
      "Epoch 63/100\n",
      "50000/50000 [==============================] - 9s 183us/step - loss: 0.0978 - acc: 0.9681 - val_loss: 3.7151 - val_acc: 0.5237\n",
      "Epoch 64/100\n",
      "50000/50000 [==============================] - 9s 183us/step - loss: 0.0969 - acc: 0.9686 - val_loss: 3.6802 - val_acc: 0.5304\n",
      "Epoch 65/100\n",
      "50000/50000 [==============================] - 9s 183us/step - loss: 0.1077 - acc: 0.9644 - val_loss: 3.6790 - val_acc: 0.5340\n",
      "Epoch 66/100\n",
      "50000/50000 [==============================] - 9s 183us/step - loss: 0.0703 - acc: 0.9769 - val_loss: 3.8504 - val_acc: 0.5246\n",
      "Epoch 67/100\n",
      "50000/50000 [==============================] - 9s 183us/step - loss: 0.0853 - acc: 0.9715 - val_loss: 3.8485 - val_acc: 0.5304\n",
      "Epoch 68/100\n",
      "50000/50000 [==============================] - 9s 183us/step - loss: 0.0957 - acc: 0.9684 - val_loss: 3.9406 - val_acc: 0.5301\n",
      "Epoch 69/100\n",
      "50000/50000 [==============================] - 9s 184us/step - loss: 0.0993 - acc: 0.9676 - val_loss: 3.8419 - val_acc: 0.5367\n",
      "Epoch 70/100\n",
      "50000/50000 [==============================] - 9s 183us/step - loss: 0.0702 - acc: 0.9765 - val_loss: 3.9679 - val_acc: 0.5321\n",
      "Epoch 71/100\n",
      "50000/50000 [==============================] - 9s 183us/step - loss: 0.0923 - acc: 0.9703 - val_loss: 3.7539 - val_acc: 0.5305\n",
      "Epoch 72/100\n",
      "50000/50000 [==============================] - 9s 183us/step - loss: 0.0856 - acc: 0.9729 - val_loss: 3.7778 - val_acc: 0.5309\n",
      "Epoch 73/100\n",
      "50000/50000 [==============================] - 9s 183us/step - loss: 0.0877 - acc: 0.9709 - val_loss: 3.8031 - val_acc: 0.5274\n",
      "Epoch 74/100\n",
      "50000/50000 [==============================] - 9s 183us/step - loss: 0.0685 - acc: 0.9767 - val_loss: 3.9358 - val_acc: 0.5255\n",
      "Epoch 75/100\n",
      "50000/50000 [==============================] - 9s 183us/step - loss: 0.0973 - acc: 0.9683 - val_loss: 3.9355 - val_acc: 0.5268\n",
      "Epoch 76/100\n",
      "50000/50000 [==============================] - 9s 185us/step - loss: 0.0805 - acc: 0.9734 - val_loss: 3.8997 - val_acc: 0.5254\n",
      "Epoch 77/100\n",
      "50000/50000 [==============================] - 9s 183us/step - loss: 0.0678 - acc: 0.9778 - val_loss: 3.8640 - val_acc: 0.5269\n",
      "Epoch 78/100\n",
      "50000/50000 [==============================] - 9s 183us/step - loss: 0.0837 - acc: 0.9737 - val_loss: 3.8663 - val_acc: 0.5312\n",
      "Epoch 79/100\n",
      "50000/50000 [==============================] - 9s 183us/step - loss: 0.0993 - acc: 0.9679 - val_loss: 3.9225 - val_acc: 0.5264\n",
      "Epoch 80/100\n",
      "50000/50000 [==============================] - 9s 183us/step - loss: 0.0678 - acc: 0.9783 - val_loss: 3.9811 - val_acc: 0.5275\n",
      "Epoch 81/100\n",
      "50000/50000 [==============================] - 9s 183us/step - loss: 0.0838 - acc: 0.9738 - val_loss: 3.8641 - val_acc: 0.5303\n",
      "Epoch 82/100\n",
      "50000/50000 [==============================] - 9s 183us/step - loss: 0.0697 - acc: 0.9775 - val_loss: 3.9104 - val_acc: 0.5300\n",
      "Epoch 83/100\n",
      "50000/50000 [==============================] - 9s 184us/step - loss: 0.0572 - acc: 0.9807 - val_loss: 3.9947 - val_acc: 0.5321\n",
      "Epoch 84/100\n",
      "50000/50000 [==============================] - 9s 184us/step - loss: 0.0866 - acc: 0.9717 - val_loss: 3.9512 - val_acc: 0.5313\n",
      "Epoch 85/100\n",
      "50000/50000 [==============================] - 9s 183us/step - loss: 0.0925 - acc: 0.9701 - val_loss: 3.8510 - val_acc: 0.5328\n",
      "Epoch 86/100\n",
      "50000/50000 [==============================] - 9s 183us/step - loss: 0.0627 - acc: 0.9797 - val_loss: 3.9746 - val_acc: 0.5330\n",
      "Epoch 87/100\n",
      "50000/50000 [==============================] - 9s 183us/step - loss: 0.0693 - acc: 0.9777 - val_loss: 3.9149 - val_acc: 0.5330\n",
      "Epoch 88/100\n",
      "50000/50000 [==============================] - 9s 183us/step - loss: 0.0561 - acc: 0.9818 - val_loss: 4.0757 - val_acc: 0.5328\n",
      "Epoch 89/100\n",
      "50000/50000 [==============================] - 9s 183us/step - loss: 0.0679 - acc: 0.9784 - val_loss: 4.1524 - val_acc: 0.5268\n",
      "Epoch 90/100\n",
      "50000/50000 [==============================] - 9s 185us/step - loss: 0.0892 - acc: 0.9717 - val_loss: 3.9208 - val_acc: 0.5310\n",
      "Epoch 91/100\n",
      "50000/50000 [==============================] - 9s 184us/step - loss: 0.0740 - acc: 0.9766 - val_loss: 3.9830 - val_acc: 0.5301\n",
      "Epoch 92/100\n",
      "50000/50000 [==============================] - 9s 183us/step - loss: 0.0728 - acc: 0.9767 - val_loss: 3.8373 - val_acc: 0.5284\n",
      "Epoch 93/100\n",
      "50000/50000 [==============================] - 9s 183us/step - loss: 0.0509 - acc: 0.9836 - val_loss: 4.0693 - val_acc: 0.5307\n",
      "Epoch 94/100\n",
      "50000/50000 [==============================] - 9s 183us/step - loss: 0.0666 - acc: 0.9779 - val_loss: 4.0992 - val_acc: 0.5225\n",
      "Epoch 95/100\n",
      "50000/50000 [==============================] - 9s 184us/step - loss: 0.0598 - acc: 0.9810 - val_loss: 4.2186 - val_acc: 0.5289\n",
      "Epoch 96/100\n",
      "50000/50000 [==============================] - 9s 183us/step - loss: 0.0872 - acc: 0.9725 - val_loss: 4.0683 - val_acc: 0.5279\n",
      "Epoch 97/100\n",
      "50000/50000 [==============================] - 9s 185us/step - loss: 0.0679 - acc: 0.9783 - val_loss: 3.9848 - val_acc: 0.5349\n",
      "Epoch 98/100\n",
      "50000/50000 [==============================] - 9s 183us/step - loss: 0.0445 - acc: 0.9854 - val_loss: 4.1267 - val_acc: 0.5313\n",
      "Epoch 99/100\n",
      "50000/50000 [==============================] - 9s 183us/step - loss: 0.0763 - acc: 0.9756 - val_loss: 4.0081 - val_acc: 0.5304\n",
      "Epoch 100/100\n",
      "50000/50000 [==============================] - 9s 183us/step - loss: 0.0443 - acc: 0.9861 - val_loss: 4.1865 - val_acc: 0.5299\n",
      "--- 918.2194638252258 seconds ---\n"
     ]
    }
   ],
   "source": [
    "start_time = time.time()\n",
    "model.fit(x_train, y_train, \n",
    "          epochs=EPOCHS, \n",
    "          batch_size=BATCH_SIZE, \n",
    "          validation_data=(x_test, y_test), \n",
    "          shuffle=True)\n",
    "print(\"--- %s seconds ---\" % (time.time() - start_time))"
   ]
  },
  {
   "cell_type": "code",
   "execution_count": 10,
   "metadata": {},
   "outputs": [
    {
     "data": {
      "image/png": "[encoded data removed]",
      "text/plain": [
       "<Figure size 432x288 with 1 Axes>"
      ]
     },
     "metadata": {
      "needs_background": "light"
     },
     "output_type": "display_data"
    },
    {
     "data": {
      "image/png": "[encoded data removed]",
      "text/plain": [
       "<Figure size 432x288 with 1 Axes>"
      ]
     },
     "metadata": {
      "needs_background": "light"
     },
     "output_type": "display_data"
    }
   ],
   "source": [
    "train_loss = model.history.history[\"loss\"]\n",
    "valid_loss = model.history.history[\"val_loss\"]\n",
    "\n",
    "train_acc = model.history.history[\"acc\"]\n",
    "valid_acc = model.history.history[\"val_acc\"]\n",
    "\n",
    "plt.plot(range(len(train_loss)), train_loss, label=\"train loss\")\n",
    "plt.plot(range(len(valid_loss)), valid_loss, label=\"valid loss\")\n",
    "plt.legend()\n",
    "plt.title(\"Loss\")\n",
    "plt.show()\n",
    "\n",
    "plt.plot(range(len(train_acc)), train_acc, label=\"train accuracy\")\n",
    "plt.plot(range(len(valid_acc)), valid_acc, label=\"valid accuracy\")\n",
    "plt.legend()\n",
    "plt.title(\"Accuracy\")\n",
    "plt.show()"
   ]
  }
 ],
 "metadata": {
  "kernelspec": {
   "display_name": "Python 3",
   "language": "python",
   "name": "python3"
  },
  "language_info": {
   "codemirror_mode": {
    "name": "ipython",
    "version": 3
   },
   "file_extension": ".py",
   "mimetype": "text/x-python",
   "name": "python",
   "nbconvert_exporter": "python",
   "pygments_lexer": "ipython3",
   "version": "3.5.2"
  }
 },
 "nbformat": 4,
 "nbformat_minor": 2
}
