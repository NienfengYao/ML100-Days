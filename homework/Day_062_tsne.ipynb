{
 "cells": [
  {
   "cell_type": "markdown",
   "metadata": {},
   "source": [
    "# t-SNE 範例\n",
    "* 觀察雙同心圓使用 t-SNE 不同 perplexity 的分群效果"
   ]
  },
  {
   "cell_type": "code",
   "execution_count": null,
   "metadata": {},
   "outputs": [],
   "source": [
    "# 載入套件\n",
    "import numpy as np\n",
    "import matplotlib.pyplot as plt\n",
    "\n",
    "from matplotlib.ticker import NullFormatter\n",
    "from sklearn import manifold, datasets\n",
    "from time import time"
   ]
  },
  {
   "cell_type": "code",
   "execution_count": null,
   "metadata": {},
   "outputs": [],
   "source": [
    "# 設定模型與繪圖參數\n",
    "n_samples = 300\n",
    "n_components = 2\n",
    "(fig, subplots) = plt.subplots(2, 5, figsize=(15, 6))\n",
    "perplexities = [4, 6, 9, 14, 21, 30, 45, 66, 100]\n",
    "\n",
    "# 設定同心圓資料點 \n",
    "X, y = datasets.make_circles(n_samples=n_samples, factor=.5, noise=.05)\n",
    "red = y == 0 # 將 y 為 0 的 index set 存成變數 red\n",
    "green = y == 1 # 將 y 為 1 的 index set 存成變數 green"
   ]
  },
  {
   "cell_type": "code",
   "execution_count": null,
   "metadata": {},
   "outputs": [],
   "source": [
    "# 繪製資料原圖\n",
    "ax = subplots[0][0]\n",
    "ax.set_title(\"Original\")\n",
    "ax.scatter(X[red, 0], X[red, 1], c=\"r\")\n",
    "ax.scatter(X[green, 0], X[green, 1], c=\"g\")\n",
    "ax.xaxis.set_major_formatter(NullFormatter())\n",
    "ax.yaxis.set_major_formatter(NullFormatter())\n",
    "plt.axis('tight')"
   ]
  },
  {
   "cell_type": "code",
   "execution_count": null,
   "metadata": {},
   "outputs": [],
   "source": [
    "# 繪製不同 perplexity 下的 t-SNE 分群圖\n",
    "for i, perplexity in enumerate(perplexities):\n",
    "    if i<4:\n",
    "        ax = subplots[0][i+1]\n",
    "    else:\n",
    "        ax = subplots[1][i-4]\n",
    "\n",
    "    t0 = time()\n",
    "    tsne = manifold.TSNE(n_components=n_components, init='random',\n",
    "                         random_state=0, perplexity=perplexity)\n",
    "    Y = tsne.fit_transform(X)\n",
    "    t1 = time()\n",
    "    print(\"circles, perplexity=%d in %.2g sec\" % (perplexity, t1 - t0))\n",
    "    ax.set_title(\"Perplexity=%d\" % perplexity)\n",
    "    ax.scatter(Y[red, 0], Y[red, 1], c=\"r\")\n",
    "    ax.scatter(Y[green, 0], Y[green, 1], c=\"g\")\n",
    "    ax.xaxis.set_major_formatter(NullFormatter())\n",
    "    ax.yaxis.set_major_formatter(NullFormatter())\n",
    "    ax.axis('tight')\n",
    "    \n",
    "plt.show()"
   ]
  },
  {
   "cell_type": "markdown",
   "metadata": {},
   "source": [
    "# 觀察結果\n",
    "* perplexity 越低時, 圖形越零散, 越高時不僅分群好, 也讓圖形更接近原圖\n",
    "* 但 perplexity 越高, 執行時間也越久"
   ]
  },
  {
   "cell_type": "markdown",
   "metadata": {},
   "source": [
    "# 作業\n",
    "* 將原始資料集換為S型圖, 觀察不同 perplexity 下的流形還原結果"
   ]
  },
  {
   "cell_type": "code",
   "execution_count": null,
   "metadata": {},
   "outputs": [],
   "source": []
  }
 ],
 "metadata": {
  "kernelspec": {
   "display_name": "Python 3",
   "language": "python",
   "name": "python3"
  },
  "language_info": {
   "codemirror_mode": {
    "name": "ipython",
    "version": 3
   },
   "file_extension": ".py",
   "mimetype": "text/x-python",
   "name": "python",
   "nbconvert_exporter": "python",
   "pygments_lexer": "ipython3",
   "version": "3.5.2"
  }
 },
 "nbformat": 4,
 "nbformat_minor": 1
}
