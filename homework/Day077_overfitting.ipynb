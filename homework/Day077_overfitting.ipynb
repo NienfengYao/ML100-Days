{
 "cells": [
  {
   "cell_type": "code",
   "execution_count": 1,
   "metadata": {},
   "outputs": [
    {
     "name": "stderr",
     "output_type": "stream",
     "text": [
      "Using TensorFlow backend.\n"
     ]
    }
   ],
   "source": [
    "import os\n",
    "import keras\n",
    "\n",
    "# Disable GPU\n",
    "# os.environ[\"CUDA_VISIBLE_DEVICES\"] = \"\""
   ]
  },
  {
   "cell_type": "code",
   "execution_count": 2,
   "metadata": {},
   "outputs": [],
   "source": [
    "train, test = keras.datasets.cifar10.load_data()"
   ]
  },
  {
   "cell_type": "code",
   "execution_count": 3,
   "metadata": {},
   "outputs": [],
   "source": [
    "x_train, y_train = train\n",
    "x_test, y_test = test\n",
    "x_train = x_train / 255.\n",
    "x_test = x_test / 255.\n",
    "\n",
    "# Flatten the images\n",
    "x_train = x_train.reshape((len(x_train), -1))\n",
    "x_test = x_test.reshape((len(x_test), -1))\n",
    "\n",
    "# Convert y to onehot\n",
    "y_train = keras.utils.to_categorical(y_train, num_classes=10)\n",
    "y_test = keras.utils.to_categorical(y_test, num_classes=10)"
   ]
  },
  {
   "cell_type": "code",
   "execution_count": 4,
   "metadata": {},
   "outputs": [],
   "source": [
    "def build_mlp():\n",
    "    input_layer = keras.layers.Input([x_train.shape[-1]])\n",
    "    x = keras.layers.Dense(units=512, activation=\"relu\")(input_layer)\n",
    "    x = keras.layers.Dense(units=256, activation=\"relu\")(x)\n",
    "    x = keras.layers.Dense(units=128, activation=\"relu\")(x)\n",
    "    out = keras.layers.Dense(units=10, activation=\"softmax\")(x)\n",
    "    \n",
    "    model = keras.models.Model(inputs=[input_layer], outputs=[out])\n",
    "    return model"
   ]
  },
  {
   "cell_type": "code",
   "execution_count": 5,
   "metadata": {},
   "outputs": [
    {
     "name": "stdout",
     "output_type": "stream",
     "text": [
      "WARNING:tensorflow:From /usr/local/lib/python3.5/dist-packages/tensorflow/python/framework/op_def_library.py:263: colocate_with (from tensorflow.python.framework.ops) is deprecated and will be removed in a future version.\n",
      "Instructions for updating:\n",
      "Colocations handled automatically by placer.\n",
      "_________________________________________________________________\n",
      "Layer (type)                 Output Shape              Param #   \n",
      "=================================================================\n",
      "input_1 (InputLayer)         (None, 3072)              0         \n",
      "_________________________________________________________________\n",
      "dense_1 (Dense)              (None, 512)               1573376   \n",
      "_________________________________________________________________\n",
      "dense_2 (Dense)              (None, 256)               131328    \n",
      "_________________________________________________________________\n",
      "dense_3 (Dense)              (None, 128)               32896     \n",
      "_________________________________________________________________\n",
      "dense_4 (Dense)              (None, 10)                1290      \n",
      "=================================================================\n",
      "Total params: 1,738,890\n",
      "Trainable params: 1,738,890\n",
      "Non-trainable params: 0\n",
      "_________________________________________________________________\n"
     ]
    }
   ],
   "source": [
    "model = build_mlp()\n",
    "model.summary()"
   ]
  },
  {
   "cell_type": "code",
   "execution_count": 6,
   "metadata": {},
   "outputs": [],
   "source": [
    "optimizer = keras.optimizers.Adam(lr=0.001)\n",
    "model.compile(loss=\"categorical_crossentropy\", metrics=[\"accuracy\"], optimizer=optimizer)"
   ]
  },
  {
   "cell_type": "code",
   "execution_count": 7,
   "metadata": {},
   "outputs": [
    {
     "name": "stdout",
     "output_type": "stream",
     "text": [
      "WARNING:tensorflow:From /usr/local/lib/python3.5/dist-packages/tensorflow/python/ops/math_ops.py:3066: to_int32 (from tensorflow.python.ops.math_ops) is deprecated and will be removed in a future version.\n",
      "Instructions for updating:\n",
      "Use tf.cast instead.\n",
      "Train on 50000 samples, validate on 10000 samples\n",
      "Epoch 1/100\n",
      "50000/50000 [==============================] - 18s 370us/step - loss: 1.9461 - acc: 0.2990 - val_loss: 1.7695 - val_acc: 0.3592\n",
      "Epoch 2/100\n",
      "50000/50000 [==============================] - 2s 43us/step - loss: 1.7016 - acc: 0.3907 - val_loss: 1.6811 - val_acc: 0.3938\n",
      "Epoch 3/100\n",
      "50000/50000 [==============================] - 2s 42us/step - loss: 1.6133 - acc: 0.4220 - val_loss: 1.6098 - val_acc: 0.4205\n",
      "Epoch 4/100\n",
      "50000/50000 [==============================] - 2s 42us/step - loss: 1.5422 - acc: 0.4475 - val_loss: 1.5128 - val_acc: 0.4531\n",
      "Epoch 5/100\n",
      "50000/50000 [==============================] - 2s 42us/step - loss: 1.5121 - acc: 0.4601 - val_loss: 1.5883 - val_acc: 0.4362\n",
      "Epoch 6/100\n",
      "50000/50000 [==============================] - 2s 42us/step - loss: 1.4640 - acc: 0.4780 - val_loss: 1.4686 - val_acc: 0.4789\n",
      "Epoch 7/100\n",
      "50000/50000 [==============================] - 2s 42us/step - loss: 1.4288 - acc: 0.4919 - val_loss: 1.4645 - val_acc: 0.4772\n",
      "Epoch 8/100\n",
      "50000/50000 [==============================] - 2s 42us/step - loss: 1.4087 - acc: 0.4968 - val_loss: 1.4576 - val_acc: 0.4790\n",
      "Epoch 9/100\n",
      "50000/50000 [==============================] - 2s 41us/step - loss: 1.3684 - acc: 0.5137 - val_loss: 1.4314 - val_acc: 0.4851\n",
      "Epoch 10/100\n",
      "50000/50000 [==============================] - 2s 41us/step - loss: 1.3469 - acc: 0.5202 - val_loss: 1.4754 - val_acc: 0.4735\n",
      "Epoch 11/100\n",
      "50000/50000 [==============================] - 2s 42us/step - loss: 1.3215 - acc: 0.5290 - val_loss: 1.4017 - val_acc: 0.4982\n",
      "Epoch 12/100\n",
      "50000/50000 [==============================] - 2s 42us/step - loss: 1.3086 - acc: 0.5314 - val_loss: 1.4097 - val_acc: 0.5006\n",
      "Epoch 13/100\n",
      "50000/50000 [==============================] - 2s 42us/step - loss: 1.2635 - acc: 0.5515 - val_loss: 1.3767 - val_acc: 0.5044\n",
      "Epoch 14/100\n",
      "50000/50000 [==============================] - 2s 42us/step - loss: 1.2481 - acc: 0.5532 - val_loss: 1.4206 - val_acc: 0.4965\n",
      "Epoch 15/100\n",
      "50000/50000 [==============================] - 2s 42us/step - loss: 1.2418 - acc: 0.5572 - val_loss: 1.4013 - val_acc: 0.5018\n",
      "Epoch 16/100\n",
      "50000/50000 [==============================] - 2s 42us/step - loss: 1.2144 - acc: 0.5665 - val_loss: 1.3916 - val_acc: 0.5071\n",
      "Epoch 17/100\n",
      "50000/50000 [==============================] - 2s 42us/step - loss: 1.1832 - acc: 0.5784 - val_loss: 1.3828 - val_acc: 0.5123\n",
      "Epoch 18/100\n",
      "50000/50000 [==============================] - 2s 42us/step - loss: 1.1721 - acc: 0.5802 - val_loss: 1.4420 - val_acc: 0.4955\n",
      "Epoch 19/100\n",
      "50000/50000 [==============================] - 2s 42us/step - loss: 1.1460 - acc: 0.5908 - val_loss: 1.3644 - val_acc: 0.5168\n",
      "Epoch 20/100\n",
      "50000/50000 [==============================] - 2s 42us/step - loss: 1.1237 - acc: 0.5993 - val_loss: 1.3297 - val_acc: 0.5325\n",
      "Epoch 21/100\n",
      "50000/50000 [==============================] - 2s 42us/step - loss: 1.1094 - acc: 0.6057 - val_loss: 1.3854 - val_acc: 0.5166\n",
      "Epoch 22/100\n",
      "50000/50000 [==============================] - 2s 42us/step - loss: 1.0796 - acc: 0.6186 - val_loss: 1.3676 - val_acc: 0.5202\n",
      "Epoch 23/100\n",
      "50000/50000 [==============================] - 2s 42us/step - loss: 1.0670 - acc: 0.6192 - val_loss: 1.3904 - val_acc: 0.5180\n",
      "Epoch 24/100\n",
      "50000/50000 [==============================] - 2s 42us/step - loss: 1.0470 - acc: 0.6290 - val_loss: 1.3830 - val_acc: 0.5262\n",
      "Epoch 25/100\n",
      "50000/50000 [==============================] - 2s 42us/step - loss: 1.0234 - acc: 0.6352 - val_loss: 1.4164 - val_acc: 0.5107\n",
      "Epoch 26/100\n",
      "50000/50000 [==============================] - 2s 42us/step - loss: 1.0167 - acc: 0.6383 - val_loss: 1.3933 - val_acc: 0.5302\n",
      "Epoch 27/100\n",
      "50000/50000 [==============================] - 2s 42us/step - loss: 0.9892 - acc: 0.6457 - val_loss: 1.4102 - val_acc: 0.5249\n",
      "Epoch 28/100\n",
      "50000/50000 [==============================] - 2s 42us/step - loss: 0.9717 - acc: 0.6532 - val_loss: 1.4124 - val_acc: 0.5276\n",
      "Epoch 29/100\n",
      "50000/50000 [==============================] - 2s 42us/step - loss: 0.9556 - acc: 0.6594 - val_loss: 1.4074 - val_acc: 0.5312\n",
      "Epoch 30/100\n",
      "50000/50000 [==============================] - 2s 42us/step - loss: 0.9342 - acc: 0.6670 - val_loss: 1.4344 - val_acc: 0.5227\n",
      "Epoch 31/100\n",
      "50000/50000 [==============================] - 2s 42us/step - loss: 0.9223 - acc: 0.6692 - val_loss: 1.4520 - val_acc: 0.5148\n",
      "Epoch 32/100\n",
      "50000/50000 [==============================] - 2s 42us/step - loss: 0.8982 - acc: 0.6785 - val_loss: 1.4334 - val_acc: 0.5238\n",
      "Epoch 33/100\n",
      "50000/50000 [==============================] - 2s 42us/step - loss: 0.8830 - acc: 0.6838 - val_loss: 1.4771 - val_acc: 0.5179\n",
      "Epoch 34/100\n",
      "50000/50000 [==============================] - 2s 42us/step - loss: 0.8686 - acc: 0.6916 - val_loss: 1.4738 - val_acc: 0.5304\n",
      "Epoch 35/100\n",
      "50000/50000 [==============================] - 2s 42us/step - loss: 0.8439 - acc: 0.6993 - val_loss: 1.5242 - val_acc: 0.5157\n",
      "Epoch 36/100\n",
      "50000/50000 [==============================] - 2s 42us/step - loss: 0.8381 - acc: 0.7013 - val_loss: 1.4673 - val_acc: 0.5258\n",
      "Epoch 37/100\n",
      "50000/50000 [==============================] - 2s 42us/step - loss: 0.8183 - acc: 0.7077 - val_loss: 1.5252 - val_acc: 0.5277\n",
      "Epoch 38/100\n",
      "50000/50000 [==============================] - 2s 41us/step - loss: 0.8087 - acc: 0.7099 - val_loss: 1.5219 - val_acc: 0.5225\n",
      "Epoch 39/100\n",
      "50000/50000 [==============================] - 2s 41us/step - loss: 0.7822 - acc: 0.7196 - val_loss: 1.5735 - val_acc: 0.5279\n",
      "Epoch 40/100\n",
      "50000/50000 [==============================] - 2s 41us/step - loss: 0.7653 - acc: 0.7283 - val_loss: 1.5674 - val_acc: 0.5274\n",
      "Epoch 41/100\n",
      "50000/50000 [==============================] - 2s 41us/step - loss: 0.7585 - acc: 0.7299 - val_loss: 1.5950 - val_acc: 0.5222\n",
      "Epoch 42/100\n",
      "50000/50000 [==============================] - 2s 42us/step - loss: 0.7312 - acc: 0.7384 - val_loss: 1.6070 - val_acc: 0.5192\n",
      "Epoch 43/100\n",
      "50000/50000 [==============================] - 2s 42us/step - loss: 0.7333 - acc: 0.7372 - val_loss: 1.6145 - val_acc: 0.5226\n",
      "Epoch 44/100\n",
      "50000/50000 [==============================] - 2s 42us/step - loss: 0.7177 - acc: 0.7434 - val_loss: 1.6555 - val_acc: 0.5168\n",
      "Epoch 45/100\n",
      "50000/50000 [==============================] - 2s 42us/step - loss: 0.7003 - acc: 0.7505 - val_loss: 1.6810 - val_acc: 0.5198\n",
      "Epoch 46/100\n",
      "50000/50000 [==============================] - 2s 42us/step - loss: 0.6803 - acc: 0.7553 - val_loss: 1.7165 - val_acc: 0.5161\n",
      "Epoch 47/100\n",
      "50000/50000 [==============================] - 2s 41us/step - loss: 0.6713 - acc: 0.7589 - val_loss: 1.7203 - val_acc: 0.5136\n",
      "Epoch 48/100\n",
      "50000/50000 [==============================] - 2s 42us/step - loss: 0.6515 - acc: 0.7654 - val_loss: 1.7261 - val_acc: 0.5200\n",
      "Epoch 49/100\n",
      "50000/50000 [==============================] - 2s 42us/step - loss: 0.6387 - acc: 0.7708 - val_loss: 1.7776 - val_acc: 0.5069\n",
      "Epoch 50/100\n",
      "50000/50000 [==============================] - 2s 42us/step - loss: 0.6322 - acc: 0.7747 - val_loss: 1.7894 - val_acc: 0.5192\n",
      "Epoch 51/100\n",
      "50000/50000 [==============================] - 2s 42us/step - loss: 0.6159 - acc: 0.7794 - val_loss: 1.8100 - val_acc: 0.5106\n",
      "Epoch 52/100\n",
      "50000/50000 [==============================] - 2s 42us/step - loss: 0.5941 - acc: 0.7868 - val_loss: 1.8149 - val_acc: 0.5129\n",
      "Epoch 53/100\n",
      "50000/50000 [==============================] - 2s 42us/step - loss: 0.5934 - acc: 0.7877 - val_loss: 1.8978 - val_acc: 0.5088\n",
      "Epoch 54/100\n",
      "50000/50000 [==============================] - 2s 42us/step - loss: 0.5845 - acc: 0.7906 - val_loss: 1.8694 - val_acc: 0.5207\n",
      "Epoch 55/100\n",
      "50000/50000 [==============================] - 2s 42us/step - loss: 0.5666 - acc: 0.7966 - val_loss: 1.9197 - val_acc: 0.5085\n",
      "Epoch 56/100\n",
      "50000/50000 [==============================] - 2s 42us/step - loss: 0.5587 - acc: 0.7992 - val_loss: 1.9598 - val_acc: 0.5103\n",
      "Epoch 57/100\n",
      "50000/50000 [==============================] - 2s 42us/step - loss: 0.5489 - acc: 0.8018 - val_loss: 2.0337 - val_acc: 0.5015\n"
     ]
    },
    {
     "name": "stdout",
     "output_type": "stream",
     "text": [
      "Epoch 58/100\n",
      "50000/50000 [==============================] - 2s 42us/step - loss: 0.5328 - acc: 0.8100 - val_loss: 1.9851 - val_acc: 0.5128\n",
      "Epoch 59/100\n",
      "50000/50000 [==============================] - 2s 42us/step - loss: 0.5339 - acc: 0.8072 - val_loss: 2.0342 - val_acc: 0.5065\n",
      "Epoch 60/100\n",
      "50000/50000 [==============================] - 2s 42us/step - loss: 0.5179 - acc: 0.8153 - val_loss: 2.0328 - val_acc: 0.5129\n",
      "Epoch 61/100\n",
      "50000/50000 [==============================] - 2s 42us/step - loss: 0.5061 - acc: 0.8176 - val_loss: 2.1163 - val_acc: 0.5024\n",
      "Epoch 62/100\n",
      "50000/50000 [==============================] - 2s 42us/step - loss: 0.5032 - acc: 0.8204 - val_loss: 2.0843 - val_acc: 0.5150\n",
      "Epoch 63/100\n",
      "50000/50000 [==============================] - 2s 42us/step - loss: 0.4972 - acc: 0.8202 - val_loss: 2.1162 - val_acc: 0.5053\n",
      "Epoch 64/100\n",
      "50000/50000 [==============================] - 2s 42us/step - loss: 0.5040 - acc: 0.8198 - val_loss: 2.1270 - val_acc: 0.5057\n",
      "Epoch 65/100\n",
      "50000/50000 [==============================] - 2s 42us/step - loss: 0.4669 - acc: 0.8323 - val_loss: 2.1923 - val_acc: 0.5148\n",
      "Epoch 66/100\n",
      "50000/50000 [==============================] - 2s 42us/step - loss: 0.4777 - acc: 0.8286 - val_loss: 2.1910 - val_acc: 0.5105\n",
      "Epoch 67/100\n",
      "50000/50000 [==============================] - 2s 42us/step - loss: 0.4565 - acc: 0.8362 - val_loss: 2.2462 - val_acc: 0.5011\n",
      "Epoch 68/100\n",
      "50000/50000 [==============================] - 2s 42us/step - loss: 0.4434 - acc: 0.8400 - val_loss: 2.2448 - val_acc: 0.5078\n",
      "Epoch 69/100\n",
      "50000/50000 [==============================] - 2s 42us/step - loss: 0.4286 - acc: 0.8465 - val_loss: 2.2530 - val_acc: 0.5062\n",
      "Epoch 70/100\n",
      "50000/50000 [==============================] - 2s 42us/step - loss: 0.4286 - acc: 0.8456 - val_loss: 2.3754 - val_acc: 0.5019\n",
      "Epoch 71/100\n",
      "50000/50000 [==============================] - 2s 42us/step - loss: 0.4153 - acc: 0.8517 - val_loss: 2.3589 - val_acc: 0.5097\n",
      "Epoch 72/100\n",
      "50000/50000 [==============================] - 2s 42us/step - loss: 0.4276 - acc: 0.8451 - val_loss: 2.3639 - val_acc: 0.5069\n",
      "Epoch 73/100\n",
      "50000/50000 [==============================] - 2s 42us/step - loss: 0.4000 - acc: 0.8565 - val_loss: 2.5038 - val_acc: 0.5062\n",
      "Epoch 74/100\n",
      "50000/50000 [==============================] - 2s 42us/step - loss: 0.4241 - acc: 0.8481 - val_loss: 2.4861 - val_acc: 0.5037\n",
      "Epoch 75/100\n",
      "50000/50000 [==============================] - 2s 42us/step - loss: 0.3962 - acc: 0.8581 - val_loss: 2.5392 - val_acc: 0.5001\n",
      "Epoch 76/100\n",
      "50000/50000 [==============================] - 2s 42us/step - loss: 0.3725 - acc: 0.8671 - val_loss: 2.5219 - val_acc: 0.4966\n",
      "Epoch 77/100\n",
      "50000/50000 [==============================] - 2s 42us/step - loss: 0.3823 - acc: 0.8612 - val_loss: 2.5437 - val_acc: 0.5016\n",
      "Epoch 78/100\n",
      "50000/50000 [==============================] - 2s 42us/step - loss: 0.3704 - acc: 0.8675 - val_loss: 2.5377 - val_acc: 0.4994\n",
      "Epoch 79/100\n",
      "50000/50000 [==============================] - 2s 42us/step - loss: 0.3771 - acc: 0.8632 - val_loss: 2.6036 - val_acc: 0.4958\n",
      "Epoch 80/100\n",
      "50000/50000 [==============================] - 2s 42us/step - loss: 0.3611 - acc: 0.8699 - val_loss: 2.6513 - val_acc: 0.5004\n",
      "Epoch 81/100\n",
      "50000/50000 [==============================] - 2s 42us/step - loss: 0.3840 - acc: 0.8620 - val_loss: 2.6179 - val_acc: 0.4964\n",
      "Epoch 82/100\n",
      "50000/50000 [==============================] - 2s 42us/step - loss: 0.3679 - acc: 0.8665 - val_loss: 2.6470 - val_acc: 0.5025\n",
      "Epoch 83/100\n",
      "50000/50000 [==============================] - 2s 42us/step - loss: 0.3464 - acc: 0.8753 - val_loss: 2.6659 - val_acc: 0.4980\n",
      "Epoch 84/100\n",
      "50000/50000 [==============================] - 2s 42us/step - loss: 0.3585 - acc: 0.8716 - val_loss: 2.7022 - val_acc: 0.4994\n",
      "Epoch 85/100\n",
      "50000/50000 [==============================] - 2s 42us/step - loss: 0.3179 - acc: 0.8871 - val_loss: 2.7670 - val_acc: 0.4994\n",
      "Epoch 86/100\n",
      "50000/50000 [==============================] - 2s 42us/step - loss: 0.3070 - acc: 0.8904 - val_loss: 2.7616 - val_acc: 0.5008\n",
      "Epoch 87/100\n",
      "50000/50000 [==============================] - 2s 42us/step - loss: 0.3329 - acc: 0.8799 - val_loss: 2.7866 - val_acc: 0.4973\n",
      "Epoch 88/100\n",
      "50000/50000 [==============================] - 2s 42us/step - loss: 0.3386 - acc: 0.8778 - val_loss: 2.7776 - val_acc: 0.5004\n",
      "Epoch 89/100\n",
      "50000/50000 [==============================] - 2s 42us/step - loss: 0.3030 - acc: 0.8905 - val_loss: 2.8047 - val_acc: 0.5063\n",
      "Epoch 90/100\n",
      "50000/50000 [==============================] - 2s 42us/step - loss: 0.3227 - acc: 0.8842 - val_loss: 2.8112 - val_acc: 0.4978\n",
      "Epoch 91/100\n",
      "50000/50000 [==============================] - 2s 41us/step - loss: 0.3173 - acc: 0.8849 - val_loss: 2.9268 - val_acc: 0.4946\n",
      "Epoch 92/100\n",
      "50000/50000 [==============================] - 2s 42us/step - loss: 0.3298 - acc: 0.8796 - val_loss: 2.9374 - val_acc: 0.5026\n",
      "Epoch 93/100\n",
      "50000/50000 [==============================] - 2s 42us/step - loss: 0.2954 - acc: 0.8935 - val_loss: 2.9057 - val_acc: 0.5002\n",
      "Epoch 94/100\n",
      "50000/50000 [==============================] - 2s 42us/step - loss: 0.2761 - acc: 0.9013 - val_loss: 2.9585 - val_acc: 0.5064\n",
      "Epoch 95/100\n",
      "50000/50000 [==============================] - 2s 42us/step - loss: 0.2948 - acc: 0.8944 - val_loss: 2.9662 - val_acc: 0.5002\n",
      "Epoch 96/100\n",
      "50000/50000 [==============================] - 2s 42us/step - loss: 0.2933 - acc: 0.8944 - val_loss: 2.9889 - val_acc: 0.4959\n",
      "Epoch 97/100\n",
      "50000/50000 [==============================] - 2s 42us/step - loss: 0.2949 - acc: 0.8933 - val_loss: 3.0031 - val_acc: 0.5035\n",
      "Epoch 98/100\n",
      "50000/50000 [==============================] - 2s 42us/step - loss: 0.2648 - acc: 0.9051 - val_loss: 3.0345 - val_acc: 0.5005\n",
      "Epoch 99/100\n",
      "50000/50000 [==============================] - 2s 42us/step - loss: 0.2668 - acc: 0.9049 - val_loss: 3.1211 - val_acc: 0.4956\n",
      "Epoch 100/100\n",
      "50000/50000 [==============================] - 2s 42us/step - loss: 0.2700 - acc: 0.9022 - val_loss: 3.0524 - val_acc: 0.5086\n"
     ]
    },
    {
     "data": {
      "text/plain": [
       "<keras.callbacks.History at 0x7f377dc363c8>"
      ]
     },
     "execution_count": 7,
     "metadata": {},
     "output_type": "execute_result"
    }
   ],
   "source": [
    "model.fit(x_train, y_train, \n",
    "          epochs=100, \n",
    "          batch_size=256, \n",
    "          validation_data=(x_test, y_test), \n",
    "          shuffle=True)"
   ]
  },
  {
   "cell_type": "code",
   "execution_count": 9,
   "metadata": {},
   "outputs": [
    {
     "data": {
      "image/png": "[encoded data removed]",
      "text/plain": [
       "<Figure size 432x288 with 1 Axes>"
      ]
     },
     "metadata": {
      "needs_background": "light"
     },
     "output_type": "display_data"
    },
    {
     "data": {
      "image/png": "[encoded data removed]",
      "text/plain": [
       "<Figure size 432x288 with 1 Axes>"
      ]
     },
     "metadata": {
      "needs_background": "light"
     },
     "output_type": "display_data"
    }
   ],
   "source": [
    "import matplotlib.pyplot as plt\n",
    "%matplotlib inline\n",
    "\n",
    "\n",
    "train_loss = model.history.history[\"loss\"]\n",
    "valid_loss = model.history.history[\"val_loss\"]\n",
    "\n",
    "train_acc = model.history.history[\"acc\"]\n",
    "valid_acc = model.history.history[\"val_acc\"]\n",
    "\n",
    "plt.plot(range(len(train_loss)), train_loss, label=\"train loss\")\n",
    "plt.plot(range(len(valid_loss)), valid_loss, label=\"valid loss\")\n",
    "plt.legend()\n",
    "plt.title(\"Loss\")\n",
    "plt.show()\n",
    "\n",
    "plt.plot(range(len(train_acc)), train_acc, label=\"train accuracy\")\n",
    "plt.plot(range(len(valid_acc)), valid_acc, label=\"valid accuracy\")\n",
    "plt.legend()\n",
    "plt.title(\"Accuracy\")\n",
    "plt.show()"
   ]
  },
  {
   "cell_type": "markdown",
   "metadata": {},
   "source": [
    "## Work\n",
    "1. 請將 Epoch 加到 500 個，並觀察 learning curve 的走勢\n",
    "2. 請將 Optimizer 換成 SGD，並觀察 learning curve 的走勢"
   ]
  }
 ],
 "metadata": {
  "kernelspec": {
   "display_name": "Python 3",
   "language": "python",
   "name": "python3"
  },
  "language_info": {
   "codemirror_mode": {
    "name": "ipython",
    "version": 3
   },
   "file_extension": ".py",
   "mimetype": "text/x-python",
   "name": "python",
   "nbconvert_exporter": "python",
   "pygments_lexer": "ipython3",
   "version": "3.5.2"
  }
 },
 "nbformat": 4,
 "nbformat_minor": 2
}
