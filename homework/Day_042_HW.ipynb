{
 "cells": [
  {
   "cell_type": "markdown",
   "metadata": {},
   "source": [
    "## 作業\n",
    "\n",
    "1. 試著調整 DecisionTreeClassifier(...) 中的參數，並觀察是否會改變結果？\n",
    "2. 改用其他資料集 (boston, wine)，並與回歸模型的結果進行比較"
   ]
  },
  {
   "cell_type": "code",
   "execution_count": 1,
   "metadata": {},
   "outputs": [],
   "source": [
    "from sklearn import datasets, metrics\n",
    "\n",
    "# 如果是分類問題，請使用 DecisionTreeClassifier，若為回歸問題，請使用 DecisionTreeRegressor\n",
    "from sklearn.tree import DecisionTreeClassifier, DecisionTreeRegressor\n",
    "from sklearn.model_selection import train_test_split"
   ]
  },
  {
   "cell_type": "markdown",
   "metadata": {},
   "source": [
    "## 1. 在 Iris dataset 中，設定 criterion = 'entropy' (default='gini')。\n",
    "  * Accuracy 相同\n",
    "  * feature_importances_ 有些微的差異"
   ]
  },
  {
   "cell_type": "code",
   "execution_count": 2,
   "metadata": {},
   "outputs": [
    {
     "name": "stdout",
     "output_type": "stream",
     "text": [
      "Acuuracy:  0.9736842105263158\n",
      "Feature importance:  [0.         0.0156062  0.62264163 0.36175217]\n"
     ]
    }
   ],
   "source": [
    "# 讀取鳶尾花資料集\n",
    "iris = datasets.load_iris()\n",
    "\n",
    "# 切分訓練集/測試集\n",
    "x_train, x_test, y_train, y_test = train_test_split(iris.data, iris.target, test_size=0.25, random_state=4)\n",
    "\n",
    "# 建立模型\n",
    "clf = DecisionTreeClassifier(criterion='entropy')\n",
    "# clf = DecisionTreeClassifier(criterion='gini')\n",
    "# 訓練模型\n",
    "clf.fit(x_train, y_train)\n",
    "\n",
    "# 預測測試集\n",
    "y_pred = clf.predict(x_test)\n",
    "\n",
    "acc = metrics.accuracy_score(y_test, y_pred)\n",
    "print(\"Acuuracy: \", acc)\n",
    "print(\"Feature importance: \", clf.feature_importances_)"
   ]
  },
  {
   "cell_type": "markdown",
   "metadata": {},
   "source": [
    "## 2. 改用其他資料集 (boston, wine)，並與回歸模型的結果進行比較\n",
    "  * boston 無法使用 DecisionTreeClassifier\n",
    "  * wine 可以使用 DecisionTreeClassifier and DecisionTreeRegressor"
   ]
  },
  {
   "cell_type": "code",
   "execution_count": 3,
   "metadata": {},
   "outputs": [
    {
     "name": "stdout",
     "output_type": "stream",
     "text": [
      "Mean squared error: 27.01\n"
     ]
    }
   ],
   "source": [
    "# boston \n",
    "\n",
    "boston = datasets.load_boston()\n",
    "x_train, x_test, y_train, y_test = train_test_split(boston.data, boston.target, test_size=0.25, random_state=4)\n",
    "clf = DecisionTreeRegressor()\n",
    "clf.fit(x_train, y_train)\n",
    "y_pred = clf.predict(x_test)\n",
    "print(\"Mean squared error: %.2f\" % metrics.mean_squared_error(y_test, y_pred))"
   ]
  },
  {
   "cell_type": "code",
   "execution_count": 4,
   "metadata": {},
   "outputs": [],
   "source": [
    "boston = datasets.load_boston()\n",
    "x_train, x_test, y_train, y_test = train_test_split(boston.data, boston.target, test_size=0.1, random_state=4)\n",
    "regr = DecisionTreeRegressor()\n",
    "regr.fit(x_train, y_train)\n",
    "y_pred = regr.predict(x_test)\n"
   ]
  },
  {
   "cell_type": "code",
   "execution_count": 5,
   "metadata": {},
   "outputs": [
    {
     "name": "stdout",
     "output_type": "stream",
     "text": [
      "分類模型----\n",
      "Acuuracy:  0.8444444444444444\n",
      "Feature importance:  [0.03210079 0.         0.         0.         0.04405085 0.\n",
      " 0.04296585 0.         0.         0.36779083 0.         0.12444169\n",
      " 0.38865   ]\n",
      "回歸模型----\n",
      "Acuuracy:  0.9333333333333333\n",
      "Feature importance:  [0.         0.         0.         0.         0.03685556 0.\n",
      " 0.61367513 0.         0.         0.09448026 0.         0.\n",
      " 0.25498904]\n"
     ]
    }
   ],
   "source": [
    "# wine\n",
    "\n",
    "wine = datasets.load_wine()\n",
    "x_train, x_test, y_train, y_test = train_test_split(wine.data, wine.target, test_size=0.25, random_state=4)\n",
    "clf = DecisionTreeClassifier()\n",
    "clf.fit(x_train, y_train)\n",
    "y_pred = clf.predict(x_test)\n",
    "acc = metrics.accuracy_score(y_test, y_pred)\n",
    "print(\"分類模型----\")\n",
    "print(\"Acuuracy: \", acc)\n",
    "print(\"Feature importance: \", clf.feature_importances_)\n",
    "\n",
    "clf = DecisionTreeRegressor()\n",
    "clf.fit(x_train, y_train)\n",
    "y_pred = clf.predict(x_test)\n",
    "acc = metrics.accuracy_score(y_test, y_pred)\n",
    "print(\"回歸模型----\")\n",
    "print(\"Acuuracy: \", acc)\n",
    "print(\"Feature importance: \", clf.feature_importances_)"
   ]
  },
  {
   "cell_type": "markdown",
   "metadata": {},
   "source": [
    "## Question: 此例中，iris的 data set 不論是 gini or entropy，不同的 Min_samples_split 與 Min_samples_leaf，其準確率都依樣耶，MSE也是。這正常嗎?\n",
    "  * 決策樹中 Min_samples_split 與 Min_samples_leaf，這兩個超參數主要是避免 Over-fitting 而設置的，當設置的太小就容易過擬合。\n",
    "  * 回到 Iris 資料集來看，其實這是一個相對簡單的資料集，不同類別之間的差異性很大，因此只要簡單幾個 features 就可以把類別區分出來，當模型有一定水準後當然就會準確率就會收斂在一個數值，這時如果硬要把模型 train 的更準就有可能導致過擬合。你可以試著把這些值都調更高試試看，模型的預測能力就會明顯下降囉。之後用在比較困難且資料量比較大的資料集時，我相信決策樹跟隨機森林就不太可能會有一模一樣的結果了!"
   ]
  },
  {
   "cell_type": "code",
   "execution_count": null,
   "metadata": {},
   "outputs": [],
   "source": []
  }
 ],
 "metadata": {
  "kernelspec": {
   "display_name": "Python 3",
   "language": "python",
   "name": "python3"
  },
  "language_info": {
   "codemirror_mode": {
    "name": "ipython",
    "version": 3
   },
   "file_extension": ".py",
   "mimetype": "text/x-python",
   "name": "python",
   "nbconvert_exporter": "python",
   "pygments_lexer": "ipython3",
   "version": "3.7.1"
  }
 },
 "nbformat": 4,
 "nbformat_minor": 2
}
