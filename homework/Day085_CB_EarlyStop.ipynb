{
 "cells": [
  {
   "cell_type": "code",
   "execution_count": 1,
   "metadata": {},
   "outputs": [
    {
     "name": "stderr",
     "output_type": "stream",
     "text": [
      "Using TensorFlow backend.\n"
     ]
    }
   ],
   "source": [
    "import os\n",
    "import keras\n",
    "\n",
    "# Disable GPU\n",
    "# os.environ[\"CUDA_VISIBLE_DEVICES\"] = \"\""
   ]
  },
  {
   "cell_type": "code",
   "execution_count": 2,
   "metadata": {},
   "outputs": [],
   "source": [
    "train, test = keras.datasets.cifar10.load_data()"
   ]
  },
  {
   "cell_type": "code",
   "execution_count": 3,
   "metadata": {},
   "outputs": [],
   "source": [
    "## 資料前處理\n",
    "def preproc_x(x, flatten=True):\n",
    "    x = x / 255.\n",
    "    if flatten:\n",
    "        x = x.reshape((len(x), -1))\n",
    "    return x\n",
    "\n",
    "def preproc_y(y, num_classes=10):\n",
    "    if y.shape[-1] == 1:\n",
    "        y = keras.utils.to_categorical(y, num_classes)\n",
    "    return y    "
   ]
  },
  {
   "cell_type": "code",
   "execution_count": 4,
   "metadata": {},
   "outputs": [],
   "source": [
    "x_train, y_train = train\n",
    "x_test, y_test = test\n",
    "\n",
    "# Preproc the inputs\n",
    "x_train = preproc_x(x_train)\n",
    "x_test = preproc_x(x_test)\n",
    "\n",
    "# Preprc the outputs\n",
    "y_train = preproc_y(y_train)\n",
    "y_test = preproc_y(y_test)"
   ]
  },
  {
   "cell_type": "code",
   "execution_count": 5,
   "metadata": {},
   "outputs": [],
   "source": [
    "from keras.layers import BatchNormalization\n",
    "def build_mlp(input_shape, output_units=10, num_neurons=[512, 256, 128]):\n",
    "    input_layer = keras.layers.Input(input_shape)\n",
    "    \n",
    "    for i, n_units in enumerate(num_neurons):\n",
    "        if i == 0:\n",
    "            x = keras.layers.Dense(units=n_units, \n",
    "                                   activation=\"relu\", \n",
    "                                   name=\"hidden_layer\"+str(i+1))(input_layer)\n",
    "            x = BatchNormalization()(x)\n",
    "        else:\n",
    "            x = keras.layers.Dense(units=n_units, \n",
    "                                   activation=\"relu\", \n",
    "                                   name=\"hidden_layer\"+str(i+1))(x)\n",
    "            x = BatchNormalization()(x)\n",
    "    \n",
    "    out = keras.layers.Dense(units=output_units, activation=\"softmax\", name=\"output\")(x)\n",
    "    \n",
    "    model = keras.models.Model(inputs=[input_layer], outputs=[out])\n",
    "    return model"
   ]
  },
  {
   "cell_type": "code",
   "execution_count": 6,
   "metadata": {},
   "outputs": [],
   "source": [
    "## 超參數設定\n",
    "LEARNING_RATE = 1e-3\n",
    "EPOCHS = 50\n",
    "BATCH_SIZE = 1024\n",
    "MOMENTUM = 0.95"
   ]
  },
  {
   "cell_type": "code",
   "execution_count": 7,
   "metadata": {},
   "outputs": [],
   "source": [
    "# 載入 Callbacks\n",
    "from keras.callbacks import EarlyStopping\n",
    "\n",
    "earlystop = EarlyStopping(monitor=\"val_loss\", \n",
    "                          patience=5, \n",
    "                          verbose=1\n",
    "                          )"
   ]
  },
  {
   "cell_type": "code",
   "execution_count": 8,
   "metadata": {
    "scrolled": true
   },
   "outputs": [
    {
     "name": "stdout",
     "output_type": "stream",
     "text": [
      "WARNING:tensorflow:From /usr/local/lib/python3.5/dist-packages/tensorflow/python/framework/op_def_library.py:263: colocate_with (from tensorflow.python.framework.ops) is deprecated and will be removed in a future version.\n",
      "Instructions for updating:\n",
      "Colocations handled automatically by placer.\n",
      "_________________________________________________________________\n",
      "Layer (type)                 Output Shape              Param #   \n",
      "=================================================================\n",
      "input_1 (InputLayer)         (None, 3072)              0         \n",
      "_________________________________________________________________\n",
      "hidden_layer1 (Dense)        (None, 512)               1573376   \n",
      "_________________________________________________________________\n",
      "batch_normalization_1 (Batch (None, 512)               2048      \n",
      "_________________________________________________________________\n",
      "hidden_layer2 (Dense)        (None, 256)               131328    \n",
      "_________________________________________________________________\n",
      "batch_normalization_2 (Batch (None, 256)               1024      \n",
      "_________________________________________________________________\n",
      "hidden_layer3 (Dense)        (None, 128)               32896     \n",
      "_________________________________________________________________\n",
      "batch_normalization_3 (Batch (None, 128)               512       \n",
      "_________________________________________________________________\n",
      "output (Dense)               (None, 10)                1290      \n",
      "=================================================================\n",
      "Total params: 1,742,474\n",
      "Trainable params: 1,740,682\n",
      "Non-trainable params: 1,792\n",
      "_________________________________________________________________\n",
      "WARNING:tensorflow:From /usr/local/lib/python3.5/dist-packages/tensorflow/python/ops/math_ops.py:3066: to_int32 (from tensorflow.python.ops.math_ops) is deprecated and will be removed in a future version.\n",
      "Instructions for updating:\n",
      "Use tf.cast instead.\n",
      "Train on 50000 samples, validate on 10000 samples\n",
      "Epoch 1/50\n",
      "50000/50000 [==============================] - 3s 64us/step - loss: 2.2028 - acc: 0.2687 - val_loss: 2.0860 - val_acc: 0.3219\n",
      "Epoch 2/50\n",
      "50000/50000 [==============================] - 2s 33us/step - loss: 1.7476 - acc: 0.3875 - val_loss: 1.8244 - val_acc: 0.3742\n",
      "Epoch 3/50\n",
      "50000/50000 [==============================] - 2s 32us/step - loss: 1.6238 - acc: 0.4323 - val_loss: 1.6797 - val_acc: 0.4111\n",
      "Epoch 4/50\n",
      "50000/50000 [==============================] - 2s 33us/step - loss: 1.5501 - acc: 0.4572 - val_loss: 1.6238 - val_acc: 0.4286\n",
      "Epoch 5/50\n",
      "50000/50000 [==============================] - 2s 33us/step - loss: 1.4951 - acc: 0.4768 - val_loss: 1.5936 - val_acc: 0.4427\n",
      "Epoch 6/50\n",
      "50000/50000 [==============================] - 2s 33us/step - loss: 1.4514 - acc: 0.4920 - val_loss: 1.5774 - val_acc: 0.4436\n",
      "Epoch 7/50\n",
      "50000/50000 [==============================] - 2s 32us/step - loss: 1.4125 - acc: 0.5050 - val_loss: 1.5593 - val_acc: 0.4515\n",
      "Epoch 8/50\n",
      "50000/50000 [==============================] - 2s 33us/step - loss: 1.3783 - acc: 0.5191 - val_loss: 1.5469 - val_acc: 0.4567\n",
      "Epoch 9/50\n",
      "50000/50000 [==============================] - 2s 33us/step - loss: 1.3451 - acc: 0.5312 - val_loss: 1.5367 - val_acc: 0.4608\n",
      "Epoch 10/50\n",
      "50000/50000 [==============================] - 2s 33us/step - loss: 1.3141 - acc: 0.5421 - val_loss: 1.5265 - val_acc: 0.4737\n",
      "Epoch 11/50\n",
      "50000/50000 [==============================] - 2s 33us/step - loss: 1.2864 - acc: 0.5525 - val_loss: 1.5043 - val_acc: 0.4663\n",
      "Epoch 12/50\n",
      "50000/50000 [==============================] - 2s 33us/step - loss: 1.2590 - acc: 0.5625 - val_loss: 1.4960 - val_acc: 0.4760\n",
      "Epoch 13/50\n",
      "50000/50000 [==============================] - 2s 33us/step - loss: 1.2331 - acc: 0.5717 - val_loss: 1.4877 - val_acc: 0.4799\n",
      "Epoch 14/50\n",
      "50000/50000 [==============================] - 2s 33us/step - loss: 1.2090 - acc: 0.5811 - val_loss: 1.4839 - val_acc: 0.4818\n",
      "Epoch 15/50\n",
      "50000/50000 [==============================] - 2s 32us/step - loss: 1.1837 - acc: 0.5923 - val_loss: 1.4719 - val_acc: 0.4837\n",
      "Epoch 16/50\n",
      "50000/50000 [==============================] - 2s 33us/step - loss: 1.1586 - acc: 0.6002 - val_loss: 1.4726 - val_acc: 0.4861\n",
      "Epoch 17/50\n",
      "50000/50000 [==============================] - 2s 32us/step - loss: 1.1348 - acc: 0.6095 - val_loss: 1.4699 - val_acc: 0.4834\n",
      "Epoch 18/50\n",
      "50000/50000 [==============================] - 2s 33us/step - loss: 1.1136 - acc: 0.6179 - val_loss: 1.4783 - val_acc: 0.4901\n",
      "Epoch 19/50\n",
      "50000/50000 [==============================] - 2s 32us/step - loss: 1.0913 - acc: 0.6250 - val_loss: 1.4666 - val_acc: 0.4856\n",
      "Epoch 20/50\n",
      "50000/50000 [==============================] - 2s 33us/step - loss: 1.0677 - acc: 0.6353 - val_loss: 1.4559 - val_acc: 0.4886\n",
      "Epoch 21/50\n",
      "50000/50000 [==============================] - 2s 32us/step - loss: 1.0460 - acc: 0.6429 - val_loss: 1.4768 - val_acc: 0.4851\n",
      "Epoch 22/50\n",
      "50000/50000 [==============================] - 2s 33us/step - loss: 1.0274 - acc: 0.6486 - val_loss: 1.4649 - val_acc: 0.4861\n",
      "Epoch 23/50\n",
      "50000/50000 [==============================] - 2s 32us/step - loss: 1.0045 - acc: 0.6590 - val_loss: 1.4680 - val_acc: 0.4911\n",
      "Epoch 24/50\n",
      "50000/50000 [==============================] - 2s 33us/step - loss: 0.9832 - acc: 0.6664 - val_loss: 1.4683 - val_acc: 0.4911\n",
      "Epoch 25/50\n",
      "50000/50000 [==============================] - 2s 32us/step - loss: 0.9617 - acc: 0.6758 - val_loss: 1.4740 - val_acc: 0.4918\n",
      "Epoch 00025: early stopping\n"
     ]
    }
   ],
   "source": [
    "model = build_mlp(input_shape=x_train.shape[1:])\n",
    "model.summary()\n",
    "optimizer = keras.optimizers.SGD(lr=LEARNING_RATE, nesterov=True, momentum=MOMENTUM)\n",
    "model.compile(loss=\"categorical_crossentropy\", metrics=[\"accuracy\"], optimizer=optimizer)\n",
    "\n",
    "model.fit(x_train, y_train, \n",
    "          epochs=EPOCHS, \n",
    "          batch_size=BATCH_SIZE, \n",
    "          validation_data=(x_test, y_test), \n",
    "          shuffle=True,\n",
    "          callbacks=[earlystop]\n",
    "         )\n",
    "\n",
    "# Collect results\n",
    "train_loss = model.history.history[\"loss\"]\n",
    "valid_loss = model.history.history[\"val_loss\"]\n",
    "train_acc = model.history.history[\"acc\"]\n",
    "valid_acc = model.history.history[\"val_acc\"]"
   ]
  },
  {
   "cell_type": "markdown",
   "metadata": {},
   "source": [
    "由 val_loss 的數據可以看出，在 patience=5 的情況下，其 val_loss 是有持續下降的。  \n",
    "直到 epoch=20, val_loss=val_loss: 1.4559，接下來的連續5次 epoch 都沒有更好的 val_loss 出現，所以提升結束了 training."
   ]
  },
  {
   "cell_type": "code",
   "execution_count": 9,
   "metadata": {},
   "outputs": [
    {
     "data": {
      "image/png": "[encoded data removed]",
      "text/plain": [
       "<Figure size 432x288 with 1 Axes>"
      ]
     },
     "metadata": {
      "needs_background": "light"
     },
     "output_type": "display_data"
    },
    {
     "data": {
      "image/png": "[encoded data removed]",
      "text/plain": [
       "<Figure size 432x288 with 1 Axes>"
      ]
     },
     "metadata": {
      "needs_background": "light"
     },
     "output_type": "display_data"
    }
   ],
   "source": [
    "import matplotlib.pyplot as plt\n",
    "%matplotlib inline\n",
    "\n",
    "plt.plot(range(len(train_loss)), train_loss, label=\"train loss\")\n",
    "plt.plot(range(len(valid_loss)), valid_loss, label=\"valid loss\")\n",
    "plt.legend()\n",
    "plt.title(\"Loss\")\n",
    "plt.show()\n",
    "\n",
    "plt.plot(range(len(train_acc)), train_acc, label=\"train accuracy\")\n",
    "plt.plot(range(len(valid_acc)), valid_acc, label=\"valid accuracy\")\n",
    "plt.legend()\n",
    "plt.title(\"Accuracy\")\n",
    "plt.show()"
   ]
  },
  {
   "cell_type": "markdown",
   "metadata": {},
   "source": [
    "## Work\n",
    "1. 試改變 monitor \"Validation Accuracy\" 並比較結果\n",
    "2. 調整 earlystop 的等待次數至 10, 25 並比較結果"
   ]
  }
 ],
 "metadata": {
  "kernelspec": {
   "display_name": "Python 3",
   "language": "python",
   "name": "python3"
  },
  "language_info": {
   "codemirror_mode": {
    "name": "ipython",
    "version": 3
   },
   "file_extension": ".py",
   "mimetype": "text/x-python",
   "name": "python",
   "nbconvert_exporter": "python",
   "pygments_lexer": "ipython3",
   "version": "3.5.2"
  }
 },
 "nbformat": 4,
 "nbformat_minor": 2
}
