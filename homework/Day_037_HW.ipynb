{
 "cells": [
  {
   "cell_type": "markdown",
   "metadata": {},
   "source": [
    "## 作業"
   ]
  },
  {
   "cell_type": "markdown",
   "metadata": {},
   "source": [
    "請閱讀以下相關文獻，並回答以下問題\n",
    "\n",
    "* [Linear Regression 詳細介紹](https://brohrer.mcknote.com/zh-Hant/how_machine_learning_works/how_linear_regression_works.html)\n",
    "\n",
    "* [Logistics Regression 詳細介紹](https://medium.com/@yehjames/%E8%B3%87%E6%96%99%E5%88%86%E6%9E%90-%E6%A9%9F%E5%99%A8%E5%AD%B8%E7%BF%92-%E7%AC%AC3-3%E8%AC%9B-%E7%B7%9A%E6%80%A7%E5%88%86%E9%A1%9E-%E9%82%8F%E8%BC%AF%E6%96%AF%E5%9B%9E%E6%AD%B8-logistic-regression-%E4%BB%8B%E7%B4%B9-a1a5f47017e5)\n",
    "\n",
    "* [你可能不知道的 Logistic Regression](https://taweihuang.hpd.io/2017/12/22/logreg101/)\n"
   ]
  },
  {
   "cell_type": "markdown",
   "metadata": {},
   "source": [
    "### 補充\n",
    "* [超人氣 Stanford 教授 Andrew Ng 教你 Linear regression (強烈推薦觀看)](https://zh-tw.coursera.org/lecture/machine-learning/model-representation-db3jS)\n",
    "* [Logistic regression 數學原理](https://blog.csdn.net/qq_23269761/article/details/81778585)"
   ]
  },
  {
   "cell_type": "markdown",
   "metadata": {},
   "source": [
    "1. 線性回歸模型能夠準確預測非線性關係的資料集嗎?\n",
    "  * 線性回歸模型就是指因變數和自變數之間的關係是直線型的，所以應該是不能預測非線性關係的資料集\n",
    "    * [線性回歸預測法](https://wiki.mbalib.com/zh-tw/%E7%BA%BF%E6%80%A7%E5%9B%9E%E5%BD%92%E9%A2%84%E6%B5%8B%E6%B3%95)\n",
    "  * 官方解答\n",
    "    * 若是線性回歸 Linear regression 是無法準確預測非線性的資料集的，即使有很多參數，仍然是使用線性的方式來擬和資料。所以當資料具有非線性的關係時，Linear Regression 的表現就會變差。Logistic Regression 雖然是[廣義的線性模型](https://www.zhihu.com/question/30726036)，但經過 Sigmoid 函數以及 kernel trick，是可以解決非線性問題的，這部分屬於較進階的課程，若有興趣可參考[1](https://zhuanlan.zhihu.com/p/30933101)、[2](https://www.zhihu.com/question/29385169)\n",
    "2. 回歸模型是否對資料分布有基本假設?\n",
    "  * 官方解答\n",
    "    * 通常對資料有五個基本假設。[參考這裏](https://blog.csdn.net/Noob_daniel/article/details/76087829)，當然現今模型有許多技巧即使資料不符合基本假設一樣能夠訓練，但對模型使用的基本限制有一定的了解能夠幫助你找出訓練不佳的問題是什麼\n",
    "      * 回归分析是一种统计学上分析数据的方法，目的在于了解两个或多个变量间是否相关、相关方向与强度，并建立数学模型。以便通过观察特定变量（自变量），来预测研究者感兴趣的变量（因变量）。\n",
    "      * 总的来说，回归分析是一种参数化方法，即为了达到分析目的，需要设定一些“自然的”假设。如果目标数据集不满足这些假设，回归分析的结果就会出现偏差。因此想要进行成功的回归分析，我们就必须先证实这些假设。\n",
    "      * 回归分析的五个基本假设\n",
    "        * 线性性 & 可加性\n",
    "        * 误差项（ε）之间应相互独立。\n",
    "        * 自变量（X1，X2）之间应相互独立。\n",
    "        * 误差项（ε）的方差应为常数。\n",
    "        * 误差项（ε）应呈正态分布。\n"
   ]
  },
  {
   "cell_type": "code",
   "execution_count": null,
   "metadata": {},
   "outputs": [],
   "source": []
  }
 ],
 "metadata": {
  "kernelspec": {
   "display_name": "Python 3",
   "language": "python",
   "name": "python3"
  },
  "language_info": {
   "codemirror_mode": {
    "name": "ipython",
    "version": 3
   },
   "file_extension": ".py",
   "mimetype": "text/x-python",
   "name": "python",
   "nbconvert_exporter": "python",
   "pygments_lexer": "ipython3",
   "version": "3.6.7"
  }
 },
 "nbformat": 4,
 "nbformat_minor": 2
}
