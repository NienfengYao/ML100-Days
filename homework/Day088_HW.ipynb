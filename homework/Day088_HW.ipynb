{
 "cells": [
  {
   "cell_type": "markdown",
   "metadata": {},
   "source": [
    "## Work\n",
    "1. 請嘗試寫一個 callback 用來記錄各類別在訓練過程中，對驗證集的 True Positive 與 True Negative"
   ]
  },
  {
   "cell_type": "code",
   "execution_count": 1,
   "metadata": {},
   "outputs": [
    {
     "name": "stderr",
     "output_type": "stream",
     "text": [
      "Using TensorFlow backend.\n"
     ]
    }
   ],
   "source": [
    "import os\n",
    "import keras\n",
    "\n",
    "# Disable GPU\n",
    "# os.environ[\"CUDA_VISIBLE_DEVICES\"] = \"\""
   ]
  },
  {
   "cell_type": "code",
   "execution_count": 2,
   "metadata": {},
   "outputs": [],
   "source": [
    "train, test = keras.datasets.cifar10.load_data()"
   ]
  },
  {
   "cell_type": "code",
   "execution_count": 3,
   "metadata": {},
   "outputs": [],
   "source": [
    "## 資料前處理\n",
    "def preproc_x(x, flatten=True):\n",
    "    x = x / 255.\n",
    "    if flatten:\n",
    "        x = x.reshape((len(x), -1))\n",
    "    return x\n",
    "\n",
    "def preproc_y(y, num_classes=10):\n",
    "    if y.shape[-1] == 1:\n",
    "        y = keras.utils.to_categorical(y, num_classes)\n",
    "    return y    "
   ]
  },
  {
   "cell_type": "code",
   "execution_count": 4,
   "metadata": {},
   "outputs": [],
   "source": [
    "x_train, y_train = train\n",
    "x_test, y_test = test\n",
    "\n",
    "# Preproc the inputs\n",
    "x_train = preproc_x(x_train)\n",
    "x_test = preproc_x(x_test)\n",
    "\n",
    "# Preprc the outputs\n",
    "y_train = preproc_y(y_train)\n",
    "y_test = preproc_y(y_test)"
   ]
  },
  {
   "cell_type": "code",
   "execution_count": 5,
   "metadata": {},
   "outputs": [],
   "source": [
    "from keras.layers import BatchNormalization\n",
    "def build_mlp(input_shape, output_units=10, num_neurons=[512, 256, 128]):\n",
    "    input_layer = keras.layers.Input(input_shape)\n",
    "    \n",
    "    for i, n_units in enumerate(num_neurons):\n",
    "        if i == 0:\n",
    "            x = keras.layers.Dense(units=n_units, \n",
    "                                   activation=\"relu\", \n",
    "                                   name=\"hidden_layer\"+str(i+1))(input_layer)\n",
    "            x = BatchNormalization()(x)\n",
    "        else:\n",
    "            x = keras.layers.Dense(units=n_units, \n",
    "                                   activation=\"relu\", \n",
    "                                   name=\"hidden_layer\"+str(i+1))(x)\n",
    "            x = BatchNormalization()(x)\n",
    "    \n",
    "    out = keras.layers.Dense(units=output_units, activation=\"softmax\", name=\"output\")(x)\n",
    "    \n",
    "    model = keras.models.Model(inputs=[input_layer], outputs=[out])\n",
    "    return model"
   ]
  },
  {
   "cell_type": "code",
   "execution_count": 6,
   "metadata": {},
   "outputs": [],
   "source": [
    "## 超參數設定\n",
    "LEARNING_RATE = 1e-3\n",
    "EPOCHS = 25\n",
    "BATCH_SIZE = 1024\n",
    "MOMENTUM = 0.95"
   ]
  },
  {
   "cell_type": "code",
   "execution_count": 7,
   "metadata": {},
   "outputs": [],
   "source": [
    "# 載入 Callbacks\n",
    "from keras.callbacks import Callback\n",
    "from sklearn.metrics import confusion_matrix\n",
    "\n",
    "# Record_fp_tp\n",
    "class Record_tp_tn(Callback):\n",
    "    def on_train_begin(self, epoch, logs = {}):\n",
    "        logs = logs or {}\n",
    "        record_items = [\"val_auc\", \"val_f1sc\", \"val_fp\", \"val_fn\", \"val_tp\", \"val_tn\"]\n",
    "        for i in record_items:\n",
    "            if i not in self.params['metrics']:\n",
    "                self.params['metrics'].append(i)\n",
    "                \n",
    "    def on_epoch_end(self, epoch, logs = {}, thres=0.5):\n",
    "        logs = logs or {}\n",
    "        y_true = self.validation_data[1].argmax(axis = 1)\n",
    "        y_pred = self.model.predict(self.validation_data[0])\n",
    "        y_pred = (y_pred[:, 1] >= thres) * 1\n",
    "        \n",
    "        cm = confusion_matrix(y_true, y_pred)\n",
    "        logs[\"val_tp\"] = cm[0][0]\n",
    "        logs[\"val_fp\"] = cm[0][1]\n",
    "        logs[\"val_fn\"] = cm[1][0]\n",
    "        logs[\"val_tn\"] = cm[1][1]\n",
    "\n",
    "rec_tptn = Record_tp_tn()"
   ]
  },
  {
   "cell_type": "code",
   "execution_count": 8,
   "metadata": {
    "scrolled": true
   },
   "outputs": [
    {
     "name": "stdout",
     "output_type": "stream",
     "text": [
      "WARNING:tensorflow:From /usr/local/lib/python3.5/dist-packages/tensorflow/python/framework/op_def_library.py:263: colocate_with (from tensorflow.python.framework.ops) is deprecated and will be removed in a future version.\n",
      "Instructions for updating:\n",
      "Colocations handled automatically by placer.\n",
      "_________________________________________________________________\n",
      "Layer (type)                 Output Shape              Param #   \n",
      "=================================================================\n",
      "input_1 (InputLayer)         (None, 3072)              0         \n",
      "_________________________________________________________________\n",
      "hidden_layer1 (Dense)        (None, 512)               1573376   \n",
      "_________________________________________________________________\n",
      "batch_normalization_1 (Batch (None, 512)               2048      \n",
      "_________________________________________________________________\n",
      "hidden_layer2 (Dense)        (None, 256)               131328    \n",
      "_________________________________________________________________\n",
      "batch_normalization_2 (Batch (None, 256)               1024      \n",
      "_________________________________________________________________\n",
      "hidden_layer3 (Dense)        (None, 128)               32896     \n",
      "_________________________________________________________________\n",
      "batch_normalization_3 (Batch (None, 128)               512       \n",
      "_________________________________________________________________\n",
      "output (Dense)               (None, 10)                1290      \n",
      "=================================================================\n",
      "Total params: 1,742,474\n",
      "Trainable params: 1,740,682\n",
      "Non-trainable params: 1,792\n",
      "_________________________________________________________________\n",
      "WARNING:tensorflow:From /usr/local/lib/python3.5/dist-packages/tensorflow/python/ops/math_ops.py:3066: to_int32 (from tensorflow.python.ops.math_ops) is deprecated and will be removed in a future version.\n",
      "Instructions for updating:\n",
      "Use tf.cast instead.\n",
      "Train on 50000 samples, validate on 10000 samples\n",
      "Epoch 1/25\n",
      "50000/50000 [==============================] - 9s 186us/step - loss: 2.2541 - acc: 0.2666 - val_loss: 2.2166 - val_acc: 0.3032\n",
      "Epoch 2/25\n",
      "50000/50000 [==============================] - 2s 33us/step - loss: 1.7595 - acc: 0.3888 - val_loss: 1.8905 - val_acc: 0.3616\n",
      "Epoch 3/25\n",
      "50000/50000 [==============================] - 2s 33us/step - loss: 1.6276 - acc: 0.4334 - val_loss: 1.6987 - val_acc: 0.4069\n",
      "Epoch 4/25\n",
      "50000/50000 [==============================] - 2s 33us/step - loss: 1.5523 - acc: 0.4556 - val_loss: 1.6475 - val_acc: 0.4224\n",
      "Epoch 5/25\n",
      "50000/50000 [==============================] - 2s 33us/step - loss: 1.4946 - acc: 0.4789 - val_loss: 1.6110 - val_acc: 0.4296\n",
      "Epoch 6/25\n",
      "50000/50000 [==============================] - 2s 33us/step - loss: 1.4498 - acc: 0.4945 - val_loss: 1.5743 - val_acc: 0.4463\n",
      "Epoch 7/25\n",
      "50000/50000 [==============================] - 2s 33us/step - loss: 1.4094 - acc: 0.5102 - val_loss: 1.5543 - val_acc: 0.4485\n",
      "Epoch 8/25\n",
      "50000/50000 [==============================] - 2s 33us/step - loss: 1.3741 - acc: 0.5214 - val_loss: 1.5439 - val_acc: 0.4499\n",
      "Epoch 9/25\n",
      "50000/50000 [==============================] - 2s 33us/step - loss: 1.3436 - acc: 0.5324 - val_loss: 1.5214 - val_acc: 0.4545\n",
      "Epoch 10/25\n",
      "50000/50000 [==============================] - 2s 33us/step - loss: 1.3120 - acc: 0.5433 - val_loss: 1.5045 - val_acc: 0.4662\n",
      "Epoch 11/25\n",
      "50000/50000 [==============================] - 2s 33us/step - loss: 1.2832 - acc: 0.5537 - val_loss: 1.4968 - val_acc: 0.4672\n",
      "Epoch 12/25\n",
      "50000/50000 [==============================] - 2s 33us/step - loss: 1.2556 - acc: 0.5654 - val_loss: 1.4845 - val_acc: 0.4717\n",
      "Epoch 13/25\n",
      "50000/50000 [==============================] - 2s 33us/step - loss: 1.2313 - acc: 0.5735 - val_loss: 1.4708 - val_acc: 0.4802\n",
      "Epoch 14/25\n",
      "50000/50000 [==============================] - 2s 33us/step - loss: 1.2067 - acc: 0.5835 - val_loss: 1.4780 - val_acc: 0.4733\n",
      "Epoch 15/25\n",
      "50000/50000 [==============================] - 2s 33us/step - loss: 1.1813 - acc: 0.5942 - val_loss: 1.4687 - val_acc: 0.4785\n",
      "Epoch 16/25\n",
      "50000/50000 [==============================] - 2s 33us/step - loss: 1.1573 - acc: 0.6028 - val_loss: 1.4574 - val_acc: 0.4795\n",
      "Epoch 17/25\n",
      "50000/50000 [==============================] - 2s 33us/step - loss: 1.1345 - acc: 0.6102 - val_loss: 1.4582 - val_acc: 0.4814\n",
      "Epoch 18/25\n",
      "50000/50000 [==============================] - 2s 33us/step - loss: 1.1114 - acc: 0.6199 - val_loss: 1.4459 - val_acc: 0.4931\n",
      "Epoch 19/25\n",
      "50000/50000 [==============================] - 2s 33us/step - loss: 1.0899 - acc: 0.6282 - val_loss: 1.4446 - val_acc: 0.4869\n",
      "Epoch 20/25\n",
      "50000/50000 [==============================] - 2s 33us/step - loss: 1.0663 - acc: 0.6368 - val_loss: 1.4516 - val_acc: 0.4860\n",
      "Epoch 21/25\n",
      "50000/50000 [==============================] - 2s 33us/step - loss: 1.0469 - acc: 0.6450 - val_loss: 1.4587 - val_acc: 0.4909\n",
      "Epoch 22/25\n",
      "50000/50000 [==============================] - 2s 33us/step - loss: 1.0262 - acc: 0.6530 - val_loss: 1.4435 - val_acc: 0.4911\n",
      "Epoch 23/25\n",
      "50000/50000 [==============================] - 2s 33us/step - loss: 1.0033 - acc: 0.6610 - val_loss: 1.4419 - val_acc: 0.4931\n",
      "Epoch 24/25\n",
      "50000/50000 [==============================] - 2s 33us/step - loss: 0.9843 - acc: 0.6686 - val_loss: 1.4745 - val_acc: 0.4844\n",
      "Epoch 25/25\n",
      "50000/50000 [==============================] - 2s 33us/step - loss: 0.9635 - acc: 0.6761 - val_loss: 1.4609 - val_acc: 0.4956\n"
     ]
    }
   ],
   "source": [
    "model = build_mlp(input_shape=x_train.shape[1:])\n",
    "model.summary()\n",
    "optimizer = keras.optimizers.SGD(lr=LEARNING_RATE, nesterov=True, momentum=MOMENTUM)\n",
    "model.compile(loss=\"categorical_crossentropy\", metrics=[\"accuracy\"], optimizer=optimizer)\n",
    "\n",
    "\"\"\"\n",
    "To do:\n",
    "Fit the model with rec_tptn callback_fn\n",
    "\"\"\"\n",
    "model.fit(x_train, y_train, \n",
    "          epochs=EPOCHS, \n",
    "          batch_size=BATCH_SIZE, \n",
    "          validation_data=(x_test, y_test), \n",
    "          shuffle=True,\n",
    "          callbacks=[rec_tptn]\n",
    "         )\n",
    "\n",
    "# Collect results\n",
    "train_loss = model.history.history[\"loss\"]\n",
    "valid_loss = model.history.history[\"val_loss\"]\n",
    "train_acc = model.history.history[\"acc\"]\n",
    "valid_acc = model.history.history[\"val_acc\"]\n",
    "\n",
    "\"\"\"\n",
    "To do:\n",
    "Collect tp/tn from model history\n",
    "\"\"\"\n",
    "valid_tp = model.history.history['val_tp']\n",
    "valid_tn = model.history.history['val_tn']"
   ]
  },
  {
   "cell_type": "code",
   "execution_count": 9,
   "metadata": {},
   "outputs": [
    {
     "data": {
      "image/png": "[encoded data removed]",
      "text/plain": [
       "<Figure size 432x288 with 1 Axes>"
      ]
     },
     "metadata": {
      "needs_background": "light"
     },
     "output_type": "display_data"
    },
    {
     "data": {
      "image/png": "[encoded data removed]",
      "text/plain": [
       "<Figure size 432x288 with 1 Axes>"
      ]
     },
     "metadata": {
      "needs_background": "light"
     },
     "output_type": "display_data"
    },
    {
     "data": {
      "image/png": "[encoded data removed]",
      "text/plain": [
       "<Figure size 432x288 with 1 Axes>"
      ]
     },
     "metadata": {
      "needs_background": "light"
     },
     "output_type": "display_data"
    }
   ],
   "source": [
    "import matplotlib.pyplot as plt\n",
    "%matplotlib inline\n",
    "\n",
    "plt.plot(range(len(train_loss)), train_loss, label=\"train loss\")\n",
    "plt.plot(range(len(valid_loss)), valid_loss, label=\"valid loss\")\n",
    "plt.legend()\n",
    "plt.title(\"Loss\")\n",
    "plt.show()\n",
    "\n",
    "plt.plot(range(len(train_acc)), train_acc, label=\"train accuracy\")\n",
    "plt.plot(range(len(valid_acc)), valid_acc, label=\"valid accuracy\")\n",
    "plt.legend()\n",
    "plt.title(\"Accuracy\")\n",
    "plt.show()\n",
    "\n",
    "plt.plot(range(len(valid_tp)), valid_tp, label=\"valid tp\", color=\"navy\")\n",
    "plt.plot(range(len(valid_tn)), valid_tn, label=\"valid tn\", color=\"red\")\n",
    "plt.legend()\n",
    "plt.title(\"True positives and True Negatives\")\n",
    "plt.show()\n"
   ]
  },
  {
   "cell_type": "code",
   "execution_count": null,
   "metadata": {},
   "outputs": [],
   "source": []
  }
 ],
 "metadata": {
  "kernelspec": {
   "display_name": "Python 3",
   "language": "python",
   "name": "python3"
  },
  "language_info": {
   "codemirror_mode": {
    "name": "ipython",
    "version": 3
   },
   "file_extension": ".py",
   "mimetype": "text/x-python",
   "name": "python",
   "nbconvert_exporter": "python",
   "pygments_lexer": "ipython3",
   "version": "3.5.2"
  }
 },
 "nbformat": 4,
 "nbformat_minor": 2
}
