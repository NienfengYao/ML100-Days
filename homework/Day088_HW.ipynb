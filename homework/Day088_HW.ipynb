{
 "cells": [
  {
   "cell_type": "markdown",
   "metadata": {},
   "source": [
    "## Work\n",
    "1. 請嘗試寫一個 callback 用來記錄各類別在訓練過程中，對驗證集的 True Positive 與 True Negative"
   ]
  },
  {
   "cell_type": "code",
   "execution_count": 1,
   "metadata": {},
   "outputs": [
    {
     "name": "stderr",
     "output_type": "stream",
     "text": [
      "Using TensorFlow backend.\n"
     ]
    }
   ],
   "source": [
    "import os\n",
    "import keras\n",
    "\n",
    "# Disable GPU\n",
    "# os.environ[\"CUDA_VISIBLE_DEVICES\"] = \"\""
   ]
  },
  {
   "cell_type": "code",
   "execution_count": 2,
   "metadata": {},
   "outputs": [],
   "source": [
    "train, test = keras.datasets.cifar10.load_data()"
   ]
  },
  {
   "cell_type": "code",
   "execution_count": 3,
   "metadata": {},
   "outputs": [],
   "source": [
    "## 資料前處理\n",
    "def preproc_x(x, flatten=True):\n",
    "    x = x / 255.\n",
    "    if flatten:\n",
    "        x = x.reshape((len(x), -1))\n",
    "    return x\n",
    "\n",
    "def preproc_y(y, num_classes=10):\n",
    "    if y.shape[-1] == 1:\n",
    "        y = keras.utils.to_categorical(y, num_classes)\n",
    "    return y    "
   ]
  },
  {
   "cell_type": "code",
   "execution_count": 4,
   "metadata": {},
   "outputs": [],
   "source": [
    "x_train, y_train = train\n",
    "x_test, y_test = test\n",
    "\n",
    "# Preproc the inputs\n",
    "x_train = preproc_x(x_train)\n",
    "x_test = preproc_x(x_test)\n",
    "\n",
    "# Preprc the outputs\n",
    "y_train = preproc_y(y_train)\n",
    "y_test = preproc_y(y_test)"
   ]
  },
  {
   "cell_type": "code",
   "execution_count": 5,
   "metadata": {},
   "outputs": [],
   "source": [
    "from keras.layers import BatchNormalization\n",
    "def build_mlp(input_shape, output_units=10, num_neurons=[512, 256, 128]):\n",
    "    input_layer = keras.layers.Input(input_shape)\n",
    "    \n",
    "    for i, n_units in enumerate(num_neurons):\n",
    "        if i == 0:\n",
    "            x = keras.layers.Dense(units=n_units, \n",
    "                                   activation=\"relu\", \n",
    "                                   name=\"hidden_layer\"+str(i+1))(input_layer)\n",
    "            x = BatchNormalization()(x)\n",
    "        else:\n",
    "            x = keras.layers.Dense(units=n_units, \n",
    "                                   activation=\"relu\", \n",
    "                                   name=\"hidden_layer\"+str(i+1))(x)\n",
    "            x = BatchNormalization()(x)\n",
    "    \n",
    "    out = keras.layers.Dense(units=output_units, activation=\"softmax\", name=\"output\")(x)\n",
    "    \n",
    "    model = keras.models.Model(inputs=[input_layer], outputs=[out])\n",
    "    return model"
   ]
  },
  {
   "cell_type": "code",
   "execution_count": 6,
   "metadata": {},
   "outputs": [],
   "source": [
    "## 超參數設定\n",
    "LEARNING_RATE = 1e-3\n",
    "EPOCHS = 25\n",
    "BATCH_SIZE = 1024\n",
    "MOMENTUM = 0.95"
   ]
  },
  {
   "cell_type": "code",
   "execution_count": 7,
   "metadata": {},
   "outputs": [],
   "source": [
    "# 載入 Callbacks\n",
    "from keras.callbacks import Callback\n",
    "from sklearn.metrics import confusion_matrix\n",
    "\n",
    "# Record_fp_tp\n",
    "class Record_tp_tn(Callback):\n",
    "    def on_train_begin(self, epoch, logs = {}):\n",
    "        logs = logs or {}\n",
    "        record_items = [\"val_tp\", \"val_tn\"]\n",
    "        for i in record_items:\n",
    "            if i not in self.params['metrics']:\n",
    "                self.params['metrics'].append(i)\n",
    "                \n",
    "    def on_epoch_end(self, epoch, logs = {}, thres=0.5):\n",
    "        logs = logs or {}\n",
    "        y_true = self.validation_data[1].argmax(axis = 1)\n",
    "        y_pred = self.model.predict(self.validation_data[0])\n",
    "        y_pred = (y_pred[:, 1] >= thres) * 1\n",
    "        \n",
    "        cm = confusion_matrix(y_true, y_pred)\n",
    "        logs[\"val_tp\"] = cm[1][1]\n",
    "        logs[\"val_tn\"] = cm[0][0]\n",
    "\n",
    "rec_tptn = Record_tp_tn()"
   ]
  },
  {
   "cell_type": "code",
   "execution_count": 8,
   "metadata": {
    "scrolled": true
   },
   "outputs": [
    {
     "name": "stdout",
     "output_type": "stream",
     "text": [
      "WARNING:tensorflow:From /usr/local/lib/python3.5/dist-packages/tensorflow/python/framework/op_def_library.py:263: colocate_with (from tensorflow.python.framework.ops) is deprecated and will be removed in a future version.\n",
      "Instructions for updating:\n",
      "Colocations handled automatically by placer.\n",
      "_________________________________________________________________\n",
      "Layer (type)                 Output Shape              Param #   \n",
      "=================================================================\n",
      "input_1 (InputLayer)         (None, 3072)              0         \n",
      "_________________________________________________________________\n",
      "hidden_layer1 (Dense)        (None, 512)               1573376   \n",
      "_________________________________________________________________\n",
      "batch_normalization_1 (Batch (None, 512)               2048      \n",
      "_________________________________________________________________\n",
      "hidden_layer2 (Dense)        (None, 256)               131328    \n",
      "_________________________________________________________________\n",
      "batch_normalization_2 (Batch (None, 256)               1024      \n",
      "_________________________________________________________________\n",
      "hidden_layer3 (Dense)        (None, 128)               32896     \n",
      "_________________________________________________________________\n",
      "batch_normalization_3 (Batch (None, 128)               512       \n",
      "_________________________________________________________________\n",
      "output (Dense)               (None, 10)                1290      \n",
      "=================================================================\n",
      "Total params: 1,742,474\n",
      "Trainable params: 1,740,682\n",
      "Non-trainable params: 1,792\n",
      "_________________________________________________________________\n",
      "WARNING:tensorflow:From /usr/local/lib/python3.5/dist-packages/tensorflow/python/ops/math_ops.py:3066: to_int32 (from tensorflow.python.ops.math_ops) is deprecated and will be removed in a future version.\n",
      "Instructions for updating:\n",
      "Use tf.cast instead.\n",
      "Train on 50000 samples, validate on 10000 samples\n",
      "Epoch 1/25\n",
      " 9216/50000 [====>.........................] - ETA: 2:28 - loss: 2.8390 - acc: 0.1280"
     ]
    },
    {
     "name": "stderr",
     "output_type": "stream",
     "text": [
      "/usr/local/lib/python3.5/dist-packages/keras/callbacks.py:122: UserWarning: Method on_batch_end() is slow compared to the batch update (0.356097). Check your callbacks.\n",
      "  % delta_t_median)\n"
     ]
    },
    {
     "name": "stdout",
     "output_type": "stream",
     "text": [
      "50000/50000 [==============================] - 35s 698us/step - loss: 2.2121 - acc: 0.2709 - val_loss: 2.1215 - val_acc: 0.2977\n",
      "Epoch 2/25\n",
      "50000/50000 [==============================] - 2s 33us/step - loss: 1.7370 - acc: 0.3943 - val_loss: 1.8177 - val_acc: 0.3723\n",
      "Epoch 3/25\n",
      "50000/50000 [==============================] - 2s 31us/step - loss: 1.6100 - acc: 0.4349 - val_loss: 1.6935 - val_acc: 0.4024\n",
      "Epoch 4/25\n",
      "50000/50000 [==============================] - 2s 31us/step - loss: 1.5366 - acc: 0.4592 - val_loss: 1.6193 - val_acc: 0.4295\n",
      "Epoch 5/25\n",
      "50000/50000 [==============================] - 2s 31us/step - loss: 1.4799 - acc: 0.4814 - val_loss: 1.5812 - val_acc: 0.4438\n",
      "Epoch 6/25\n",
      "50000/50000 [==============================] - 2s 31us/step - loss: 1.4357 - acc: 0.4985 - val_loss: 1.5641 - val_acc: 0.4477\n",
      "Epoch 7/25\n",
      "50000/50000 [==============================] - 2s 31us/step - loss: 1.3979 - acc: 0.5107 - val_loss: 1.5558 - val_acc: 0.4525\n",
      "Epoch 8/25\n",
      "50000/50000 [==============================] - 2s 31us/step - loss: 1.3614 - acc: 0.5257 - val_loss: 1.5222 - val_acc: 0.4622\n",
      "Epoch 9/25\n",
      "50000/50000 [==============================] - 2s 31us/step - loss: 1.3281 - acc: 0.5367 - val_loss: 1.5171 - val_acc: 0.4671\n",
      "Epoch 10/25\n",
      "50000/50000 [==============================] - 2s 31us/step - loss: 1.3001 - acc: 0.5474 - val_loss: 1.4974 - val_acc: 0.4737\n",
      "Epoch 11/25\n",
      "50000/50000 [==============================] - 2s 31us/step - loss: 1.2718 - acc: 0.5590 - val_loss: 1.4873 - val_acc: 0.4743\n",
      "Epoch 12/25\n",
      "50000/50000 [==============================] - 2s 31us/step - loss: 1.2453 - acc: 0.5665 - val_loss: 1.4898 - val_acc: 0.4741\n",
      "Epoch 13/25\n",
      "50000/50000 [==============================] - 2s 31us/step - loss: 1.2208 - acc: 0.5765 - val_loss: 1.4761 - val_acc: 0.4849\n",
      "Epoch 14/25\n",
      "50000/50000 [==============================] - 2s 31us/step - loss: 1.1957 - acc: 0.5875 - val_loss: 1.4654 - val_acc: 0.4853\n",
      "Epoch 15/25\n",
      "50000/50000 [==============================] - 2s 31us/step - loss: 1.1741 - acc: 0.5942 - val_loss: 1.4689 - val_acc: 0.4891\n",
      "Epoch 16/25\n",
      "50000/50000 [==============================] - 2s 31us/step - loss: 1.1484 - acc: 0.6058 - val_loss: 1.4608 - val_acc: 0.4911\n",
      "Epoch 17/25\n",
      "50000/50000 [==============================] - 2s 31us/step - loss: 1.1263 - acc: 0.6141 - val_loss: 1.4554 - val_acc: 0.4934\n",
      "Epoch 18/25\n",
      "50000/50000 [==============================] - 2s 31us/step - loss: 1.1044 - acc: 0.6211 - val_loss: 1.4575 - val_acc: 0.4933\n",
      "Epoch 19/25\n",
      "50000/50000 [==============================] - 2s 31us/step - loss: 1.0811 - acc: 0.6297 - val_loss: 1.4507 - val_acc: 0.4947\n",
      "Epoch 20/25\n",
      "50000/50000 [==============================] - 2s 31us/step - loss: 1.0596 - acc: 0.6397 - val_loss: 1.4467 - val_acc: 0.4945\n",
      "Epoch 21/25\n",
      "50000/50000 [==============================] - 2s 31us/step - loss: 1.0383 - acc: 0.6484 - val_loss: 1.4481 - val_acc: 0.4965\n",
      "Epoch 22/25\n",
      "50000/50000 [==============================] - 2s 31us/step - loss: 1.0186 - acc: 0.6569 - val_loss: 1.4616 - val_acc: 0.4902\n",
      "Epoch 23/25\n",
      "50000/50000 [==============================] - 2s 31us/step - loss: 0.9964 - acc: 0.6661 - val_loss: 1.4529 - val_acc: 0.4969\n",
      "Epoch 24/25\n",
      "50000/50000 [==============================] - 2s 31us/step - loss: 0.9741 - acc: 0.6738 - val_loss: 1.4513 - val_acc: 0.4966\n",
      "Epoch 25/25\n",
      "50000/50000 [==============================] - 2s 31us/step - loss: 0.9547 - acc: 0.6814 - val_loss: 1.4571 - val_acc: 0.4976\n"
     ]
    }
   ],
   "source": [
    "model = build_mlp(input_shape=x_train.shape[1:])\n",
    "model.summary()\n",
    "optimizer = keras.optimizers.SGD(lr=LEARNING_RATE, nesterov=True, momentum=MOMENTUM)\n",
    "model.compile(loss=\"categorical_crossentropy\", metrics=[\"accuracy\"], optimizer=optimizer)\n",
    "\n",
    "\"\"\"\n",
    "To do:\n",
    "Fit the model with rec_tptn callback_fn\n",
    "\"\"\"\n",
    "model.fit(x_train, y_train, \n",
    "          epochs=EPOCHS, \n",
    "          batch_size=BATCH_SIZE, \n",
    "          validation_data=(x_test, y_test), \n",
    "          shuffle=True,\n",
    "          callbacks=[rec_tptn]\n",
    "         )\n",
    "\n",
    "# Collect results\n",
    "train_loss = model.history.history[\"loss\"]\n",
    "valid_loss = model.history.history[\"val_loss\"]\n",
    "train_acc = model.history.history[\"acc\"]\n",
    "valid_acc = model.history.history[\"val_acc\"]\n",
    "\n",
    "\"\"\"\n",
    "To do:\n",
    "Collect tp/tn from model history\n",
    "\"\"\"\n",
    "valid_tp = model.history.history['val_tp']\n",
    "valid_tn = model.history.history['val_tn']"
   ]
  },
  {
   "cell_type": "code",
   "execution_count": 9,
   "metadata": {},
   "outputs": [
    {
     "data": {
      "image/png": "[encoded data removed]",
      "text/plain": [
       "<Figure size 432x288 with 1 Axes>"
      ]
     },
     "metadata": {
      "needs_background": "light"
     },
     "output_type": "display_data"
    },
    {
     "data": {
      "image/png": "[encoded data removed]",
      "text/plain": [
       "<Figure size 432x288 with 1 Axes>"
      ]
     },
     "metadata": {
      "needs_background": "light"
     },
     "output_type": "display_data"
    },
    {
     "data": {
      "image/png": "[encoded data removed]",
      "text/plain": [
       "<Figure size 432x288 with 1 Axes>"
      ]
     },
     "metadata": {
      "needs_background": "light"
     },
     "output_type": "display_data"
    }
   ],
   "source": [
    "import matplotlib.pyplot as plt\n",
    "%matplotlib inline\n",
    "\n",
    "plt.plot(range(len(train_loss)), train_loss, label=\"train loss\")\n",
    "plt.plot(range(len(valid_loss)), valid_loss, label=\"valid loss\")\n",
    "plt.legend()\n",
    "plt.title(\"Loss\")\n",
    "plt.show()\n",
    "\n",
    "plt.plot(range(len(train_acc)), train_acc, label=\"train accuracy\")\n",
    "plt.plot(range(len(valid_acc)), valid_acc, label=\"valid accuracy\")\n",
    "plt.legend()\n",
    "plt.title(\"Accuracy\")\n",
    "plt.show()\n",
    "\n",
    "plt.plot(range(len(valid_tp)), valid_tp, label=\"valid tp\", color=\"navy\")\n",
    "plt.plot(range(len(valid_tn)), valid_tn, label=\"valid tn\", color=\"red\")\n",
    "plt.legend()\n",
    "plt.title(\"True positives and True Negatives\")\n",
    "plt.show()\n"
   ]
  },
  {
   "cell_type": "code",
   "execution_count": null,
   "metadata": {},
   "outputs": [],
   "source": []
  }
 ],
 "metadata": {
  "kernelspec": {
   "display_name": "Python 3",
   "language": "python",
   "name": "python3"
  },
  "language_info": {
   "codemirror_mode": {
    "name": "ipython",
    "version": 3
   },
   "file_extension": ".py",
   "mimetype": "text/x-python",
   "name": "python",
   "nbconvert_exporter": "python",
   "pygments_lexer": "ipython3",
   "version": "3.5.2"
  }
 },
 "nbformat": 4,
 "nbformat_minor": 2
}
