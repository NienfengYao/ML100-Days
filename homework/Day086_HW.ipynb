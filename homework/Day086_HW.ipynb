{
 "cells": [
  {
   "cell_type": "markdown",
   "metadata": {},
   "source": [
    "## Work\n",
    "1. 試比較 save_best_only 與否的差異\n",
    "  * save_best_only：如果save_best_only = True，被監測數據的最佳模型就不會被覆蓋。\n",
    "2. 請僅存入將 save_weights_only 設定為 True, 並嘗試 reset ipynb 並將模型與權重重新建回並預測 x_test\n",
    "  * save_weights_only：如果True，那麼只有模型的權重會被保存（model.save_weights（filepath）），否則的話，整個模型會被保存（model.save（filepath））。"
   ]
  },
  {
   "cell_type": "code",
   "execution_count": 1,
   "metadata": {},
   "outputs": [
    {
     "name": "stderr",
     "output_type": "stream",
     "text": [
      "Using TensorFlow backend.\n"
     ]
    }
   ],
   "source": [
    "import os\n",
    "import keras\n",
    "\n",
    "# Disable GPU\n",
    "# os.environ[\"CUDA_VISIBLE_DEVICES\"] = \"\""
   ]
  },
  {
   "cell_type": "code",
   "execution_count": 2,
   "metadata": {},
   "outputs": [],
   "source": [
    "train, test = keras.datasets.cifar10.load_data()"
   ]
  },
  {
   "cell_type": "code",
   "execution_count": 3,
   "metadata": {},
   "outputs": [],
   "source": [
    "## 資料前處理\n",
    "def preproc_x(x, flatten=True):\n",
    "    x = x / 255.\n",
    "    if flatten:\n",
    "        x = x.reshape((len(x), -1))\n",
    "    return x\n",
    "\n",
    "def preproc_y(y, num_classes=10):\n",
    "    if y.shape[-1] == 1:\n",
    "        y = keras.utils.to_categorical(y, num_classes)\n",
    "    return y    "
   ]
  },
  {
   "cell_type": "code",
   "execution_count": 4,
   "metadata": {},
   "outputs": [],
   "source": [
    "x_train, y_train = train\n",
    "x_test, y_test = test\n",
    "\n",
    "# Preproc the inputs\n",
    "x_train = preproc_x(x_train)\n",
    "x_test = preproc_x(x_test)\n",
    "\n",
    "# Preprc the outputs\n",
    "y_train = preproc_y(y_train)\n",
    "y_test = preproc_y(y_test)"
   ]
  },
  {
   "cell_type": "code",
   "execution_count": 5,
   "metadata": {},
   "outputs": [],
   "source": [
    "from keras.layers import BatchNormalization\n",
    "def build_mlp(input_shape, output_units=10, num_neurons=[512, 256, 128]):\n",
    "    input_layer = keras.layers.Input(input_shape)\n",
    "    \n",
    "    for i, n_units in enumerate(num_neurons):\n",
    "        if i == 0:\n",
    "            x = keras.layers.Dense(units=n_units, \n",
    "                                   activation=\"relu\", \n",
    "                                   name=\"hidden_layer\"+str(i+1))(input_layer)\n",
    "            x = BatchNormalization()(x)\n",
    "        else:\n",
    "            x = keras.layers.Dense(units=n_units, \n",
    "                                   activation=\"relu\", \n",
    "                                   name=\"hidden_layer\"+str(i+1))(x)\n",
    "            x = BatchNormalization()(x)\n",
    "    \n",
    "    out = keras.layers.Dense(units=output_units, activation=\"softmax\", name=\"output\")(x)\n",
    "    \n",
    "    model = keras.models.Model(inputs=[input_layer], outputs=[out])\n",
    "    return model"
   ]
  },
  {
   "cell_type": "code",
   "execution_count": 6,
   "metadata": {},
   "outputs": [],
   "source": [
    "## 超參數設定\n",
    "LEARNING_RATE = 1e-3\n",
    "EPOCHS = 50\n",
    "BATCH_SIZE = 1024\n",
    "MOMENTUM = 0.95"
   ]
  },
  {
   "cell_type": "markdown",
   "metadata": {},
   "source": [
    "## 1. 試比較 save_best_only 與否的差異\n",
    "* save_best_only = Fase，被監測數據的最佳模型就會被覆蓋。\n",
    "  * 可以由圖表(Red)中看出，由 load file 得出的參數，再計算所得的 loss, acc 都並非是最佳的那一組。\n",
    "  * 而圖表(Green)，則是原本 save_best_only=True 時的設置。"
   ]
  },
  {
   "cell_type": "code",
   "execution_count": 7,
   "metadata": {},
   "outputs": [],
   "source": [
    "# 載入 Callbacks\n",
    "from keras.callbacks import ModelCheckpoint\n",
    "\n",
    "model_ckpt = ModelCheckpoint(filepath=\"./tmp_not_save_best_only.h5\", \n",
    "                             monitor=\"val_loss\", \n",
    "                             save_best_only=False)"
   ]
  },
  {
   "cell_type": "code",
   "execution_count": 8,
   "metadata": {
    "scrolled": true
   },
   "outputs": [
    {
     "name": "stdout",
     "output_type": "stream",
     "text": [
      "WARNING:tensorflow:From /usr/local/lib/python3.5/dist-packages/tensorflow/python/framework/op_def_library.py:263: colocate_with (from tensorflow.python.framework.ops) is deprecated and will be removed in a future version.\n",
      "Instructions for updating:\n",
      "Colocations handled automatically by placer.\n",
      "_________________________________________________________________\n",
      "Layer (type)                 Output Shape              Param #   \n",
      "=================================================================\n",
      "input_1 (InputLayer)         (None, 3072)              0         \n",
      "_________________________________________________________________\n",
      "hidden_layer1 (Dense)        (None, 512)               1573376   \n",
      "_________________________________________________________________\n",
      "batch_normalization_1 (Batch (None, 512)               2048      \n",
      "_________________________________________________________________\n",
      "hidden_layer2 (Dense)        (None, 256)               131328    \n",
      "_________________________________________________________________\n",
      "batch_normalization_2 (Batch (None, 256)               1024      \n",
      "_________________________________________________________________\n",
      "hidden_layer3 (Dense)        (None, 128)               32896     \n",
      "_________________________________________________________________\n",
      "batch_normalization_3 (Batch (None, 128)               512       \n",
      "_________________________________________________________________\n",
      "output (Dense)               (None, 10)                1290      \n",
      "=================================================================\n",
      "Total params: 1,742,474\n",
      "Trainable params: 1,740,682\n",
      "Non-trainable params: 1,792\n",
      "_________________________________________________________________\n",
      "WARNING:tensorflow:From /usr/local/lib/python3.5/dist-packages/tensorflow/python/ops/math_ops.py:3066: to_int32 (from tensorflow.python.ops.math_ops) is deprecated and will be removed in a future version.\n",
      "Instructions for updating:\n",
      "Use tf.cast instead.\n",
      "Train on 50000 samples, validate on 10000 samples\n",
      "Epoch 1/50\n",
      "50000/50000 [==============================] - 7s 131us/step - loss: 2.1952 - acc: 0.2734 - val_loss: 2.2168 - val_acc: 0.3034\n",
      "Epoch 2/50\n",
      "50000/50000 [==============================] - 2s 33us/step - loss: 1.7384 - acc: 0.3958 - val_loss: 1.8117 - val_acc: 0.3865\n",
      "Epoch 3/50\n",
      "50000/50000 [==============================] - 2s 33us/step - loss: 1.6092 - acc: 0.4381 - val_loss: 1.6867 - val_acc: 0.4158\n",
      "Epoch 4/50\n",
      "50000/50000 [==============================] - 2s 33us/step - loss: 1.5344 - acc: 0.4648 - val_loss: 1.6271 - val_acc: 0.4329\n",
      "Epoch 5/50\n",
      "50000/50000 [==============================] - 2s 33us/step - loss: 1.4762 - acc: 0.4850 - val_loss: 1.6112 - val_acc: 0.4320\n",
      "Epoch 6/50\n",
      "50000/50000 [==============================] - 2s 33us/step - loss: 1.4317 - acc: 0.4990 - val_loss: 1.5708 - val_acc: 0.4489\n",
      "Epoch 7/50\n",
      "50000/50000 [==============================] - 2s 33us/step - loss: 1.3930 - acc: 0.5125 - val_loss: 1.5504 - val_acc: 0.4583\n",
      "Epoch 8/50\n",
      "50000/50000 [==============================] - 2s 33us/step - loss: 1.3557 - acc: 0.5262 - val_loss: 1.5207 - val_acc: 0.4699\n",
      "Epoch 9/50\n",
      "50000/50000 [==============================] - 2s 33us/step - loss: 1.3233 - acc: 0.5383 - val_loss: 1.5196 - val_acc: 0.4692\n",
      "Epoch 10/50\n",
      "50000/50000 [==============================] - 2s 33us/step - loss: 1.2960 - acc: 0.5481 - val_loss: 1.5001 - val_acc: 0.4734\n",
      "Epoch 11/50\n",
      "50000/50000 [==============================] - 2s 33us/step - loss: 1.2657 - acc: 0.5600 - val_loss: 1.4950 - val_acc: 0.4774\n",
      "Epoch 12/50\n",
      "50000/50000 [==============================] - 2s 33us/step - loss: 1.2400 - acc: 0.5690 - val_loss: 1.4868 - val_acc: 0.4778\n",
      "Epoch 13/50\n",
      "50000/50000 [==============================] - 2s 33us/step - loss: 1.2131 - acc: 0.5789 - val_loss: 1.4722 - val_acc: 0.4845\n",
      "Epoch 14/50\n",
      "50000/50000 [==============================] - 2s 33us/step - loss: 1.1886 - acc: 0.5894 - val_loss: 1.4817 - val_acc: 0.4816\n",
      "Epoch 15/50\n",
      "50000/50000 [==============================] - 2s 33us/step - loss: 1.1648 - acc: 0.5981 - val_loss: 1.4666 - val_acc: 0.4907\n",
      "Epoch 16/50\n",
      "50000/50000 [==============================] - 2s 33us/step - loss: 1.1419 - acc: 0.6072 - val_loss: 1.4669 - val_acc: 0.4878\n",
      "Epoch 17/50\n",
      "50000/50000 [==============================] - 2s 33us/step - loss: 1.1193 - acc: 0.6161 - val_loss: 1.4750 - val_acc: 0.4908\n",
      "Epoch 18/50\n",
      "50000/50000 [==============================] - 2s 33us/step - loss: 1.0966 - acc: 0.6246 - val_loss: 1.4646 - val_acc: 0.4892\n",
      "Epoch 19/50\n",
      "50000/50000 [==============================] - 2s 33us/step - loss: 1.0754 - acc: 0.6335 - val_loss: 1.4726 - val_acc: 0.4868\n",
      "Epoch 20/50\n",
      "50000/50000 [==============================] - 2s 33us/step - loss: 1.0524 - acc: 0.6420 - val_loss: 1.4671 - val_acc: 0.4898\n",
      "Epoch 21/50\n",
      "50000/50000 [==============================] - 2s 33us/step - loss: 1.0319 - acc: 0.6494 - val_loss: 1.4590 - val_acc: 0.4929\n",
      "Epoch 22/50\n",
      "50000/50000 [==============================] - 2s 33us/step - loss: 1.0095 - acc: 0.6585 - val_loss: 1.4739 - val_acc: 0.4918\n",
      "Epoch 23/50\n",
      "50000/50000 [==============================] - 2s 33us/step - loss: 0.9890 - acc: 0.6662 - val_loss: 1.4692 - val_acc: 0.4958\n",
      "Epoch 24/50\n",
      "50000/50000 [==============================] - 2s 33us/step - loss: 0.9673 - acc: 0.6752 - val_loss: 1.4616 - val_acc: 0.4969\n",
      "Epoch 25/50\n",
      "50000/50000 [==============================] - 2s 33us/step - loss: 0.9466 - acc: 0.6816 - val_loss: 1.4717 - val_acc: 0.4961\n",
      "Epoch 26/50\n",
      "50000/50000 [==============================] - 2s 33us/step - loss: 0.9263 - acc: 0.6886 - val_loss: 1.4913 - val_acc: 0.4931\n",
      "Epoch 27/50\n",
      "50000/50000 [==============================] - 2s 33us/step - loss: 0.9045 - acc: 0.6977 - val_loss: 1.4888 - val_acc: 0.4938\n",
      "Epoch 28/50\n",
      "50000/50000 [==============================] - 2s 33us/step - loss: 0.8853 - acc: 0.7058 - val_loss: 1.4804 - val_acc: 0.4967\n",
      "Epoch 29/50\n",
      "50000/50000 [==============================] - 2s 33us/step - loss: 0.8649 - acc: 0.7147 - val_loss: 1.4888 - val_acc: 0.4999\n",
      "Epoch 30/50\n",
      "50000/50000 [==============================] - 2s 33us/step - loss: 0.8458 - acc: 0.7208 - val_loss: 1.4865 - val_acc: 0.5004\n",
      "Epoch 31/50\n",
      "50000/50000 [==============================] - 2s 33us/step - loss: 0.8260 - acc: 0.7299 - val_loss: 1.5078 - val_acc: 0.4919\n",
      "Epoch 32/50\n",
      "50000/50000 [==============================] - 2s 33us/step - loss: 0.8070 - acc: 0.7365 - val_loss: 1.5156 - val_acc: 0.4892\n",
      "Epoch 33/50\n",
      "50000/50000 [==============================] - 2s 33us/step - loss: 0.7878 - acc: 0.7444 - val_loss: 1.5090 - val_acc: 0.4981\n",
      "Epoch 34/50\n",
      "50000/50000 [==============================] - 2s 33us/step - loss: 0.7688 - acc: 0.7519 - val_loss: 1.5286 - val_acc: 0.4917\n",
      "Epoch 35/50\n",
      "50000/50000 [==============================] - 2s 33us/step - loss: 0.7497 - acc: 0.7599 - val_loss: 1.5307 - val_acc: 0.4936\n",
      "Epoch 36/50\n",
      "50000/50000 [==============================] - 2s 33us/step - loss: 0.7295 - acc: 0.7679 - val_loss: 1.5329 - val_acc: 0.4964\n",
      "Epoch 37/50\n",
      "50000/50000 [==============================] - 2s 33us/step - loss: 0.7112 - acc: 0.7755 - val_loss: 1.5661 - val_acc: 0.4884\n",
      "Epoch 38/50\n",
      "50000/50000 [==============================] - 2s 33us/step - loss: 0.6929 - acc: 0.7822 - val_loss: 1.5616 - val_acc: 0.4945\n",
      "Epoch 39/50\n",
      "50000/50000 [==============================] - 2s 33us/step - loss: 0.6749 - acc: 0.7900 - val_loss: 1.5688 - val_acc: 0.4912\n",
      "Epoch 40/50\n",
      "50000/50000 [==============================] - 2s 33us/step - loss: 0.6588 - acc: 0.7949 - val_loss: 1.5858 - val_acc: 0.4918\n",
      "Epoch 41/50\n",
      "50000/50000 [==============================] - 2s 33us/step - loss: 0.6396 - acc: 0.8042 - val_loss: 1.5944 - val_acc: 0.4925\n",
      "Epoch 42/50\n",
      "50000/50000 [==============================] - 2s 33us/step - loss: 0.6193 - acc: 0.8118 - val_loss: 1.6019 - val_acc: 0.4864\n",
      "Epoch 43/50\n",
      "50000/50000 [==============================] - 2s 33us/step - loss: 0.6022 - acc: 0.8187 - val_loss: 1.6184 - val_acc: 0.4870\n",
      "Epoch 44/50\n",
      "50000/50000 [==============================] - 2s 33us/step - loss: 0.5848 - acc: 0.8261 - val_loss: 1.6196 - val_acc: 0.4929\n",
      "Epoch 45/50\n",
      "50000/50000 [==============================] - 2s 34us/step - loss: 0.5670 - acc: 0.8323 - val_loss: 1.6495 - val_acc: 0.4785\n"
     ]
    },
    {
     "name": "stdout",
     "output_type": "stream",
     "text": [
      "Epoch 46/50\n",
      "50000/50000 [==============================] - 2s 33us/step - loss: 0.5514 - acc: 0.8387 - val_loss: 1.6435 - val_acc: 0.4870\n",
      "Epoch 47/50\n",
      "50000/50000 [==============================] - 2s 33us/step - loss: 0.5344 - acc: 0.8462 - val_loss: 1.6491 - val_acc: 0.4943\n",
      "Epoch 48/50\n",
      "50000/50000 [==============================] - 2s 33us/step - loss: 0.5182 - acc: 0.8522 - val_loss: 1.6789 - val_acc: 0.4843\n",
      "Epoch 49/50\n",
      "50000/50000 [==============================] - 2s 33us/step - loss: 0.5006 - acc: 0.8592 - val_loss: 1.6734 - val_acc: 0.4891\n",
      "Epoch 50/50\n",
      "50000/50000 [==============================] - 2s 33us/step - loss: 0.4834 - acc: 0.8665 - val_loss: 1.7053 - val_acc: 0.4829\n",
      "10000/10000 [==============================] - 1s 65us/step\n",
      "10000/10000 [==============================] - 1s 53us/step\n"
     ]
    }
   ],
   "source": [
    "model = build_mlp(input_shape=x_train.shape[1:])\n",
    "model.summary()\n",
    "optimizer = keras.optimizers.SGD(lr=LEARNING_RATE, nesterov=True, momentum=MOMENTUM)\n",
    "model.compile(loss=\"categorical_crossentropy\", metrics=[\"accuracy\"], optimizer=optimizer)\n",
    "\n",
    "model.fit(x_train, y_train, \n",
    "          epochs=EPOCHS, \n",
    "          batch_size=BATCH_SIZE, \n",
    "          validation_data=(x_test, y_test), \n",
    "          shuffle=True,\n",
    "          callbacks=[model_ckpt]\n",
    "         )\n",
    "\n",
    "# Collect results\n",
    "train_loss = model.history.history[\"loss\"]\n",
    "valid_loss = model.history.history[\"val_loss\"]\n",
    "train_acc = model.history.history[\"acc\"]\n",
    "valid_acc = model.history.history[\"val_acc\"]"
   ]
  },
  {
   "cell_type": "code",
   "execution_count": 14,
   "metadata": {},
   "outputs": [
    {
     "name": "stdout",
     "output_type": "stream",
     "text": [
      "10000/10000 [==============================] - 1s 75us/step\n",
      "10000/10000 [==============================] - 1s 82us/step\n"
     ]
    }
   ],
   "source": [
    "# Load back\n",
    "model = keras.models.load_model(\"./tmp_not_save_best_only.h5\")\n",
    "loss_loadback, acc_loadback = model.evaluate(x_test, y_test)\n",
    "\n",
    "model_org = keras.models.load_model(\"./tmp.h5\")\n",
    "loss_loadback_org, acc_loadback_org = model_org.evaluate(x_test, y_test)"
   ]
  },
  {
   "cell_type": "code",
   "execution_count": 15,
   "metadata": {},
   "outputs": [
    {
     "data": {
      "image/png": "[encoded data removed]",
      "text/plain": [
       "<Figure size 432x288 with 1 Axes>"
      ]
     },
     "metadata": {
      "needs_background": "light"
     },
     "output_type": "display_data"
    },
    {
     "data": {
      "image/png": "[encoded data removed]",
      "text/plain": [
       "<Figure size 432x288 with 1 Axes>"
      ]
     },
     "metadata": {
      "needs_background": "light"
     },
     "output_type": "display_data"
    }
   ],
   "source": [
    "import matplotlib.pyplot as plt\n",
    "%matplotlib inline\n",
    "\n",
    "plt.plot(range(len(train_loss)), train_loss, label=\"train loss\")\n",
    "plt.plot(range(len(valid_loss)), valid_loss, label=\"valid loss\")\n",
    "plt.hlines(y=loss_loadback, xmin=0, xmax=len(train_loss), colors='r', linestyles='--')\n",
    "plt.hlines(y=loss_loadback_org, xmin=0, xmax=len(train_loss), colors='g', linestyles='--')\n",
    "plt.legend()\n",
    "plt.title(\"Loss\")\n",
    "plt.show()\n",
    "\n",
    "plt.plot(range(len(train_acc)), train_acc, label=\"train accuracy\")\n",
    "plt.plot(range(len(valid_acc)), valid_acc, label=\"valid accuracy\")\n",
    "plt.hlines(y=acc_loadback, xmin=0, xmax=len(train_loss), colors='r', linestyles='--')\n",
    "plt.hlines(y=acc_loadback_org, xmin=0, xmax=len(train_loss), colors='g', linestyles='--')\n",
    "plt.legend()\n",
    "plt.title(\"Accuracy\")\n",
    "plt.show()"
   ]
  },
  {
   "cell_type": "markdown",
   "metadata": {},
   "source": [
    "## 2. 請僅存入將 save_weights_only 設定為 True, 並嘗試 reset ipynb 並將模型與權重重新建回並預測 x_test\n",
    "save_weights_only：如果True，那麼只有模型的權重會被保存（model.save_weights（filepath）），否則的話，整個模型會被保存（model.save（filepath））。。"
   ]
  },
  {
   "cell_type": "code",
   "execution_count": 17,
   "metadata": {},
   "outputs": [],
   "source": [
    "# 載入 Callbacks\n",
    "from keras.callbacks import ModelCheckpoint\n",
    "\n",
    "model_ckpt = ModelCheckpoint(filepath=\"./tmp_save_weight_only.h5\", \n",
    "                             monitor=\"val_loss\", \n",
    "                             save_best_only=True, \n",
    "                             save_weights_only=True)"
   ]
  },
  {
   "cell_type": "code",
   "execution_count": 18,
   "metadata": {},
   "outputs": [
    {
     "name": "stdout",
     "output_type": "stream",
     "text": [
      "_________________________________________________________________\n",
      "Layer (type)                 Output Shape              Param #   \n",
      "=================================================================\n",
      "input_2 (InputLayer)         (None, 3072)              0         \n",
      "_________________________________________________________________\n",
      "hidden_layer1 (Dense)        (None, 512)               1573376   \n",
      "_________________________________________________________________\n",
      "batch_normalization_4 (Batch (None, 512)               2048      \n",
      "_________________________________________________________________\n",
      "hidden_layer2 (Dense)        (None, 256)               131328    \n",
      "_________________________________________________________________\n",
      "batch_normalization_5 (Batch (None, 256)               1024      \n",
      "_________________________________________________________________\n",
      "hidden_layer3 (Dense)        (None, 128)               32896     \n",
      "_________________________________________________________________\n",
      "batch_normalization_6 (Batch (None, 128)               512       \n",
      "_________________________________________________________________\n",
      "output (Dense)               (None, 10)                1290      \n",
      "=================================================================\n",
      "Total params: 1,742,474\n",
      "Trainable params: 1,740,682\n",
      "Non-trainable params: 1,792\n",
      "_________________________________________________________________\n",
      "Train on 50000 samples, validate on 10000 samples\n",
      "Epoch 1/50\n",
      "50000/50000 [==============================] - 3s 56us/step - loss: 2.1993 - acc: 0.2652 - val_loss: 2.1943 - val_acc: 0.3112\n",
      "Epoch 2/50\n",
      "50000/50000 [==============================] - 2s 32us/step - loss: 1.7416 - acc: 0.3894 - val_loss: 1.8327 - val_acc: 0.3723\n",
      "Epoch 3/50\n",
      "50000/50000 [==============================] - 2s 32us/step - loss: 1.6143 - acc: 0.4324 - val_loss: 1.6931 - val_acc: 0.4120\n",
      "Epoch 4/50\n",
      "50000/50000 [==============================] - 2s 32us/step - loss: 1.5388 - acc: 0.4574 - val_loss: 1.6292 - val_acc: 0.4286\n",
      "Epoch 5/50\n",
      "50000/50000 [==============================] - 2s 32us/step - loss: 1.4832 - acc: 0.4767 - val_loss: 1.5828 - val_acc: 0.4444\n",
      "Epoch 6/50\n",
      "50000/50000 [==============================] - 2s 32us/step - loss: 1.4381 - acc: 0.4923 - val_loss: 1.5599 - val_acc: 0.4556\n",
      "Epoch 7/50\n",
      "50000/50000 [==============================] - 2s 32us/step - loss: 1.4004 - acc: 0.5069 - val_loss: 1.5495 - val_acc: 0.4570\n",
      "Epoch 8/50\n",
      "50000/50000 [==============================] - 2s 32us/step - loss: 1.3649 - acc: 0.5198 - val_loss: 1.5260 - val_acc: 0.4645\n",
      "Epoch 9/50\n",
      "50000/50000 [==============================] - 2s 32us/step - loss: 1.3343 - acc: 0.5327 - val_loss: 1.5099 - val_acc: 0.4696\n",
      "Epoch 10/50\n",
      "50000/50000 [==============================] - 2s 32us/step - loss: 1.3055 - acc: 0.5439 - val_loss: 1.4862 - val_acc: 0.4784\n",
      "Epoch 11/50\n",
      "50000/50000 [==============================] - 2s 32us/step - loss: 1.2770 - acc: 0.5563 - val_loss: 1.4810 - val_acc: 0.4773\n",
      "Epoch 12/50\n",
      "50000/50000 [==============================] - 2s 32us/step - loss: 1.2493 - acc: 0.5647 - val_loss: 1.4783 - val_acc: 0.4783\n",
      "Epoch 13/50\n",
      "50000/50000 [==============================] - 2s 32us/step - loss: 1.2259 - acc: 0.5735 - val_loss: 1.4696 - val_acc: 0.4827\n",
      "Epoch 14/50\n",
      "50000/50000 [==============================] - 2s 32us/step - loss: 1.2026 - acc: 0.5824 - val_loss: 1.4667 - val_acc: 0.4895\n",
      "Epoch 15/50\n",
      "50000/50000 [==============================] - 2s 32us/step - loss: 1.1776 - acc: 0.5916 - val_loss: 1.4562 - val_acc: 0.4881\n",
      "Epoch 16/50\n",
      "50000/50000 [==============================] - 2s 32us/step - loss: 1.1535 - acc: 0.6020 - val_loss: 1.4531 - val_acc: 0.4896\n",
      "Epoch 17/50\n",
      "50000/50000 [==============================] - 2s 32us/step - loss: 1.1325 - acc: 0.6082 - val_loss: 1.4546 - val_acc: 0.4903\n",
      "Epoch 18/50\n",
      "50000/50000 [==============================] - 2s 32us/step - loss: 1.1087 - acc: 0.6199 - val_loss: 1.4455 - val_acc: 0.4981\n",
      "Epoch 19/50\n",
      "50000/50000 [==============================] - 2s 32us/step - loss: 1.0864 - acc: 0.6270 - val_loss: 1.4616 - val_acc: 0.4889\n",
      "Epoch 20/50\n",
      "50000/50000 [==============================] - 2s 32us/step - loss: 1.0660 - acc: 0.6350 - val_loss: 1.4558 - val_acc: 0.4881\n",
      "Epoch 21/50\n",
      "50000/50000 [==============================] - 2s 32us/step - loss: 1.0442 - acc: 0.6422 - val_loss: 1.4463 - val_acc: 0.4912\n",
      "Epoch 22/50\n",
      "50000/50000 [==============================] - 2s 32us/step - loss: 1.0248 - acc: 0.6507 - val_loss: 1.4530 - val_acc: 0.4897\n",
      "Epoch 23/50\n",
      "50000/50000 [==============================] - 2s 32us/step - loss: 1.0037 - acc: 0.6602 - val_loss: 1.4451 - val_acc: 0.4973\n",
      "Epoch 24/50\n",
      "50000/50000 [==============================] - 2s 32us/step - loss: 0.9838 - acc: 0.6672 - val_loss: 1.4547 - val_acc: 0.4950\n",
      "Epoch 25/50\n",
      "50000/50000 [==============================] - 2s 32us/step - loss: 0.9629 - acc: 0.6767 - val_loss: 1.4470 - val_acc: 0.4963\n",
      "Epoch 26/50\n",
      "50000/50000 [==============================] - 2s 32us/step - loss: 0.9427 - acc: 0.6837 - val_loss: 1.4508 - val_acc: 0.4974\n",
      "Epoch 27/50\n",
      "50000/50000 [==============================] - 2s 32us/step - loss: 0.9221 - acc: 0.6924 - val_loss: 1.4528 - val_acc: 0.4972\n",
      "Epoch 28/50\n",
      "50000/50000 [==============================] - 2s 32us/step - loss: 0.9024 - acc: 0.6989 - val_loss: 1.4657 - val_acc: 0.4912\n",
      "Epoch 29/50\n",
      "50000/50000 [==============================] - 2s 32us/step - loss: 0.8833 - acc: 0.7068 - val_loss: 1.4707 - val_acc: 0.4889\n",
      "Epoch 30/50\n",
      "50000/50000 [==============================] - 2s 32us/step - loss: 0.8634 - acc: 0.7150 - val_loss: 1.4727 - val_acc: 0.4963\n",
      "Epoch 31/50\n",
      "50000/50000 [==============================] - 2s 32us/step - loss: 0.8442 - acc: 0.7212 - val_loss: 1.4726 - val_acc: 0.4888\n",
      "Epoch 32/50\n",
      "50000/50000 [==============================] - 2s 32us/step - loss: 0.8247 - acc: 0.7309 - val_loss: 1.4789 - val_acc: 0.4927\n",
      "Epoch 33/50\n",
      "50000/50000 [==============================] - 2s 32us/step - loss: 0.8062 - acc: 0.7376 - val_loss: 1.5006 - val_acc: 0.4919\n",
      "Epoch 34/50\n",
      "50000/50000 [==============================] - 2s 32us/step - loss: 0.7850 - acc: 0.7479 - val_loss: 1.4986 - val_acc: 0.4952\n",
      "Epoch 35/50\n",
      "50000/50000 [==============================] - 2s 32us/step - loss: 0.7672 - acc: 0.7523 - val_loss: 1.5166 - val_acc: 0.4953\n",
      "Epoch 36/50\n",
      "50000/50000 [==============================] - 2s 32us/step - loss: 0.7498 - acc: 0.7601 - val_loss: 1.5007 - val_acc: 0.4979\n",
      "Epoch 37/50\n",
      "50000/50000 [==============================] - 2s 32us/step - loss: 0.7312 - acc: 0.7676 - val_loss: 1.5175 - val_acc: 0.4945\n",
      "Epoch 38/50\n",
      "50000/50000 [==============================] - 2s 32us/step - loss: 0.7128 - acc: 0.7746 - val_loss: 1.5534 - val_acc: 0.4903\n",
      "Epoch 39/50\n",
      "50000/50000 [==============================] - 2s 32us/step - loss: 0.6935 - acc: 0.7833 - val_loss: 1.5496 - val_acc: 0.4903\n",
      "Epoch 40/50\n",
      "50000/50000 [==============================] - 2s 32us/step - loss: 0.6763 - acc: 0.7906 - val_loss: 1.5493 - val_acc: 0.4884\n",
      "Epoch 41/50\n",
      "50000/50000 [==============================] - 2s 32us/step - loss: 0.6581 - acc: 0.7956 - val_loss: 1.5788 - val_acc: 0.4904\n",
      "Epoch 42/50\n",
      "50000/50000 [==============================] - 2s 32us/step - loss: 0.6402 - acc: 0.8040 - val_loss: 1.5609 - val_acc: 0.4961\n",
      "Epoch 43/50\n",
      "50000/50000 [==============================] - 2s 32us/step - loss: 0.6219 - acc: 0.8121 - val_loss: 1.5687 - val_acc: 0.4913\n",
      "Epoch 44/50\n",
      "50000/50000 [==============================] - 2s 32us/step - loss: 0.6025 - acc: 0.8186 - val_loss: 1.5998 - val_acc: 0.4832\n",
      "Epoch 45/50\n",
      "50000/50000 [==============================] - 2s 32us/step - loss: 0.5857 - acc: 0.8261 - val_loss: 1.6117 - val_acc: 0.4884\n",
      "Epoch 46/50\n",
      "50000/50000 [==============================] - 2s 32us/step - loss: 0.5690 - acc: 0.8322 - val_loss: 1.6038 - val_acc: 0.4910\n",
      "Epoch 47/50\n",
      "50000/50000 [==============================] - 2s 32us/step - loss: 0.5520 - acc: 0.8384 - val_loss: 1.6215 - val_acc: 0.4882\n",
      "Epoch 48/50\n",
      "50000/50000 [==============================] - 2s 32us/step - loss: 0.5363 - acc: 0.8446 - val_loss: 1.6474 - val_acc: 0.4893\n",
      "Epoch 49/50\n",
      "50000/50000 [==============================] - 2s 32us/step - loss: 0.5204 - acc: 0.8510 - val_loss: 1.6527 - val_acc: 0.4852\n"
     ]
    },
    {
     "name": "stdout",
     "output_type": "stream",
     "text": [
      "Epoch 50/50\n",
      "50000/50000 [==============================] - 2s 32us/step - loss: 0.5024 - acc: 0.8583 - val_loss: 1.6510 - val_acc: 0.4884\n"
     ]
    },
    {
     "data": {
      "text/plain": [
       "<keras.callbacks.History at 0x7fdc0a4d71d0>"
      ]
     },
     "execution_count": 18,
     "metadata": {},
     "output_type": "execute_result"
    }
   ],
   "source": [
    "model = build_mlp(input_shape=x_train.shape[1:])\n",
    "model.summary()\n",
    "optimizer = keras.optimizers.SGD(lr=LEARNING_RATE, nesterov=True, momentum=MOMENTUM)\n",
    "model.compile(loss=\"categorical_crossentropy\", metrics=[\"accuracy\"], optimizer=optimizer)\n",
    "\n",
    "model.fit(x_train, y_train, \n",
    "          epochs=EPOCHS, \n",
    "          batch_size=BATCH_SIZE, \n",
    "          validation_data=(x_test, y_test), \n",
    "          shuffle=True,\n",
    "          callbacks=[model_ckpt]\n",
    "         )"
   ]
  },
  {
   "cell_type": "code",
   "execution_count": null,
   "metadata": {},
   "outputs": [],
   "source": []
  }
 ],
 "metadata": {
  "anaconda-cloud": {},
  "kernelspec": {
   "display_name": "Python 3",
   "language": "python",
   "name": "python3"
  },
  "language_info": {
   "codemirror_mode": {
    "name": "ipython",
    "version": 3
   },
   "file_extension": ".py",
   "mimetype": "text/x-python",
   "name": "python",
   "nbconvert_exporter": "python",
   "pygments_lexer": "ipython3",
   "version": "3.5.2"
  }
 },
 "nbformat": 4,
 "nbformat_minor": 2
}
