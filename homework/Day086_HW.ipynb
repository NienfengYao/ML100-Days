{
 "cells": [
  {
   "cell_type": "markdown",
   "metadata": {},
   "source": [
    "## Work\n",
    "1. 試比較 save_best_only 與否的差異\n",
    "  * save_best_only：如果save_best_only = True，被監測數據的最佳模型就不會被覆蓋。\n",
    "2. 請僅存入將 save_weights_only 設定為 True, 並嘗試 reset ipynb 並將模型與權重重新建回並預測 x_test\n",
    "  * save_weights_only=True。只有模型的權重會被保存（model.save_weights（filepath）），需要重建 model 再載入權重\n",
    "  * save_weights_only=True。整個模型會被保存（model.save（filepath）)。直接載入即可，其資料已包含了 model 和 weight。"
   ]
  },
  {
   "cell_type": "code",
   "execution_count": 1,
   "metadata": {},
   "outputs": [
    {
     "name": "stderr",
     "output_type": "stream",
     "text": [
      "Using TensorFlow backend.\n"
     ]
    }
   ],
   "source": [
    "import os\n",
    "import keras\n",
    "\n",
    "# Disable GPU\n",
    "# os.environ[\"CUDA_VISIBLE_DEVICES\"] = \"\""
   ]
  },
  {
   "cell_type": "code",
   "execution_count": 2,
   "metadata": {},
   "outputs": [],
   "source": [
    "train, test = keras.datasets.cifar10.load_data()"
   ]
  },
  {
   "cell_type": "code",
   "execution_count": 3,
   "metadata": {},
   "outputs": [],
   "source": [
    "## 資料前處理\n",
    "def preproc_x(x, flatten=True):\n",
    "    x = x / 255.\n",
    "    if flatten:\n",
    "        x = x.reshape((len(x), -1))\n",
    "    return x\n",
    "\n",
    "def preproc_y(y, num_classes=10):\n",
    "    if y.shape[-1] == 1:\n",
    "        y = keras.utils.to_categorical(y, num_classes)\n",
    "    return y    "
   ]
  },
  {
   "cell_type": "code",
   "execution_count": 4,
   "metadata": {},
   "outputs": [],
   "source": [
    "x_train, y_train = train\n",
    "x_test, y_test = test\n",
    "\n",
    "# Preproc the inputs\n",
    "x_train = preproc_x(x_train)\n",
    "x_test = preproc_x(x_test)\n",
    "\n",
    "# Preprc the outputs\n",
    "y_train = preproc_y(y_train)\n",
    "y_test = preproc_y(y_test)"
   ]
  },
  {
   "cell_type": "code",
   "execution_count": 5,
   "metadata": {},
   "outputs": [],
   "source": [
    "from keras.layers import BatchNormalization\n",
    "def build_mlp(input_shape, output_units=10, num_neurons=[512, 256, 128]):\n",
    "    input_layer = keras.layers.Input(input_shape)\n",
    "    \n",
    "    for i, n_units in enumerate(num_neurons):\n",
    "        if i == 0:\n",
    "            x = keras.layers.Dense(units=n_units, \n",
    "                                   activation=\"relu\", \n",
    "                                   name=\"hidden_layer\"+str(i+1))(input_layer)\n",
    "            x = BatchNormalization()(x)\n",
    "        else:\n",
    "            x = keras.layers.Dense(units=n_units, \n",
    "                                   activation=\"relu\", \n",
    "                                   name=\"hidden_layer\"+str(i+1))(x)\n",
    "            x = BatchNormalization()(x)\n",
    "    \n",
    "    out = keras.layers.Dense(units=output_units, activation=\"softmax\", name=\"output\")(x)\n",
    "    \n",
    "    model = keras.models.Model(inputs=[input_layer], outputs=[out])\n",
    "    return model"
   ]
  },
  {
   "cell_type": "code",
   "execution_count": 6,
   "metadata": {},
   "outputs": [],
   "source": [
    "## 超參數設定\n",
    "LEARNING_RATE = 1e-3\n",
    "EPOCHS = 50\n",
    "BATCH_SIZE = 1024\n",
    "MOMENTUM = 0.95"
   ]
  },
  {
   "cell_type": "markdown",
   "metadata": {},
   "source": [
    "## 1. 試比較 save_best_only 與否的差異\n",
    "* save_best_only = Fase，被監測數據的最佳模型就會被覆蓋。\n",
    "  * 可以由圖表(Red)中看出，由 load file 得出的參數，再計算所得的 loss, acc 都並非是最佳的那一組。\n",
    "  * 而圖表(Green)，則是原本 save_best_only=True 時的設置。"
   ]
  },
  {
   "cell_type": "code",
   "execution_count": 7,
   "metadata": {},
   "outputs": [],
   "source": [
    "# 載入 Callbacks\n",
    "from keras.callbacks import ModelCheckpoint\n",
    "\n",
    "model_ckpt = ModelCheckpoint(filepath=\"./tmp_not_save_best_only.h5\", \n",
    "                             monitor=\"val_loss\", \n",
    "                             save_best_only=False)"
   ]
  },
  {
   "cell_type": "code",
   "execution_count": 8,
   "metadata": {
    "scrolled": true
   },
   "outputs": [
    {
     "name": "stdout",
     "output_type": "stream",
     "text": [
      "WARNING:tensorflow:From /usr/local/lib/python3.5/dist-packages/tensorflow/python/framework/op_def_library.py:263: colocate_with (from tensorflow.python.framework.ops) is deprecated and will be removed in a future version.\n",
      "Instructions for updating:\n",
      "Colocations handled automatically by placer.\n",
      "_________________________________________________________________\n",
      "Layer (type)                 Output Shape              Param #   \n",
      "=================================================================\n",
      "input_1 (InputLayer)         (None, 3072)              0         \n",
      "_________________________________________________________________\n",
      "hidden_layer1 (Dense)        (None, 512)               1573376   \n",
      "_________________________________________________________________\n",
      "batch_normalization_1 (Batch (None, 512)               2048      \n",
      "_________________________________________________________________\n",
      "hidden_layer2 (Dense)        (None, 256)               131328    \n",
      "_________________________________________________________________\n",
      "batch_normalization_2 (Batch (None, 256)               1024      \n",
      "_________________________________________________________________\n",
      "hidden_layer3 (Dense)        (None, 128)               32896     \n",
      "_________________________________________________________________\n",
      "batch_normalization_3 (Batch (None, 128)               512       \n",
      "_________________________________________________________________\n",
      "output (Dense)               (None, 10)                1290      \n",
      "=================================================================\n",
      "Total params: 1,742,474\n",
      "Trainable params: 1,740,682\n",
      "Non-trainable params: 1,792\n",
      "_________________________________________________________________\n",
      "WARNING:tensorflow:From /usr/local/lib/python3.5/dist-packages/tensorflow/python/ops/math_ops.py:3066: to_int32 (from tensorflow.python.ops.math_ops) is deprecated and will be removed in a future version.\n",
      "Instructions for updating:\n",
      "Use tf.cast instead.\n",
      "Train on 50000 samples, validate on 10000 samples\n",
      "Epoch 1/50\n",
      "50000/50000 [==============================] - 4s 72us/step - loss: 2.2041 - acc: 0.2743 - val_loss: 2.0661 - val_acc: 0.3296\n",
      "Epoch 2/50\n",
      "50000/50000 [==============================] - 2s 34us/step - loss: 1.7407 - acc: 0.3924 - val_loss: 1.7986 - val_acc: 0.3743\n",
      "Epoch 3/50\n",
      "50000/50000 [==============================] - 2s 34us/step - loss: 1.6179 - acc: 0.4336 - val_loss: 1.7089 - val_acc: 0.3954\n",
      "Epoch 4/50\n",
      "50000/50000 [==============================] - 2s 33us/step - loss: 1.5449 - acc: 0.4579 - val_loss: 1.6140 - val_acc: 0.4302\n",
      "Epoch 5/50\n",
      "50000/50000 [==============================] - 2s 34us/step - loss: 1.4903 - acc: 0.4783 - val_loss: 1.5928 - val_acc: 0.4350\n",
      "Epoch 6/50\n",
      "50000/50000 [==============================] - 2s 33us/step - loss: 1.4449 - acc: 0.4941 - val_loss: 1.5664 - val_acc: 0.4460\n",
      "Epoch 7/50\n",
      "50000/50000 [==============================] - 2s 34us/step - loss: 1.4053 - acc: 0.5103 - val_loss: 1.5411 - val_acc: 0.4581\n",
      "Epoch 8/50\n",
      "50000/50000 [==============================] - 2s 34us/step - loss: 1.3698 - acc: 0.5215 - val_loss: 1.5342 - val_acc: 0.4600\n",
      "Epoch 9/50\n",
      "50000/50000 [==============================] - 2s 34us/step - loss: 1.3361 - acc: 0.5343 - val_loss: 1.5113 - val_acc: 0.4674\n",
      "Epoch 10/50\n",
      "50000/50000 [==============================] - 2s 34us/step - loss: 1.3071 - acc: 0.5448 - val_loss: 1.4936 - val_acc: 0.4778\n",
      "Epoch 11/50\n",
      "50000/50000 [==============================] - 2s 34us/step - loss: 1.2776 - acc: 0.5558 - val_loss: 1.4852 - val_acc: 0.4783\n",
      "Epoch 12/50\n",
      "50000/50000 [==============================] - 2s 33us/step - loss: 1.2482 - acc: 0.5669 - val_loss: 1.4876 - val_acc: 0.4772\n",
      "Epoch 13/50\n",
      "50000/50000 [==============================] - 2s 34us/step - loss: 1.2239 - acc: 0.5755 - val_loss: 1.4730 - val_acc: 0.4754\n",
      "Epoch 14/50\n",
      "50000/50000 [==============================] - 2s 33us/step - loss: 1.1983 - acc: 0.5856 - val_loss: 1.4602 - val_acc: 0.4879\n",
      "Epoch 15/50\n",
      "50000/50000 [==============================] - 2s 33us/step - loss: 1.1731 - acc: 0.5948 - val_loss: 1.4591 - val_acc: 0.4874\n",
      "Epoch 16/50\n",
      "50000/50000 [==============================] - 2s 34us/step - loss: 1.1484 - acc: 0.6051 - val_loss: 1.4649 - val_acc: 0.4878\n",
      "Epoch 17/50\n",
      "50000/50000 [==============================] - 2s 33us/step - loss: 1.1279 - acc: 0.6135 - val_loss: 1.4590 - val_acc: 0.4910\n",
      "Epoch 18/50\n",
      "50000/50000 [==============================] - 2s 34us/step - loss: 1.1029 - acc: 0.6229 - val_loss: 1.4712 - val_acc: 0.4832\n",
      "Epoch 19/50\n",
      "50000/50000 [==============================] - 2s 34us/step - loss: 1.0813 - acc: 0.6320 - val_loss: 1.4546 - val_acc: 0.4932\n",
      "Epoch 20/50\n",
      "50000/50000 [==============================] - 2s 34us/step - loss: 1.0605 - acc: 0.6386 - val_loss: 1.4484 - val_acc: 0.4928\n",
      "Epoch 21/50\n",
      "50000/50000 [==============================] - 2s 33us/step - loss: 1.0373 - acc: 0.6476 - val_loss: 1.4508 - val_acc: 0.4983\n",
      "Epoch 22/50\n",
      "50000/50000 [==============================] - 2s 34us/step - loss: 1.0159 - acc: 0.6555 - val_loss: 1.4593 - val_acc: 0.4933\n",
      "Epoch 23/50\n",
      "50000/50000 [==============================] - 2s 33us/step - loss: 0.9945 - acc: 0.6644 - val_loss: 1.4631 - val_acc: 0.4922\n",
      "Epoch 24/50\n",
      "50000/50000 [==============================] - 2s 34us/step - loss: 0.9748 - acc: 0.6717 - val_loss: 1.4485 - val_acc: 0.4992\n",
      "Epoch 25/50\n",
      "50000/50000 [==============================] - 2s 33us/step - loss: 0.9519 - acc: 0.6809 - val_loss: 1.4519 - val_acc: 0.5033\n",
      "Epoch 26/50\n",
      "50000/50000 [==============================] - 2s 34us/step - loss: 0.9327 - acc: 0.6872 - val_loss: 1.4594 - val_acc: 0.4981\n",
      "Epoch 27/50\n",
      "50000/50000 [==============================] - 2s 34us/step - loss: 0.9113 - acc: 0.6971 - val_loss: 1.4602 - val_acc: 0.4976\n",
      "Epoch 28/50\n",
      "50000/50000 [==============================] - 2s 34us/step - loss: 0.8924 - acc: 0.7074 - val_loss: 1.4634 - val_acc: 0.4980\n",
      "Epoch 29/50\n",
      "50000/50000 [==============================] - 2s 33us/step - loss: 0.8729 - acc: 0.7121 - val_loss: 1.4724 - val_acc: 0.4964\n",
      "Epoch 30/50\n",
      "50000/50000 [==============================] - 2s 34us/step - loss: 0.8524 - acc: 0.7211 - val_loss: 1.4782 - val_acc: 0.4954\n",
      "Epoch 31/50\n",
      "50000/50000 [==============================] - 2s 33us/step - loss: 0.8329 - acc: 0.7276 - val_loss: 1.4871 - val_acc: 0.4956\n",
      "Epoch 32/50\n",
      "50000/50000 [==============================] - 2s 33us/step - loss: 0.8121 - acc: 0.7375 - val_loss: 1.5011 - val_acc: 0.4937\n",
      "Epoch 33/50\n",
      "50000/50000 [==============================] - 2s 34us/step - loss: 0.7951 - acc: 0.7431 - val_loss: 1.4940 - val_acc: 0.5019\n",
      "Epoch 34/50\n",
      "50000/50000 [==============================] - 2s 34us/step - loss: 0.7759 - acc: 0.7508 - val_loss: 1.5027 - val_acc: 0.4981\n",
      "Epoch 35/50\n",
      "50000/50000 [==============================] - 2s 33us/step - loss: 0.7566 - acc: 0.7579 - val_loss: 1.5099 - val_acc: 0.5005\n",
      "Epoch 36/50\n",
      "50000/50000 [==============================] - 2s 33us/step - loss: 0.7382 - acc: 0.7655 - val_loss: 1.5390 - val_acc: 0.4906\n",
      "Epoch 37/50\n",
      "50000/50000 [==============================] - 2s 34us/step - loss: 0.7182 - acc: 0.7730 - val_loss: 1.5503 - val_acc: 0.4958\n",
      "Epoch 38/50\n",
      "50000/50000 [==============================] - 2s 33us/step - loss: 0.6986 - acc: 0.7810 - val_loss: 1.5481 - val_acc: 0.4922\n",
      "Epoch 39/50\n",
      "50000/50000 [==============================] - 2s 34us/step - loss: 0.6788 - acc: 0.7893 - val_loss: 1.5520 - val_acc: 0.4877\n",
      "Epoch 40/50\n",
      "50000/50000 [==============================] - 2s 33us/step - loss: 0.6635 - acc: 0.7943 - val_loss: 1.5587 - val_acc: 0.4934\n",
      "Epoch 41/50\n",
      "50000/50000 [==============================] - 2s 34us/step - loss: 0.6443 - acc: 0.8027 - val_loss: 1.5767 - val_acc: 0.4924\n",
      "Epoch 42/50\n",
      "50000/50000 [==============================] - 2s 34us/step - loss: 0.6259 - acc: 0.8093 - val_loss: 1.6221 - val_acc: 0.4838\n",
      "Epoch 43/50\n",
      "50000/50000 [==============================] - 2s 33us/step - loss: 0.6077 - acc: 0.8177 - val_loss: 1.5796 - val_acc: 0.4958\n",
      "Epoch 44/50\n",
      "50000/50000 [==============================] - 2s 34us/step - loss: 0.5908 - acc: 0.8232 - val_loss: 1.6181 - val_acc: 0.4894\n",
      "Epoch 45/50\n",
      "50000/50000 [==============================] - 2s 33us/step - loss: 0.5760 - acc: 0.8290 - val_loss: 1.6171 - val_acc: 0.4940\n"
     ]
    },
    {
     "name": "stdout",
     "output_type": "stream",
     "text": [
      "Epoch 46/50\n",
      "50000/50000 [==============================] - 2s 33us/step - loss: 0.5555 - acc: 0.8377 - val_loss: 1.6324 - val_acc: 0.4929\n",
      "Epoch 47/50\n",
      "50000/50000 [==============================] - 2s 33us/step - loss: 0.5386 - acc: 0.8429 - val_loss: 1.6370 - val_acc: 0.4899\n",
      "Epoch 48/50\n",
      "50000/50000 [==============================] - 2s 34us/step - loss: 0.5217 - acc: 0.8514 - val_loss: 1.6554 - val_acc: 0.4927\n",
      "Epoch 49/50\n",
      "50000/50000 [==============================] - 2s 33us/step - loss: 0.5058 - acc: 0.8560 - val_loss: 1.6964 - val_acc: 0.4858\n",
      "Epoch 50/50\n",
      "50000/50000 [==============================] - 2s 33us/step - loss: 0.4921 - acc: 0.8609 - val_loss: 1.6927 - val_acc: 0.4880\n"
     ]
    }
   ],
   "source": [
    "keras.backend.clear_session()\n",
    "model = build_mlp(input_shape=x_train.shape[1:])\n",
    "model.summary()\n",
    "optimizer = keras.optimizers.SGD(lr=LEARNING_RATE, nesterov=True, momentum=MOMENTUM)\n",
    "model.compile(loss=\"categorical_crossentropy\", metrics=[\"accuracy\"], optimizer=optimizer)\n",
    "\n",
    "model.fit(x_train, y_train, \n",
    "          epochs=EPOCHS, \n",
    "          batch_size=BATCH_SIZE, \n",
    "          validation_data=(x_test, y_test), \n",
    "          shuffle=True,\n",
    "          callbacks=[model_ckpt]\n",
    "         )\n",
    "\n",
    "# Collect results\n",
    "train_loss = model.history.history[\"loss\"]\n",
    "valid_loss = model.history.history[\"val_loss\"]\n",
    "train_acc = model.history.history[\"acc\"]\n",
    "valid_acc = model.history.history[\"val_acc\"]"
   ]
  },
  {
   "cell_type": "code",
   "execution_count": 9,
   "metadata": {},
   "outputs": [
    {
     "name": "stdout",
     "output_type": "stream",
     "text": [
      "10000/10000 [==============================] - 1s 65us/step\n",
      "10000/10000 [==============================] - 1s 71us/step\n"
     ]
    }
   ],
   "source": [
    "# Load back\n",
    "model = keras.models.load_model(\"./tmp_not_save_best_only.h5\")\n",
    "loss_loadback, acc_loadback = model.evaluate(x_test, y_test)\n",
    "\n",
    "model_org = keras.models.load_model(\"./tmp.h5\")\n",
    "loss_loadback_org, acc_loadback_org = model_org.evaluate(x_test, y_test)"
   ]
  },
  {
   "cell_type": "code",
   "execution_count": 10,
   "metadata": {},
   "outputs": [
    {
     "data": {
      "image/png": "[encoded data removed]",
      "text/plain": [
       "<Figure size 432x288 with 1 Axes>"
      ]
     },
     "metadata": {
      "needs_background": "light"
     },
     "output_type": "display_data"
    },
    {
     "data": {
      "image/png": "[encoded data removed]",
      "text/plain": [
       "<Figure size 432x288 with 1 Axes>"
      ]
     },
     "metadata": {
      "needs_background": "light"
     },
     "output_type": "display_data"
    }
   ],
   "source": [
    "import matplotlib.pyplot as plt\n",
    "%matplotlib inline\n",
    "\n",
    "plt.plot(range(len(train_loss)), train_loss, label=\"train loss\")\n",
    "plt.plot(range(len(valid_loss)), valid_loss, label=\"valid loss\")\n",
    "plt.hlines(y=loss_loadback, xmin=0, xmax=len(train_loss), colors='r', linestyles='--')\n",
    "plt.hlines(y=loss_loadback_org, xmin=0, xmax=len(train_loss), colors='g', linestyles='--')\n",
    "plt.legend()\n",
    "plt.title(\"Loss\")\n",
    "plt.show()\n",
    "\n",
    "plt.plot(range(len(train_acc)), train_acc, label=\"train accuracy\")\n",
    "plt.plot(range(len(valid_acc)), valid_acc, label=\"valid accuracy\")\n",
    "plt.hlines(y=acc_loadback, xmin=0, xmax=len(train_loss), colors='r', linestyles='--')\n",
    "plt.hlines(y=acc_loadback_org, xmin=0, xmax=len(train_loss), colors='g', linestyles='--')\n",
    "plt.legend()\n",
    "plt.title(\"Accuracy\")\n",
    "plt.show()"
   ]
  },
  {
   "cell_type": "markdown",
   "metadata": {},
   "source": [
    "## 2. 請僅存入將 save_weights_only 設定為 True, 並嘗試 reset ipynb 並將模型與權重重新建回並預測 x_test\n",
    "save_weights_only：如果True，那麼只有模型的權重會被保存（model.save_weights（filepath）），否則的話，整個模型會被保存（model.save（filepath））。。"
   ]
  },
  {
   "cell_type": "code",
   "execution_count": 11,
   "metadata": {},
   "outputs": [],
   "source": [
    "# 載入 Callbacks\n",
    "from keras.callbacks import ModelCheckpoint\n",
    "\n",
    "model_ckpt = ModelCheckpoint(filepath=\"./tmp_save_weight_only.h5\", \n",
    "                             monitor=\"val_loss\", \n",
    "                             save_best_only=True, \n",
    "                             save_weights_only=True)"
   ]
  },
  {
   "cell_type": "code",
   "execution_count": 12,
   "metadata": {},
   "outputs": [
    {
     "name": "stdout",
     "output_type": "stream",
     "text": [
      "_________________________________________________________________\n",
      "Layer (type)                 Output Shape              Param #   \n",
      "=================================================================\n",
      "input_1 (InputLayer)         (None, 3072)              0         \n",
      "_________________________________________________________________\n",
      "hidden_layer1 (Dense)        (None, 512)               1573376   \n",
      "_________________________________________________________________\n",
      "batch_normalization_1 (Batch (None, 512)               2048      \n",
      "_________________________________________________________________\n",
      "hidden_layer2 (Dense)        (None, 256)               131328    \n",
      "_________________________________________________________________\n",
      "batch_normalization_2 (Batch (None, 256)               1024      \n",
      "_________________________________________________________________\n",
      "hidden_layer3 (Dense)        (None, 128)               32896     \n",
      "_________________________________________________________________\n",
      "batch_normalization_3 (Batch (None, 128)               512       \n",
      "_________________________________________________________________\n",
      "output (Dense)               (None, 10)                1290      \n",
      "=================================================================\n",
      "Total params: 1,742,474\n",
      "Trainable params: 1,740,682\n",
      "Non-trainable params: 1,792\n",
      "_________________________________________________________________\n",
      "Train on 50000 samples, validate on 10000 samples\n",
      "Epoch 1/50\n",
      "50000/50000 [==============================] - 2s 45us/step - loss: 2.1990 - acc: 0.2701 - val_loss: 2.0814 - val_acc: 0.3023\n",
      "Epoch 2/50\n",
      "50000/50000 [==============================] - 2s 33us/step - loss: 1.7440 - acc: 0.3932 - val_loss: 1.7602 - val_acc: 0.3942\n",
      "Epoch 3/50\n",
      "50000/50000 [==============================] - 2s 33us/step - loss: 1.6158 - acc: 0.4368 - val_loss: 1.6833 - val_acc: 0.4096\n",
      "Epoch 4/50\n",
      "50000/50000 [==============================] - 2s 33us/step - loss: 1.5412 - acc: 0.4628 - val_loss: 1.6190 - val_acc: 0.4287\n",
      "Epoch 5/50\n",
      "50000/50000 [==============================] - 2s 33us/step - loss: 1.4875 - acc: 0.4812 - val_loss: 1.6002 - val_acc: 0.4403\n",
      "Epoch 6/50\n",
      "50000/50000 [==============================] - 2s 33us/step - loss: 1.4422 - acc: 0.4961 - val_loss: 1.5811 - val_acc: 0.4457\n",
      "Epoch 7/50\n",
      "50000/50000 [==============================] - 2s 33us/step - loss: 1.4033 - acc: 0.5110 - val_loss: 1.5578 - val_acc: 0.4501\n",
      "Epoch 8/50\n",
      "50000/50000 [==============================] - 2s 33us/step - loss: 1.3694 - acc: 0.5245 - val_loss: 1.5365 - val_acc: 0.4539\n",
      "Epoch 9/50\n",
      "50000/50000 [==============================] - 2s 33us/step - loss: 1.3370 - acc: 0.5356 - val_loss: 1.5105 - val_acc: 0.4680\n",
      "Epoch 10/50\n",
      "50000/50000 [==============================] - 2s 33us/step - loss: 1.3060 - acc: 0.5455 - val_loss: 1.5019 - val_acc: 0.4743\n",
      "Epoch 11/50\n",
      "50000/50000 [==============================] - 2s 33us/step - loss: 1.2801 - acc: 0.5577 - val_loss: 1.4879 - val_acc: 0.4763\n",
      "Epoch 12/50\n",
      "50000/50000 [==============================] - 2s 33us/step - loss: 1.2530 - acc: 0.5657 - val_loss: 1.4874 - val_acc: 0.4774\n",
      "Epoch 13/50\n",
      "50000/50000 [==============================] - 2s 33us/step - loss: 1.2286 - acc: 0.5751 - val_loss: 1.4742 - val_acc: 0.4806\n",
      "Epoch 14/50\n",
      "50000/50000 [==============================] - 2s 33us/step - loss: 1.2029 - acc: 0.5863 - val_loss: 1.4629 - val_acc: 0.4860\n",
      "Epoch 15/50\n",
      "50000/50000 [==============================] - 2s 33us/step - loss: 1.1793 - acc: 0.5950 - val_loss: 1.4735 - val_acc: 0.4855\n",
      "Epoch 16/50\n",
      "50000/50000 [==============================] - 2s 33us/step - loss: 1.1581 - acc: 0.6018 - val_loss: 1.4567 - val_acc: 0.4940\n",
      "Epoch 17/50\n",
      "50000/50000 [==============================] - 2s 33us/step - loss: 1.1346 - acc: 0.6113 - val_loss: 1.4614 - val_acc: 0.4899\n",
      "Epoch 18/50\n",
      "50000/50000 [==============================] - 2s 33us/step - loss: 1.1112 - acc: 0.6184 - val_loss: 1.4483 - val_acc: 0.4955\n",
      "Epoch 19/50\n",
      "50000/50000 [==============================] - 2s 33us/step - loss: 1.0895 - acc: 0.6280 - val_loss: 1.4529 - val_acc: 0.5014\n",
      "Epoch 20/50\n",
      "50000/50000 [==============================] - 2s 33us/step - loss: 1.0686 - acc: 0.6360 - val_loss: 1.4673 - val_acc: 0.4887\n",
      "Epoch 21/50\n",
      "50000/50000 [==============================] - 2s 33us/step - loss: 1.0453 - acc: 0.6461 - val_loss: 1.4448 - val_acc: 0.4991\n",
      "Epoch 22/50\n",
      "50000/50000 [==============================] - 2s 33us/step - loss: 1.0247 - acc: 0.6528 - val_loss: 1.4795 - val_acc: 0.4821\n",
      "Epoch 23/50\n",
      "50000/50000 [==============================] - 2s 33us/step - loss: 1.0030 - acc: 0.6617 - val_loss: 1.4500 - val_acc: 0.4997\n",
      "Epoch 24/50\n",
      "50000/50000 [==============================] - 2s 34us/step - loss: 0.9843 - acc: 0.6678 - val_loss: 1.4667 - val_acc: 0.4948\n",
      "Epoch 25/50\n",
      "50000/50000 [==============================] - 2s 34us/step - loss: 0.9629 - acc: 0.6773 - val_loss: 1.4633 - val_acc: 0.4943\n",
      "Epoch 26/50\n",
      "50000/50000 [==============================] - 2s 34us/step - loss: 0.9444 - acc: 0.6844 - val_loss: 1.4629 - val_acc: 0.4982\n",
      "Epoch 27/50\n",
      "50000/50000 [==============================] - 2s 33us/step - loss: 0.9236 - acc: 0.6929 - val_loss: 1.4625 - val_acc: 0.4972\n",
      "Epoch 28/50\n",
      "50000/50000 [==============================] - 2s 33us/step - loss: 0.9047 - acc: 0.7010 - val_loss: 1.4701 - val_acc: 0.4958\n",
      "Epoch 29/50\n",
      "50000/50000 [==============================] - 2s 34us/step - loss: 0.8831 - acc: 0.7094 - val_loss: 1.4638 - val_acc: 0.4972\n",
      "Epoch 30/50\n",
      "50000/50000 [==============================] - 2s 33us/step - loss: 0.8630 - acc: 0.7160 - val_loss: 1.4822 - val_acc: 0.4965\n",
      "Epoch 31/50\n",
      "50000/50000 [==============================] - 2s 33us/step - loss: 0.8458 - acc: 0.7228 - val_loss: 1.4855 - val_acc: 0.4969\n",
      "Epoch 32/50\n",
      "50000/50000 [==============================] - 2s 33us/step - loss: 0.8240 - acc: 0.7309 - val_loss: 1.4929 - val_acc: 0.4956\n",
      "Epoch 33/50\n",
      "50000/50000 [==============================] - 2s 33us/step - loss: 0.8053 - acc: 0.7382 - val_loss: 1.4928 - val_acc: 0.4919\n",
      "Epoch 34/50\n",
      "50000/50000 [==============================] - 2s 33us/step - loss: 0.7878 - acc: 0.7462 - val_loss: 1.5084 - val_acc: 0.4941\n",
      "Epoch 35/50\n",
      "50000/50000 [==============================] - 2s 33us/step - loss: 0.7680 - acc: 0.7529 - val_loss: 1.5086 - val_acc: 0.4937\n",
      "Epoch 36/50\n",
      "50000/50000 [==============================] - 2s 33us/step - loss: 0.7491 - acc: 0.7621 - val_loss: 1.5314 - val_acc: 0.4982\n",
      "Epoch 37/50\n",
      "50000/50000 [==============================] - 2s 33us/step - loss: 0.7304 - acc: 0.7676 - val_loss: 1.5224 - val_acc: 0.5007\n",
      "Epoch 38/50\n",
      "50000/50000 [==============================] - 2s 33us/step - loss: 0.7122 - acc: 0.7752 - val_loss: 1.5376 - val_acc: 0.4965\n",
      "Epoch 39/50\n",
      "50000/50000 [==============================] - 2s 33us/step - loss: 0.6945 - acc: 0.7808 - val_loss: 1.5385 - val_acc: 0.4984\n",
      "Epoch 40/50\n",
      "50000/50000 [==============================] - 2s 33us/step - loss: 0.6761 - acc: 0.7888 - val_loss: 1.5578 - val_acc: 0.4896\n",
      "Epoch 41/50\n",
      "50000/50000 [==============================] - 2s 33us/step - loss: 0.6570 - acc: 0.7977 - val_loss: 1.5498 - val_acc: 0.4967\n",
      "Epoch 42/50\n",
      "50000/50000 [==============================] - 2s 33us/step - loss: 0.6392 - acc: 0.8037 - val_loss: 1.5737 - val_acc: 0.4959\n",
      "Epoch 43/50\n",
      "50000/50000 [==============================] - 2s 33us/step - loss: 0.6215 - acc: 0.8118 - val_loss: 1.5852 - val_acc: 0.4937\n",
      "Epoch 44/50\n",
      "50000/50000 [==============================] - 2s 33us/step - loss: 0.6049 - acc: 0.8188 - val_loss: 1.5831 - val_acc: 0.4952\n",
      "Epoch 45/50\n",
      "50000/50000 [==============================] - 2s 33us/step - loss: 0.5874 - acc: 0.8258 - val_loss: 1.6055 - val_acc: 0.4880\n",
      "Epoch 46/50\n",
      "50000/50000 [==============================] - 2s 33us/step - loss: 0.5704 - acc: 0.8319 - val_loss: 1.6218 - val_acc: 0.5004\n",
      "Epoch 47/50\n",
      "50000/50000 [==============================] - 2s 34us/step - loss: 0.5546 - acc: 0.8385 - val_loss: 1.6200 - val_acc: 0.4921\n",
      "Epoch 48/50\n",
      "50000/50000 [==============================] - 2s 33us/step - loss: 0.5389 - acc: 0.8435 - val_loss: 1.6356 - val_acc: 0.4959\n",
      "Epoch 49/50\n",
      "50000/50000 [==============================] - 2s 33us/step - loss: 0.5215 - acc: 0.8516 - val_loss: 1.6611 - val_acc: 0.4868\n"
     ]
    },
    {
     "name": "stdout",
     "output_type": "stream",
     "text": [
      "Epoch 50/50\n",
      "50000/50000 [==============================] - 2s 33us/step - loss: 0.5059 - acc: 0.8562 - val_loss: 1.6600 - val_acc: 0.4917\n"
     ]
    },
    {
     "data": {
      "text/plain": [
       "<keras.callbacks.History at 0x7f7a20d25ef0>"
      ]
     },
     "execution_count": 12,
     "metadata": {},
     "output_type": "execute_result"
    }
   ],
   "source": [
    "keras.backend.clear_session()\n",
    "model = build_mlp(input_shape=x_train.shape[1:])\n",
    "model.summary()\n",
    "optimizer = keras.optimizers.SGD(lr=LEARNING_RATE, nesterov=True, momentum=MOMENTUM)\n",
    "model.compile(loss=\"categorical_crossentropy\", metrics=[\"accuracy\"], optimizer=optimizer)\n",
    "\n",
    "model.fit(x_train, y_train, \n",
    "          epochs=EPOCHS, \n",
    "          batch_size=BATCH_SIZE, \n",
    "          validation_data=(x_test, y_test), \n",
    "          shuffle=True,\n",
    "          callbacks=[model_ckpt]\n",
    "         )"
   ]
  },
  {
   "cell_type": "code",
   "execution_count": 13,
   "metadata": {},
   "outputs": [
    {
     "name": "stdout",
     "output_type": "stream",
     "text": [
      "_________________________________________________________________\n",
      "Layer (type)                 Output Shape              Param #   \n",
      "=================================================================\n",
      "input_1 (InputLayer)         (None, 3072)              0         \n",
      "_________________________________________________________________\n",
      "hidden_layer1 (Dense)        (None, 512)               1573376   \n",
      "_________________________________________________________________\n",
      "batch_normalization_1 (Batch (None, 512)               2048      \n",
      "_________________________________________________________________\n",
      "hidden_layer2 (Dense)        (None, 256)               131328    \n",
      "_________________________________________________________________\n",
      "batch_normalization_2 (Batch (None, 256)               1024      \n",
      "_________________________________________________________________\n",
      "hidden_layer3 (Dense)        (None, 128)               32896     \n",
      "_________________________________________________________________\n",
      "batch_normalization_3 (Batch (None, 128)               512       \n",
      "_________________________________________________________________\n",
      "output (Dense)               (None, 10)                1290      \n",
      "=================================================================\n",
      "Total params: 1,742,474\n",
      "Trainable params: 1,740,682\n",
      "Non-trainable params: 1,792\n",
      "_________________________________________________________________\n"
     ]
    }
   ],
   "source": [
    "keras.backend.clear_session()\n",
    "model = build_mlp(input_shape=x_train.shape[1:])\n",
    "model.load_weights(\"./tmp_save_weight_only.h5\")\n",
    "model.summary()"
   ]
  },
  {
   "cell_type": "code",
   "execution_count": 14,
   "metadata": {},
   "outputs": [
    {
     "name": "stdout",
     "output_type": "stream",
     "text": [
      "0.4991\n"
     ]
    }
   ],
   "source": [
    "import numpy as np\n",
    "\n",
    "y_pred = model.predict(x_test)\n",
    "_, y = test\n",
    "accuracy = sum(np.argmax(y_pred, axis=1) == y.reshape(10000,)) / len(y)\n",
    "print(accuracy)"
   ]
  },
  {
   "cell_type": "markdown",
   "metadata": {},
   "source": [
    "## 3. save_weights_only=False, 並嘗試 reset ipynb 並將模型與權重重新建回並預測 x_test"
   ]
  },
  {
   "cell_type": "code",
   "execution_count": 15,
   "metadata": {},
   "outputs": [
    {
     "name": "stdout",
     "output_type": "stream",
     "text": [
      "0.5005\n"
     ]
    }
   ],
   "source": [
    "import numpy as np\n",
    "\n",
    "keras.backend.clear_session()\n",
    "model = keras.models.load_model(\"./tmp.h5\")\n",
    "y_pred = model.predict(x_test)\n",
    "_, y = test\n",
    "\n",
    "accuracy = sum(np.argmax(y_pred, axis=1) == y.reshape(10000,)) / len(y)\n",
    "print(accuracy)"
   ]
  },
  {
   "cell_type": "code",
   "execution_count": null,
   "metadata": {},
   "outputs": [],
   "source": []
  }
 ],
 "metadata": {
  "anaconda-cloud": {},
  "kernelspec": {
   "display_name": "Python 3",
   "language": "python",
   "name": "python3"
  },
  "language_info": {
   "codemirror_mode": {
    "name": "ipython",
    "version": 3
   },
   "file_extension": ".py",
   "mimetype": "text/x-python",
   "name": "python",
   "nbconvert_exporter": "python",
   "pygments_lexer": "ipython3",
   "version": "3.5.2"
  }
 },
 "nbformat": 4,
 "nbformat_minor": 2
}
