{
 "cells": [
  {
   "cell_type": "code",
   "execution_count": 1,
   "metadata": {},
   "outputs": [
    {
     "name": "stderr",
     "output_type": "stream",
     "text": [
      "Using TensorFlow backend.\n"
     ]
    }
   ],
   "source": [
    "import os\n",
    "import keras\n",
    "\n",
    "# Disable GPU\n",
    "# os.environ[\"CUDA_VISIBLE_DEVICES\"] = \"\""
   ]
  },
  {
   "cell_type": "code",
   "execution_count": 2,
   "metadata": {},
   "outputs": [],
   "source": [
    "train, test = keras.datasets.cifar10.load_data()"
   ]
  },
  {
   "cell_type": "code",
   "execution_count": 3,
   "metadata": {},
   "outputs": [],
   "source": [
    "## 資料前處理\n",
    "def preproc_x(x, flatten=True):\n",
    "    x = x / 255.\n",
    "    if flatten:\n",
    "        x = x.reshape((len(x), -1))\n",
    "    return x\n",
    "\n",
    "def preproc_y(y, num_classes=10):\n",
    "    if y.shape[-1] == 1:\n",
    "        y = keras.utils.to_categorical(y, num_classes)\n",
    "    return y    "
   ]
  },
  {
   "cell_type": "code",
   "execution_count": 4,
   "metadata": {},
   "outputs": [],
   "source": [
    "x_train, y_train = train\n",
    "x_test, y_test = test\n",
    "\n",
    "# Preproc the inputs\n",
    "x_train = preproc_x(x_train)\n",
    "x_test = preproc_x(x_test)\n",
    "\n",
    "# Preprc the outputs\n",
    "y_train = preproc_y(y_train)\n",
    "y_test = preproc_y(y_test)"
   ]
  },
  {
   "cell_type": "code",
   "execution_count": 5,
   "metadata": {},
   "outputs": [],
   "source": [
    "from keras.layers import BatchNormalization\n",
    "def build_mlp(input_shape, output_units=10, num_neurons=[512, 256, 128]):\n",
    "    input_layer = keras.layers.Input(input_shape)\n",
    "    \n",
    "    for i, n_units in enumerate(num_neurons):\n",
    "        if i == 0:\n",
    "            x = keras.layers.Dense(units=n_units, \n",
    "                                   activation=\"relu\", \n",
    "                                   name=\"hidden_layer\"+str(i+1))(input_layer)\n",
    "            x = BatchNormalization()(x)\n",
    "        else:\n",
    "            x = keras.layers.Dense(units=n_units, \n",
    "                                   activation=\"relu\", \n",
    "                                   name=\"hidden_layer\"+str(i+1))(x)\n",
    "            x = BatchNormalization()(x)\n",
    "    \n",
    "    out = keras.layers.Dense(units=output_units, activation=\"softmax\", name=\"output\")(x)\n",
    "    \n",
    "    model = keras.models.Model(inputs=[input_layer], outputs=[out])\n",
    "    return model"
   ]
  },
  {
   "cell_type": "code",
   "execution_count": 6,
   "metadata": {},
   "outputs": [],
   "source": [
    "## 超參數設定\n",
    "LEARNING_RATE = 1e-3\n",
    "EPOCHS = 50\n",
    "BATCH_SIZE = 1024\n",
    "MOMENTUM = 0.95"
   ]
  },
  {
   "cell_type": "code",
   "execution_count": 7,
   "metadata": {},
   "outputs": [],
   "source": [
    "# 載入 Callbacks\n",
    "from keras.callbacks import Callback\n",
    "from sklearn.metrics import f1_score\n",
    "\n",
    "class f1sc(Callback):\n",
    "    def on_train_begin(self, epoch, logs = {}):\n",
    "        logs = logs or {}\n",
    "        record_items = [\"val_auc\", \"val_f1sc\", \"val_fp\", \"val_fn\", \"val_tp\", \"val_tn\"]\n",
    "        for i in record_items:\n",
    "            if i not in self.params['metrics']:\n",
    "                self.params['metrics'].append(i)\n",
    "    \n",
    "    def on_epoch_end(self, epoch, logs = {}, thres=0.5):\n",
    "        logs = logs or {}\n",
    "        y_true = self.validation_data[1].argmax(axis = 1)\n",
    "        y_pred = self.model.predict(self.validation_data[0])\n",
    "        y_pred = (y_pred[:, 1] >= thres) * 1\n",
    "        \n",
    "        logs[\"val_f1sc\"] = f1_score(y_true = y_true, y_pred = y_pred, average=\"weighted\")\n",
    "        \n",
    "log_f1sc = f1sc()"
   ]
  },
  {
   "cell_type": "code",
   "execution_count": 8,
   "metadata": {
    "scrolled": true
   },
   "outputs": [
    {
     "name": "stdout",
     "output_type": "stream",
     "text": [
      "WARNING:tensorflow:From /usr/local/lib/python3.5/dist-packages/tensorflow/python/framework/op_def_library.py:263: colocate_with (from tensorflow.python.framework.ops) is deprecated and will be removed in a future version.\n",
      "Instructions for updating:\n",
      "Colocations handled automatically by placer.\n",
      "_________________________________________________________________\n",
      "Layer (type)                 Output Shape              Param #   \n",
      "=================================================================\n",
      "input_1 (InputLayer)         (None, 3072)              0         \n",
      "_________________________________________________________________\n",
      "hidden_layer1 (Dense)        (None, 512)               1573376   \n",
      "_________________________________________________________________\n",
      "batch_normalization_1 (Batch (None, 512)               2048      \n",
      "_________________________________________________________________\n",
      "hidden_layer2 (Dense)        (None, 256)               131328    \n",
      "_________________________________________________________________\n",
      "batch_normalization_2 (Batch (None, 256)               1024      \n",
      "_________________________________________________________________\n",
      "hidden_layer3 (Dense)        (None, 128)               32896     \n",
      "_________________________________________________________________\n",
      "batch_normalization_3 (Batch (None, 128)               512       \n",
      "_________________________________________________________________\n",
      "output (Dense)               (None, 10)                1290      \n",
      "=================================================================\n",
      "Total params: 1,742,474\n",
      "Trainable params: 1,740,682\n",
      "Non-trainable params: 1,792\n",
      "_________________________________________________________________\n",
      "WARNING:tensorflow:From /usr/local/lib/python3.5/dist-packages/tensorflow/python/ops/math_ops.py:3066: to_int32 (from tensorflow.python.ops.math_ops) is deprecated and will be removed in a future version.\n",
      "Instructions for updating:\n",
      "Use tf.cast instead.\n",
      "Train on 50000 samples, validate on 10000 samples\n",
      "Epoch 1/50\n",
      "50000/50000 [==============================] - 3s 64us/step - loss: 2.1965 - acc: 0.2698 - val_loss: 1.9945 - val_acc: 0.3312\n",
      "Epoch 2/50\n",
      " 7168/50000 [===>..........................] - ETA: 1s - loss: 1.8152 - acc: 0.3742"
     ]
    },
    {
     "name": "stderr",
     "output_type": "stream",
     "text": [
      "/usr/local/lib/python3.5/dist-packages/sklearn/metrics/classification.py:1143: UndefinedMetricWarning: F-score is ill-defined and being set to 0.0 in labels with no predicted samples.\n",
      "  'precision', 'predicted', average, warn_for)\n"
     ]
    },
    {
     "name": "stdout",
     "output_type": "stream",
     "text": [
      "50000/50000 [==============================] - 2s 31us/step - loss: 1.7394 - acc: 0.3931 - val_loss: 1.8101 - val_acc: 0.3791\n",
      "Epoch 3/50\n",
      "50000/50000 [==============================] - 2s 31us/step - loss: 1.6180 - acc: 0.4337 - val_loss: 1.7342 - val_acc: 0.3993\n",
      "Epoch 4/50\n",
      "50000/50000 [==============================] - 2s 31us/step - loss: 1.5486 - acc: 0.4580 - val_loss: 1.6603 - val_acc: 0.4217\n",
      "Epoch 5/50\n",
      "50000/50000 [==============================] - 2s 31us/step - loss: 1.4931 - acc: 0.4777 - val_loss: 1.5995 - val_acc: 0.4346\n",
      "Epoch 6/50\n",
      "50000/50000 [==============================] - 2s 31us/step - loss: 1.4477 - acc: 0.4948 - val_loss: 1.5788 - val_acc: 0.4439\n",
      "Epoch 7/50\n",
      "50000/50000 [==============================] - 2s 31us/step - loss: 1.4078 - acc: 0.5078 - val_loss: 1.5540 - val_acc: 0.4501\n",
      "Epoch 8/50\n",
      "50000/50000 [==============================] - 2s 31us/step - loss: 1.3717 - acc: 0.5213 - val_loss: 1.5331 - val_acc: 0.4540\n",
      "Epoch 9/50\n",
      "50000/50000 [==============================] - 2s 31us/step - loss: 1.3390 - acc: 0.5329 - val_loss: 1.5237 - val_acc: 0.4569\n",
      "Epoch 10/50\n",
      "50000/50000 [==============================] - 2s 31us/step - loss: 1.3087 - acc: 0.5437 - val_loss: 1.5125 - val_acc: 0.4653\n",
      "Epoch 11/50\n",
      "50000/50000 [==============================] - 2s 31us/step - loss: 1.2812 - acc: 0.5546 - val_loss: 1.4937 - val_acc: 0.4693\n",
      "Epoch 12/50\n",
      "50000/50000 [==============================] - 2s 31us/step - loss: 1.2509 - acc: 0.5654 - val_loss: 1.4898 - val_acc: 0.4685\n",
      "Epoch 13/50\n",
      "50000/50000 [==============================] - 2s 31us/step - loss: 1.2260 - acc: 0.5754 - val_loss: 1.4867 - val_acc: 0.4727\n",
      "Epoch 14/50\n",
      "50000/50000 [==============================] - 2s 31us/step - loss: 1.2030 - acc: 0.5829 - val_loss: 1.4746 - val_acc: 0.4773\n",
      "Epoch 15/50\n",
      "50000/50000 [==============================] - 2s 31us/step - loss: 1.1759 - acc: 0.5950 - val_loss: 1.4807 - val_acc: 0.4812\n",
      "Epoch 16/50\n",
      "50000/50000 [==============================] - 2s 31us/step - loss: 1.1529 - acc: 0.6032 - val_loss: 1.4632 - val_acc: 0.4851\n",
      "Epoch 17/50\n",
      "50000/50000 [==============================] - 2s 31us/step - loss: 1.1295 - acc: 0.6125 - val_loss: 1.4521 - val_acc: 0.4893\n",
      "Epoch 18/50\n",
      "50000/50000 [==============================] - 2s 31us/step - loss: 1.1070 - acc: 0.6221 - val_loss: 1.4728 - val_acc: 0.4838\n",
      "Epoch 19/50\n",
      "50000/50000 [==============================] - 2s 31us/step - loss: 1.0878 - acc: 0.6286 - val_loss: 1.4444 - val_acc: 0.4902\n",
      "Epoch 20/50\n",
      "50000/50000 [==============================] - 2s 31us/step - loss: 1.0656 - acc: 0.6376 - val_loss: 1.4762 - val_acc: 0.4880\n",
      "Epoch 21/50\n",
      "50000/50000 [==============================] - 2s 31us/step - loss: 1.0418 - acc: 0.6465 - val_loss: 1.4656 - val_acc: 0.4909\n",
      "Epoch 22/50\n",
      "50000/50000 [==============================] - 2s 31us/step - loss: 1.0225 - acc: 0.6517 - val_loss: 1.4494 - val_acc: 0.4954\n",
      "Epoch 23/50\n",
      "50000/50000 [==============================] - 2s 31us/step - loss: 1.0004 - acc: 0.6627 - val_loss: 1.4655 - val_acc: 0.4868\n",
      "Epoch 24/50\n",
      "50000/50000 [==============================] - 2s 31us/step - loss: 0.9804 - acc: 0.6689 - val_loss: 1.4596 - val_acc: 0.4949\n",
      "Epoch 25/50\n",
      "50000/50000 [==============================] - 2s 31us/step - loss: 0.9614 - acc: 0.6760 - val_loss: 1.4628 - val_acc: 0.4949\n",
      "Epoch 26/50\n",
      "50000/50000 [==============================] - 2s 31us/step - loss: 0.9379 - acc: 0.6871 - val_loss: 1.4653 - val_acc: 0.4904\n",
      "Epoch 27/50\n",
      "50000/50000 [==============================] - 2s 31us/step - loss: 0.9190 - acc: 0.6932 - val_loss: 1.4694 - val_acc: 0.4904\n",
      "Epoch 28/50\n",
      "50000/50000 [==============================] - 2s 31us/step - loss: 0.8985 - acc: 0.7005 - val_loss: 1.4771 - val_acc: 0.4890\n",
      "Epoch 29/50\n",
      "50000/50000 [==============================] - 2s 31us/step - loss: 0.8797 - acc: 0.7114 - val_loss: 1.4718 - val_acc: 0.4954\n",
      "Epoch 30/50\n",
      "50000/50000 [==============================] - 2s 31us/step - loss: 0.8615 - acc: 0.7141 - val_loss: 1.4914 - val_acc: 0.4951\n",
      "Epoch 31/50\n",
      "50000/50000 [==============================] - 2s 31us/step - loss: 0.8394 - acc: 0.7257 - val_loss: 1.5062 - val_acc: 0.4878\n",
      "Epoch 32/50\n",
      "50000/50000 [==============================] - 2s 31us/step - loss: 0.8197 - acc: 0.7320 - val_loss: 1.5032 - val_acc: 0.4911\n",
      "Epoch 33/50\n",
      "50000/50000 [==============================] - 2s 31us/step - loss: 0.8007 - acc: 0.7403 - val_loss: 1.5041 - val_acc: 0.4954\n",
      "Epoch 34/50\n",
      "50000/50000 [==============================] - 2s 31us/step - loss: 0.7822 - acc: 0.7483 - val_loss: 1.5161 - val_acc: 0.4916\n",
      "Epoch 35/50\n",
      "50000/50000 [==============================] - 2s 31us/step - loss: 0.7643 - acc: 0.7528 - val_loss: 1.5215 - val_acc: 0.4916\n",
      "Epoch 36/50\n",
      "50000/50000 [==============================] - 2s 31us/step - loss: 0.7451 - acc: 0.7628 - val_loss: 1.5215 - val_acc: 0.4942\n",
      "Epoch 37/50\n",
      "50000/50000 [==============================] - 2s 31us/step - loss: 0.7253 - acc: 0.7705 - val_loss: 1.5295 - val_acc: 0.4909\n",
      "Epoch 38/50\n",
      "50000/50000 [==============================] - 2s 31us/step - loss: 0.7044 - acc: 0.7777 - val_loss: 1.5373 - val_acc: 0.4911\n",
      "Epoch 39/50\n",
      "50000/50000 [==============================] - 2s 31us/step - loss: 0.6878 - acc: 0.7858 - val_loss: 1.5716 - val_acc: 0.4891\n",
      "Epoch 40/50\n",
      "50000/50000 [==============================] - 2s 31us/step - loss: 0.6718 - acc: 0.7913 - val_loss: 1.5623 - val_acc: 0.4912\n",
      "Epoch 41/50\n",
      "50000/50000 [==============================] - 2s 31us/step - loss: 0.6536 - acc: 0.7969 - val_loss: 1.5665 - val_acc: 0.4897\n",
      "Epoch 42/50\n",
      "50000/50000 [==============================] - 2s 31us/step - loss: 0.6340 - acc: 0.8056 - val_loss: 1.5822 - val_acc: 0.4869\n",
      "Epoch 43/50\n",
      "50000/50000 [==============================] - 2s 31us/step - loss: 0.6178 - acc: 0.8122 - val_loss: 1.5992 - val_acc: 0.4832\n",
      "Epoch 44/50\n",
      "50000/50000 [==============================] - 2s 31us/step - loss: 0.5989 - acc: 0.8193 - val_loss: 1.6014 - val_acc: 0.4884\n",
      "Epoch 45/50\n",
      "50000/50000 [==============================] - 2s 31us/step - loss: 0.5825 - acc: 0.8265 - val_loss: 1.6394 - val_acc: 0.4883\n",
      "Epoch 46/50\n",
      "50000/50000 [==============================] - 2s 31us/step - loss: 0.5652 - acc: 0.8351 - val_loss: 1.6246 - val_acc: 0.4893\n",
      "Epoch 47/50\n",
      "50000/50000 [==============================] - 2s 31us/step - loss: 0.5481 - acc: 0.8410 - val_loss: 1.6526 - val_acc: 0.4935\n",
      "Epoch 48/50\n",
      "50000/50000 [==============================] - 2s 31us/step - loss: 0.5298 - acc: 0.8477 - val_loss: 1.6639 - val_acc: 0.4799\n",
      "Epoch 49/50\n",
      "50000/50000 [==============================] - 2s 31us/step - loss: 0.5170 - acc: 0.8523 - val_loss: 1.7288 - val_acc: 0.4730\n",
      "Epoch 50/50\n",
      "50000/50000 [==============================] - 2s 31us/step - loss: 0.5006 - acc: 0.8585 - val_loss: 1.6887 - val_acc: 0.4871\n"
     ]
    }
   ],
   "source": [
    "model = build_mlp(input_shape=x_train.shape[1:])\n",
    "model.summary()\n",
    "optimizer = keras.optimizers.SGD(lr=LEARNING_RATE, nesterov=True, momentum=MOMENTUM)\n",
    "model.compile(loss=\"categorical_crossentropy\", metrics=[\"accuracy\"], optimizer=optimizer)\n",
    "\n",
    "model.fit(x_train, y_train, \n",
    "          epochs=EPOCHS, \n",
    "          batch_size=BATCH_SIZE, \n",
    "          validation_data=(x_test, y_test), \n",
    "          shuffle=True,\n",
    "          callbacks=[log_f1sc]\n",
    "         )\n",
    "\n",
    "# Collect results\n",
    "train_loss = model.history.history[\"loss\"]\n",
    "valid_loss = model.history.history[\"val_loss\"]\n",
    "train_acc = model.history.history[\"acc\"]\n",
    "valid_acc = model.history.history[\"val_acc\"]\n",
    "\n",
    "valid_f1sc = model.history.history['val_f1sc']"
   ]
  },
  {
   "cell_type": "code",
   "execution_count": 9,
   "metadata": {},
   "outputs": [
    {
     "data": {
      "image/png": "[encoded data removed]",
      "text/plain": [
       "<Figure size 432x288 with 1 Axes>"
      ]
     },
     "metadata": {
      "needs_background": "light"
     },
     "output_type": "display_data"
    },
    {
     "data": {
      "image/png": "[encoded data removed]",
      "text/plain": [
       "<Figure size 432x288 with 1 Axes>"
      ]
     },
     "metadata": {
      "needs_background": "light"
     },
     "output_type": "display_data"
    },
    {
     "data": {
      "image/png": "[encoded data removed]",
      "text/plain": [
       "<Figure size 432x288 with 1 Axes>"
      ]
     },
     "metadata": {
      "needs_background": "light"
     },
     "output_type": "display_data"
    }
   ],
   "source": [
    "import matplotlib.pyplot as plt\n",
    "%matplotlib inline\n",
    "\n",
    "plt.plot(range(len(train_loss)), train_loss, label=\"train loss\")\n",
    "plt.plot(range(len(valid_loss)), valid_loss, label=\"valid loss\")\n",
    "plt.legend()\n",
    "plt.title(\"Loss\")\n",
    "plt.show()\n",
    "\n",
    "plt.plot(range(len(train_acc)), train_acc, label=\"train accuracy\")\n",
    "plt.plot(range(len(valid_acc)), valid_acc, label=\"valid accuracy\")\n",
    "plt.legend()\n",
    "plt.title(\"Accuracy\")\n",
    "plt.show()\n",
    "\n",
    "plt.plot(range(len(valid_f1sc)), valid_f1sc, label=\"valid f1-score\")\n",
    "plt.legend()\n",
    "plt.title(\"F1-score\")\n",
    "plt.show()\n"
   ]
  },
  {
   "cell_type": "markdown",
   "metadata": {},
   "source": [
    "## Work\n",
    "1. 請嘗試寫一個 callback 用來記錄各類別在訓練過程中，對驗證集的 True Positive 與 True Negative"
   ]
  }
 ],
 "metadata": {
  "kernelspec": {
   "display_name": "Python 3",
   "language": "python",
   "name": "python3"
  },
  "language_info": {
   "codemirror_mode": {
    "name": "ipython",
    "version": 3
   },
   "file_extension": ".py",
   "mimetype": "text/x-python",
   "name": "python",
   "nbconvert_exporter": "python",
   "pygments_lexer": "ipython3",
   "version": "3.5.2"
  }
 },
 "nbformat": 4,
 "nbformat_minor": 2
}
