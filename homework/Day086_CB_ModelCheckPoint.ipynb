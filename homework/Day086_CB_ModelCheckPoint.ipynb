{
 "cells": [
  {
   "cell_type": "code",
   "execution_count": 1,
   "metadata": {},
   "outputs": [
    {
     "name": "stderr",
     "output_type": "stream",
     "text": [
      "Using TensorFlow backend.\n"
     ]
    }
   ],
   "source": [
    "import os\n",
    "import keras\n",
    "\n",
    "# Disable GPU\n",
    "# os.environ[\"CUDA_VISIBLE_DEVICES\"] = \"\""
   ]
  },
  {
   "cell_type": "code",
   "execution_count": 2,
   "metadata": {},
   "outputs": [],
   "source": [
    "train, test = keras.datasets.cifar10.load_data()"
   ]
  },
  {
   "cell_type": "code",
   "execution_count": 3,
   "metadata": {},
   "outputs": [],
   "source": [
    "## 資料前處理\n",
    "def preproc_x(x, flatten=True):\n",
    "    x = x / 255.\n",
    "    if flatten:\n",
    "        x = x.reshape((len(x), -1))\n",
    "    return x\n",
    "\n",
    "def preproc_y(y, num_classes=10):\n",
    "    if y.shape[-1] == 1:\n",
    "        y = keras.utils.to_categorical(y, num_classes)\n",
    "    return y    "
   ]
  },
  {
   "cell_type": "code",
   "execution_count": 4,
   "metadata": {},
   "outputs": [],
   "source": [
    "x_train, y_train = train\n",
    "x_test, y_test = test\n",
    "\n",
    "# Preproc the inputs\n",
    "x_train = preproc_x(x_train)\n",
    "x_test = preproc_x(x_test)\n",
    "\n",
    "# Preprc the outputs\n",
    "y_train = preproc_y(y_train)\n",
    "y_test = preproc_y(y_test)"
   ]
  },
  {
   "cell_type": "code",
   "execution_count": 5,
   "metadata": {},
   "outputs": [],
   "source": [
    "from keras.layers import BatchNormalization\n",
    "def build_mlp(input_shape, output_units=10, num_neurons=[512, 256, 128]):\n",
    "    input_layer = keras.layers.Input(input_shape)\n",
    "    \n",
    "    for i, n_units in enumerate(num_neurons):\n",
    "        if i == 0:\n",
    "            x = keras.layers.Dense(units=n_units, \n",
    "                                   activation=\"relu\", \n",
    "                                   name=\"hidden_layer\"+str(i+1))(input_layer)\n",
    "            x = BatchNormalization()(x)\n",
    "        else:\n",
    "            x = keras.layers.Dense(units=n_units, \n",
    "                                   activation=\"relu\", \n",
    "                                   name=\"hidden_layer\"+str(i+1))(x)\n",
    "            x = BatchNormalization()(x)\n",
    "    \n",
    "    out = keras.layers.Dense(units=output_units, activation=\"softmax\", name=\"output\")(x)\n",
    "    \n",
    "    model = keras.models.Model(inputs=[input_layer], outputs=[out])\n",
    "    return model"
   ]
  },
  {
   "cell_type": "code",
   "execution_count": 6,
   "metadata": {},
   "outputs": [],
   "source": [
    "## 超參數設定\n",
    "LEARNING_RATE = 1e-3\n",
    "EPOCHS = 50\n",
    "BATCH_SIZE = 1024\n",
    "MOMENTUM = 0.95"
   ]
  },
  {
   "cell_type": "code",
   "execution_count": 7,
   "metadata": {},
   "outputs": [],
   "source": [
    "# 載入 Callbacks\n",
    "from keras.callbacks import ModelCheckpoint\n",
    "\n",
    "model_ckpt = ModelCheckpoint(filepath=\"./tmp.h5\", \n",
    "                             monitor=\"val_loss\", \n",
    "                             save_best_only=True)"
   ]
  },
  {
   "cell_type": "code",
   "execution_count": 8,
   "metadata": {
    "scrolled": true
   },
   "outputs": [
    {
     "name": "stdout",
     "output_type": "stream",
     "text": [
      "WARNING:tensorflow:From /usr/local/lib/python3.5/dist-packages/tensorflow/python/framework/op_def_library.py:263: colocate_with (from tensorflow.python.framework.ops) is deprecated and will be removed in a future version.\n",
      "Instructions for updating:\n",
      "Colocations handled automatically by placer.\n",
      "_________________________________________________________________\n",
      "Layer (type)                 Output Shape              Param #   \n",
      "=================================================================\n",
      "input_1 (InputLayer)         (None, 3072)              0         \n",
      "_________________________________________________________________\n",
      "hidden_layer1 (Dense)        (None, 512)               1573376   \n",
      "_________________________________________________________________\n",
      "batch_normalization_1 (Batch (None, 512)               2048      \n",
      "_________________________________________________________________\n",
      "hidden_layer2 (Dense)        (None, 256)               131328    \n",
      "_________________________________________________________________\n",
      "batch_normalization_2 (Batch (None, 256)               1024      \n",
      "_________________________________________________________________\n",
      "hidden_layer3 (Dense)        (None, 128)               32896     \n",
      "_________________________________________________________________\n",
      "batch_normalization_3 (Batch (None, 128)               512       \n",
      "_________________________________________________________________\n",
      "output (Dense)               (None, 10)                1290      \n",
      "=================================================================\n",
      "Total params: 1,742,474\n",
      "Trainable params: 1,740,682\n",
      "Non-trainable params: 1,792\n",
      "_________________________________________________________________\n",
      "WARNING:tensorflow:From /usr/local/lib/python3.5/dist-packages/tensorflow/python/ops/math_ops.py:3066: to_int32 (from tensorflow.python.ops.math_ops) is deprecated and will be removed in a future version.\n",
      "Instructions for updating:\n",
      "Use tf.cast instead.\n",
      "Train on 50000 samples, validate on 10000 samples\n",
      "Epoch 1/50\n",
      "50000/50000 [==============================] - 11s 221us/step - loss: 2.1960 - acc: 0.2711 - val_loss: 2.1696 - val_acc: 0.2980\n",
      "Epoch 2/50\n",
      "50000/50000 [==============================] - 2s 33us/step - loss: 1.7493 - acc: 0.3921 - val_loss: 1.8454 - val_acc: 0.3741\n",
      "Epoch 3/50\n",
      "50000/50000 [==============================] - 2s 33us/step - loss: 1.6273 - acc: 0.4308 - val_loss: 1.6938 - val_acc: 0.4075\n",
      "Epoch 4/50\n",
      "50000/50000 [==============================] - 2s 33us/step - loss: 1.5558 - acc: 0.4577 - val_loss: 1.6402 - val_acc: 0.4236\n",
      "Epoch 5/50\n",
      "50000/50000 [==============================] - 2s 33us/step - loss: 1.5027 - acc: 0.4747 - val_loss: 1.6069 - val_acc: 0.4337\n",
      "Epoch 6/50\n",
      "50000/50000 [==============================] - 2s 33us/step - loss: 1.4561 - acc: 0.4927 - val_loss: 1.5621 - val_acc: 0.4484\n",
      "Epoch 7/50\n",
      "50000/50000 [==============================] - 2s 33us/step - loss: 1.4153 - acc: 0.5061 - val_loss: 1.5556 - val_acc: 0.4483\n",
      "Epoch 8/50\n",
      "50000/50000 [==============================] - 2s 33us/step - loss: 1.3806 - acc: 0.5199 - val_loss: 1.5312 - val_acc: 0.4658\n",
      "Epoch 9/50\n",
      "50000/50000 [==============================] - 2s 33us/step - loss: 1.3496 - acc: 0.5320 - val_loss: 1.5161 - val_acc: 0.4681\n",
      "Epoch 10/50\n",
      "50000/50000 [==============================] - 2s 34us/step - loss: 1.3217 - acc: 0.5414 - val_loss: 1.5056 - val_acc: 0.4701\n",
      "Epoch 11/50\n",
      "50000/50000 [==============================] - 2s 33us/step - loss: 1.2925 - acc: 0.5534 - val_loss: 1.5077 - val_acc: 0.4710\n",
      "Epoch 12/50\n",
      "50000/50000 [==============================] - 2s 33us/step - loss: 1.2652 - acc: 0.5620 - val_loss: 1.4948 - val_acc: 0.4745\n",
      "Epoch 13/50\n",
      "50000/50000 [==============================] - 2s 33us/step - loss: 1.2390 - acc: 0.5737 - val_loss: 1.4721 - val_acc: 0.4843\n",
      "Epoch 14/50\n",
      "50000/50000 [==============================] - 2s 33us/step - loss: 1.2145 - acc: 0.5826 - val_loss: 1.4715 - val_acc: 0.4896\n",
      "Epoch 15/50\n",
      "50000/50000 [==============================] - 2s 33us/step - loss: 1.1904 - acc: 0.5907 - val_loss: 1.4678 - val_acc: 0.4909\n",
      "Epoch 16/50\n",
      "50000/50000 [==============================] - 2s 33us/step - loss: 1.1657 - acc: 0.5996 - val_loss: 1.4604 - val_acc: 0.4865\n",
      "Epoch 17/50\n",
      "50000/50000 [==============================] - 2s 33us/step - loss: 1.1432 - acc: 0.6074 - val_loss: 1.4650 - val_acc: 0.4879\n",
      "Epoch 18/50\n",
      "50000/50000 [==============================] - 2s 33us/step - loss: 1.1213 - acc: 0.6165 - val_loss: 1.4527 - val_acc: 0.4927\n",
      "Epoch 19/50\n",
      "50000/50000 [==============================] - 2s 33us/step - loss: 1.0988 - acc: 0.6256 - val_loss: 1.4597 - val_acc: 0.4942\n",
      "Epoch 20/50\n",
      "50000/50000 [==============================] - 2s 33us/step - loss: 1.0769 - acc: 0.6340 - val_loss: 1.4502 - val_acc: 0.4920\n",
      "Epoch 21/50\n",
      "50000/50000 [==============================] - 2s 33us/step - loss: 1.0542 - acc: 0.6419 - val_loss: 1.4681 - val_acc: 0.4903\n",
      "Epoch 22/50\n",
      "50000/50000 [==============================] - 2s 33us/step - loss: 1.0316 - acc: 0.6516 - val_loss: 1.4519 - val_acc: 0.4929\n",
      "Epoch 23/50\n",
      "50000/50000 [==============================] - 2s 33us/step - loss: 1.0120 - acc: 0.6576 - val_loss: 1.4474 - val_acc: 0.4964\n",
      "Epoch 24/50\n",
      "50000/50000 [==============================] - 2s 34us/step - loss: 0.9907 - acc: 0.6679 - val_loss: 1.4451 - val_acc: 0.4934\n",
      "Epoch 25/50\n",
      "50000/50000 [==============================] - 2s 33us/step - loss: 0.9704 - acc: 0.6749 - val_loss: 1.4559 - val_acc: 0.4992\n",
      "Epoch 26/50\n",
      "50000/50000 [==============================] - 2s 33us/step - loss: 0.9508 - acc: 0.6835 - val_loss: 1.4425 - val_acc: 0.5005\n",
      "Epoch 27/50\n",
      "50000/50000 [==============================] - 2s 34us/step - loss: 0.9304 - acc: 0.6903 - val_loss: 1.4579 - val_acc: 0.4932\n",
      "Epoch 28/50\n",
      "50000/50000 [==============================] - 2s 33us/step - loss: 0.9095 - acc: 0.6984 - val_loss: 1.4643 - val_acc: 0.4941\n",
      "Epoch 29/50\n",
      "50000/50000 [==============================] - 2s 33us/step - loss: 0.8914 - acc: 0.7058 - val_loss: 1.4719 - val_acc: 0.4982\n",
      "Epoch 30/50\n",
      "50000/50000 [==============================] - 2s 33us/step - loss: 0.8700 - acc: 0.7138 - val_loss: 1.4725 - val_acc: 0.4990\n",
      "Epoch 31/50\n",
      "50000/50000 [==============================] - 2s 34us/step - loss: 0.8511 - acc: 0.7197 - val_loss: 1.4711 - val_acc: 0.5001\n",
      "Epoch 32/50\n",
      "50000/50000 [==============================] - 2s 33us/step - loss: 0.8319 - acc: 0.7287 - val_loss: 1.4905 - val_acc: 0.4974\n",
      "Epoch 33/50\n",
      "50000/50000 [==============================] - 2s 33us/step - loss: 0.8113 - acc: 0.7356 - val_loss: 1.4890 - val_acc: 0.4953\n",
      "Epoch 34/50\n",
      "50000/50000 [==============================] - 2s 33us/step - loss: 0.7935 - acc: 0.7448 - val_loss: 1.4971 - val_acc: 0.4972\n",
      "Epoch 35/50\n",
      "50000/50000 [==============================] - 2s 33us/step - loss: 0.7736 - acc: 0.7517 - val_loss: 1.5038 - val_acc: 0.4950\n",
      "Epoch 36/50\n",
      "50000/50000 [==============================] - 2s 33us/step - loss: 0.7531 - acc: 0.7608 - val_loss: 1.5103 - val_acc: 0.4978\n",
      "Epoch 37/50\n",
      "50000/50000 [==============================] - 2s 33us/step - loss: 0.7336 - acc: 0.7665 - val_loss: 1.5047 - val_acc: 0.5005\n",
      "Epoch 38/50\n",
      "50000/50000 [==============================] - 2s 34us/step - loss: 0.7155 - acc: 0.7753 - val_loss: 1.5177 - val_acc: 0.4939\n",
      "Epoch 39/50\n",
      "50000/50000 [==============================] - 2s 34us/step - loss: 0.6970 - acc: 0.7821 - val_loss: 1.5423 - val_acc: 0.4991\n",
      "Epoch 40/50\n",
      "50000/50000 [==============================] - 2s 33us/step - loss: 0.6791 - acc: 0.7891 - val_loss: 1.5466 - val_acc: 0.4955\n",
      "Epoch 41/50\n",
      "50000/50000 [==============================] - 2s 33us/step - loss: 0.6606 - acc: 0.7963 - val_loss: 1.5821 - val_acc: 0.4913\n",
      "Epoch 42/50\n",
      "50000/50000 [==============================] - 2s 33us/step - loss: 0.6429 - acc: 0.8027 - val_loss: 1.5708 - val_acc: 0.4915\n",
      "Epoch 43/50\n",
      "50000/50000 [==============================] - 2s 33us/step - loss: 0.6244 - acc: 0.8104 - val_loss: 1.5707 - val_acc: 0.4960\n",
      "Epoch 44/50\n",
      "50000/50000 [==============================] - 2s 33us/step - loss: 0.6070 - acc: 0.8187 - val_loss: 1.5940 - val_acc: 0.4911\n",
      "Epoch 45/50\n",
      "50000/50000 [==============================] - 2s 33us/step - loss: 0.5883 - acc: 0.8257 - val_loss: 1.5951 - val_acc: 0.4954\n"
     ]
    },
    {
     "name": "stdout",
     "output_type": "stream",
     "text": [
      "Epoch 46/50\n",
      "50000/50000 [==============================] - 2s 33us/step - loss: 0.5707 - acc: 0.8316 - val_loss: 1.6136 - val_acc: 0.4963\n",
      "Epoch 47/50\n",
      "50000/50000 [==============================] - 2s 33us/step - loss: 0.5556 - acc: 0.8373 - val_loss: 1.6251 - val_acc: 0.4891\n",
      "Epoch 48/50\n",
      "50000/50000 [==============================] - 2s 33us/step - loss: 0.5372 - acc: 0.8463 - val_loss: 1.6522 - val_acc: 0.4879\n",
      "Epoch 49/50\n",
      "50000/50000 [==============================] - 2s 33us/step - loss: 0.5196 - acc: 0.8527 - val_loss: 1.6591 - val_acc: 0.4859\n",
      "Epoch 50/50\n",
      "50000/50000 [==============================] - 2s 33us/step - loss: 0.5016 - acc: 0.8591 - val_loss: 1.6662 - val_acc: 0.4883\n",
      "10000/10000 [==============================] - 1s 62us/step\n"
     ]
    }
   ],
   "source": [
    "model = build_mlp(input_shape=x_train.shape[1:])\n",
    "model.summary()\n",
    "optimizer = keras.optimizers.SGD(lr=LEARNING_RATE, nesterov=True, momentum=MOMENTUM)\n",
    "model.compile(loss=\"categorical_crossentropy\", metrics=[\"accuracy\"], optimizer=optimizer)\n",
    "\n",
    "model.fit(x_train, y_train, \n",
    "          epochs=EPOCHS, \n",
    "          batch_size=BATCH_SIZE, \n",
    "          validation_data=(x_test, y_test), \n",
    "          shuffle=True,\n",
    "          callbacks=[model_ckpt]\n",
    "         )\n",
    "\n",
    "# Collect results\n",
    "train_loss = model.history.history[\"loss\"]\n",
    "valid_loss = model.history.history[\"val_loss\"]\n",
    "train_acc = model.history.history[\"acc\"]\n",
    "valid_acc = model.history.history[\"val_acc\"]\n",
    "\n",
    "# Load back\n",
    "model = keras.models.load_model(\"./tmp.h5\")\n",
    "loss_loadback, acc_loadback = model.evaluate(x_test, y_test)"
   ]
  },
  {
   "cell_type": "code",
   "execution_count": 9,
   "metadata": {},
   "outputs": [
    {
     "data": {
      "image/png": "[encoded data removed]",
      "text/plain": [
       "<Figure size 432x288 with 1 Axes>"
      ]
     },
     "metadata": {
      "needs_background": "light"
     },
     "output_type": "display_data"
    },
    {
     "data": {
      "image/png": "[encoded data removed]",
      "text/plain": [
       "<Figure size 432x288 with 1 Axes>"
      ]
     },
     "metadata": {
      "needs_background": "light"
     },
     "output_type": "display_data"
    }
   ],
   "source": [
    "import matplotlib.pyplot as plt\n",
    "%matplotlib inline\n",
    "\n",
    "plt.plot(range(len(train_loss)), train_loss, label=\"train loss\")\n",
    "plt.plot(range(len(valid_loss)), valid_loss, label=\"valid loss\")\n",
    "plt.hlines(y=loss_loadback, xmin=0, xmax=len(train_loss), colors='r', linestyles='--')\n",
    "plt.legend()\n",
    "plt.title(\"Loss\")\n",
    "plt.show()\n",
    "\n",
    "plt.plot(range(len(train_acc)), train_acc, label=\"train accuracy\")\n",
    "plt.plot(range(len(valid_acc)), valid_acc, label=\"valid accuracy\")\n",
    "plt.hlines(y=acc_loadback, xmin=0, xmax=len(train_loss), colors='r', linestyles='--')\n",
    "plt.legend()\n",
    "plt.title(\"Accuracy\")\n",
    "plt.show()"
   ]
  },
  {
   "cell_type": "markdown",
   "metadata": {},
   "source": [
    "## Work\n",
    "1. 試比較 save_best_only 與否的差異\n",
    "2. 請僅存入將 save_weights_only 設定為 True, 並嘗試 reset ipynb 並將模型與權重重新建回並預測 x_test"
   ]
  }
 ],
 "metadata": {
  "kernelspec": {
   "display_name": "Python 3",
   "language": "python",
   "name": "python3"
  },
  "language_info": {
   "codemirror_mode": {
    "name": "ipython",
    "version": 3
   },
   "file_extension": ".py",
   "mimetype": "text/x-python",
   "name": "python",
   "nbconvert_exporter": "python",
   "pygments_lexer": "ipython3",
   "version": "3.5.2"
  }
 },
 "nbformat": 4,
 "nbformat_minor": 2
}
