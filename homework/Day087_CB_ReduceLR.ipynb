{
 "cells": [
  {
   "cell_type": "code",
   "execution_count": 1,
   "metadata": {},
   "outputs": [
    {
     "name": "stderr",
     "output_type": "stream",
     "text": [
      "Using TensorFlow backend.\n"
     ]
    }
   ],
   "source": [
    "import os\n",
    "import keras\n",
    "\n",
    "# Disable GPU\n",
    "# os.environ[\"CUDA_VISIBLE_DEVICES\"] = \"\""
   ]
  },
  {
   "cell_type": "code",
   "execution_count": 2,
   "metadata": {},
   "outputs": [],
   "source": [
    "train, test = keras.datasets.cifar10.load_data()"
   ]
  },
  {
   "cell_type": "code",
   "execution_count": 3,
   "metadata": {},
   "outputs": [],
   "source": [
    "## 資料前處理\n",
    "def preproc_x(x, flatten=True):\n",
    "    x = x / 255.\n",
    "    if flatten:\n",
    "        x = x.reshape((len(x), -1))\n",
    "    return x\n",
    "\n",
    "def preproc_y(y, num_classes=10):\n",
    "    if y.shape[-1] == 1:\n",
    "        y = keras.utils.to_categorical(y, num_classes)\n",
    "    return y    "
   ]
  },
  {
   "cell_type": "code",
   "execution_count": 4,
   "metadata": {},
   "outputs": [],
   "source": [
    "x_train, y_train = train\n",
    "x_test, y_test = test\n",
    "\n",
    "# Preproc the inputs\n",
    "x_train = preproc_x(x_train)\n",
    "x_test = preproc_x(x_test)\n",
    "\n",
    "# Preprc the outputs\n",
    "y_train = preproc_y(y_train)\n",
    "y_test = preproc_y(y_test)"
   ]
  },
  {
   "cell_type": "code",
   "execution_count": 5,
   "metadata": {},
   "outputs": [],
   "source": [
    "from keras.layers import BatchNormalization\n",
    "def build_mlp(input_shape, output_units=10, num_neurons=[512, 256, 128]):\n",
    "    input_layer = keras.layers.Input(input_shape)\n",
    "    \n",
    "    for i, n_units in enumerate(num_neurons):\n",
    "        if i == 0:\n",
    "            x = keras.layers.Dense(units=n_units, \n",
    "                                   activation=\"relu\", \n",
    "                                   name=\"hidden_layer\"+str(i+1))(input_layer)\n",
    "            x = BatchNormalization()(x)\n",
    "        else:\n",
    "            x = keras.layers.Dense(units=n_units, \n",
    "                                   activation=\"relu\", \n",
    "                                   name=\"hidden_layer\"+str(i+1))(x)\n",
    "            x = BatchNormalization()(x)\n",
    "    \n",
    "    out = keras.layers.Dense(units=output_units, activation=\"softmax\", name=\"output\")(x)\n",
    "    \n",
    "    model = keras.models.Model(inputs=[input_layer], outputs=[out])\n",
    "    return model"
   ]
  },
  {
   "cell_type": "code",
   "execution_count": 6,
   "metadata": {},
   "outputs": [],
   "source": [
    "## 超參數設定\n",
    "LEARNING_RATE = 1e-3\n",
    "EPOCHS = 50\n",
    "BATCH_SIZE = 1024\n",
    "MOMENTUM = 0.95"
   ]
  },
  {
   "cell_type": "code",
   "execution_count": 7,
   "metadata": {},
   "outputs": [],
   "source": [
    "# 載入 Callbacks\n",
    "from keras.callbacks import ReduceLROnPlateau\n",
    "\n",
    "reduce_lr = ReduceLROnPlateau(factor=0.5, \n",
    "                              min_lr=1e-12, \n",
    "                              monitor='val_loss', \n",
    "                              patience=5, \n",
    "                              verbose=1)"
   ]
  },
  {
   "cell_type": "code",
   "execution_count": 8,
   "metadata": {
    "scrolled": true
   },
   "outputs": [
    {
     "name": "stdout",
     "output_type": "stream",
     "text": [
      "WARNING:tensorflow:From /usr/local/lib/python3.5/dist-packages/tensorflow/python/framework/op_def_library.py:263: colocate_with (from tensorflow.python.framework.ops) is deprecated and will be removed in a future version.\n",
      "Instructions for updating:\n",
      "Colocations handled automatically by placer.\n",
      "_________________________________________________________________\n",
      "Layer (type)                 Output Shape              Param #   \n",
      "=================================================================\n",
      "input_1 (InputLayer)         (None, 3072)              0         \n",
      "_________________________________________________________________\n",
      "hidden_layer1 (Dense)        (None, 512)               1573376   \n",
      "_________________________________________________________________\n",
      "batch_normalization_1 (Batch (None, 512)               2048      \n",
      "_________________________________________________________________\n",
      "hidden_layer2 (Dense)        (None, 256)               131328    \n",
      "_________________________________________________________________\n",
      "batch_normalization_2 (Batch (None, 256)               1024      \n",
      "_________________________________________________________________\n",
      "hidden_layer3 (Dense)        (None, 128)               32896     \n",
      "_________________________________________________________________\n",
      "batch_normalization_3 (Batch (None, 128)               512       \n",
      "_________________________________________________________________\n",
      "output (Dense)               (None, 10)                1290      \n",
      "=================================================================\n",
      "Total params: 1,742,474\n",
      "Trainable params: 1,740,682\n",
      "Non-trainable params: 1,792\n",
      "_________________________________________________________________\n",
      "WARNING:tensorflow:From /usr/local/lib/python3.5/dist-packages/tensorflow/python/ops/math_ops.py:3066: to_int32 (from tensorflow.python.ops.math_ops) is deprecated and will be removed in a future version.\n",
      "Instructions for updating:\n",
      "Use tf.cast instead.\n",
      "Train on 50000 samples, validate on 10000 samples\n",
      "Epoch 1/50\n",
      "50000/50000 [==============================] - 3s 64us/step - loss: 2.2201 - acc: 0.2693 - val_loss: 2.0398 - val_acc: 0.3208\n",
      "Epoch 2/50\n",
      "50000/50000 [==============================] - 2s 34us/step - loss: 1.7403 - acc: 0.3913 - val_loss: 1.7974 - val_acc: 0.3844\n",
      "Epoch 3/50\n",
      "50000/50000 [==============================] - 2s 34us/step - loss: 1.6158 - acc: 0.4329 - val_loss: 1.6805 - val_acc: 0.4208\n",
      "Epoch 4/50\n",
      "50000/50000 [==============================] - 2s 34us/step - loss: 1.5422 - acc: 0.4603 - val_loss: 1.6360 - val_acc: 0.4232\n",
      "Epoch 5/50\n",
      "50000/50000 [==============================] - 2s 34us/step - loss: 1.4893 - acc: 0.4807 - val_loss: 1.5993 - val_acc: 0.4411\n",
      "Epoch 6/50\n",
      "50000/50000 [==============================] - 2s 34us/step - loss: 1.4431 - acc: 0.4950 - val_loss: 1.5791 - val_acc: 0.4425\n",
      "Epoch 7/50\n",
      "50000/50000 [==============================] - 2s 34us/step - loss: 1.4041 - acc: 0.5107 - val_loss: 1.5519 - val_acc: 0.4568\n",
      "Epoch 8/50\n",
      "50000/50000 [==============================] - 2s 34us/step - loss: 1.3681 - acc: 0.5220 - val_loss: 1.5265 - val_acc: 0.4686\n",
      "Epoch 9/50\n",
      "50000/50000 [==============================] - 2s 33us/step - loss: 1.3343 - acc: 0.5372 - val_loss: 1.5136 - val_acc: 0.4727\n",
      "Epoch 10/50\n",
      "50000/50000 [==============================] - 2s 33us/step - loss: 1.3031 - acc: 0.5470 - val_loss: 1.5188 - val_acc: 0.4716\n",
      "Epoch 11/50\n",
      "50000/50000 [==============================] - 2s 33us/step - loss: 1.2764 - acc: 0.5573 - val_loss: 1.4918 - val_acc: 0.4770\n",
      "Epoch 12/50\n",
      "50000/50000 [==============================] - 2s 33us/step - loss: 1.2493 - acc: 0.5673 - val_loss: 1.4783 - val_acc: 0.4800\n",
      "Epoch 13/50\n",
      "50000/50000 [==============================] - 2s 34us/step - loss: 1.2215 - acc: 0.5785 - val_loss: 1.4869 - val_acc: 0.4849\n",
      "Epoch 14/50\n",
      "50000/50000 [==============================] - 2s 33us/step - loss: 1.1984 - acc: 0.5852 - val_loss: 1.4780 - val_acc: 0.4870\n",
      "Epoch 15/50\n",
      "50000/50000 [==============================] - 2s 33us/step - loss: 1.1758 - acc: 0.5943 - val_loss: 1.4659 - val_acc: 0.4926\n",
      "Epoch 16/50\n",
      "50000/50000 [==============================] - 2s 33us/step - loss: 1.1491 - acc: 0.6051 - val_loss: 1.4640 - val_acc: 0.4941\n",
      "Epoch 17/50\n",
      "50000/50000 [==============================] - 2s 33us/step - loss: 1.1272 - acc: 0.6134 - val_loss: 1.4658 - val_acc: 0.4889\n",
      "Epoch 18/50\n",
      "50000/50000 [==============================] - 2s 33us/step - loss: 1.1051 - acc: 0.6188 - val_loss: 1.4568 - val_acc: 0.4987\n",
      "Epoch 19/50\n",
      "50000/50000 [==============================] - 2s 34us/step - loss: 1.0827 - acc: 0.6303 - val_loss: 1.4539 - val_acc: 0.4984\n",
      "Epoch 20/50\n",
      "50000/50000 [==============================] - 2s 33us/step - loss: 1.0595 - acc: 0.6376 - val_loss: 1.4488 - val_acc: 0.4977\n",
      "Epoch 21/50\n",
      "50000/50000 [==============================] - 2s 33us/step - loss: 1.0392 - acc: 0.6448 - val_loss: 1.4512 - val_acc: 0.4971\n",
      "Epoch 22/50\n",
      "50000/50000 [==============================] - 2s 34us/step - loss: 1.0179 - acc: 0.6532 - val_loss: 1.4678 - val_acc: 0.4992\n",
      "Epoch 23/50\n",
      "50000/50000 [==============================] - 2s 34us/step - loss: 0.9967 - acc: 0.6631 - val_loss: 1.4548 - val_acc: 0.5019\n",
      "Epoch 24/50\n",
      "50000/50000 [==============================] - 2s 34us/step - loss: 0.9789 - acc: 0.6692 - val_loss: 1.4702 - val_acc: 0.4985\n",
      "Epoch 25/50\n",
      "50000/50000 [==============================] - 2s 34us/step - loss: 0.9543 - acc: 0.6793 - val_loss: 1.4607 - val_acc: 0.5034\n",
      "\n",
      "Epoch 00025: ReduceLROnPlateau reducing learning rate to 0.0005000000237487257.\n",
      "Epoch 26/50\n",
      "50000/50000 [==============================] - 2s 34us/step - loss: 0.9279 - acc: 0.6898 - val_loss: 1.4520 - val_acc: 0.5077\n",
      "Epoch 27/50\n",
      "50000/50000 [==============================] - 2s 34us/step - loss: 0.9083 - acc: 0.6986 - val_loss: 1.4490 - val_acc: 0.5036\n",
      "Epoch 28/50\n",
      "50000/50000 [==============================] - 2s 34us/step - loss: 0.8960 - acc: 0.7024 - val_loss: 1.4561 - val_acc: 0.5019\n",
      "Epoch 29/50\n",
      "50000/50000 [==============================] - 2s 34us/step - loss: 0.8848 - acc: 0.7080 - val_loss: 1.4577 - val_acc: 0.5041\n",
      "Epoch 30/50\n",
      "50000/50000 [==============================] - 2s 34us/step - loss: 0.8747 - acc: 0.7124 - val_loss: 1.4587 - val_acc: 0.5028\n",
      "\n",
      "Epoch 00030: ReduceLROnPlateau reducing learning rate to 0.0002500000118743628.\n",
      "Epoch 31/50\n",
      "50000/50000 [==============================] - 2s 33us/step - loss: 0.8588 - acc: 0.7206 - val_loss: 1.4624 - val_acc: 0.5108\n",
      "Epoch 32/50\n",
      "50000/50000 [==============================] - 2s 34us/step - loss: 0.8506 - acc: 0.7227 - val_loss: 1.4630 - val_acc: 0.5065\n",
      "Epoch 33/50\n",
      "50000/50000 [==============================] - 2s 33us/step - loss: 0.8432 - acc: 0.7254 - val_loss: 1.4630 - val_acc: 0.5065\n",
      "Epoch 34/50\n",
      "50000/50000 [==============================] - 2s 33us/step - loss: 0.8366 - acc: 0.7282 - val_loss: 1.4611 - val_acc: 0.5087\n",
      "Epoch 35/50\n",
      "50000/50000 [==============================] - 2s 34us/step - loss: 0.8311 - acc: 0.7302 - val_loss: 1.4667 - val_acc: 0.5067\n",
      "\n",
      "Epoch 00035: ReduceLROnPlateau reducing learning rate to 0.0001250000059371814.\n",
      "Epoch 36/50\n",
      "50000/50000 [==============================] - 2s 34us/step - loss: 0.8243 - acc: 0.7345 - val_loss: 1.4653 - val_acc: 0.5072\n",
      "Epoch 37/50\n",
      "50000/50000 [==============================] - 2s 33us/step - loss: 0.8183 - acc: 0.7363 - val_loss: 1.4648 - val_acc: 0.5049\n",
      "Epoch 38/50\n",
      "50000/50000 [==============================] - 2s 33us/step - loss: 0.8162 - acc: 0.7375 - val_loss: 1.4665 - val_acc: 0.5090\n",
      "Epoch 39/50\n",
      "50000/50000 [==============================] - 2s 33us/step - loss: 0.8131 - acc: 0.7387 - val_loss: 1.4682 - val_acc: 0.5076\n",
      "Epoch 40/50\n",
      "50000/50000 [==============================] - 2s 33us/step - loss: 0.8105 - acc: 0.7390 - val_loss: 1.4686 - val_acc: 0.5067\n",
      "\n",
      "Epoch 00040: ReduceLROnPlateau reducing learning rate to 6.25000029685907e-05.\n",
      "Epoch 41/50\n",
      "50000/50000 [==============================] - 2s 33us/step - loss: 0.8053 - acc: 0.7416 - val_loss: 1.4692 - val_acc: 0.5078\n",
      "Epoch 42/50\n",
      "50000/50000 [==============================] - 2s 34us/step - loss: 0.8037 - acc: 0.7419 - val_loss: 1.4684 - val_acc: 0.5073\n",
      "Epoch 43/50\n"
     ]
    },
    {
     "name": "stdout",
     "output_type": "stream",
     "text": [
      "50000/50000 [==============================] - 2s 33us/step - loss: 0.8020 - acc: 0.7439 - val_loss: 1.4675 - val_acc: 0.5083\n",
      "Epoch 44/50\n",
      "50000/50000 [==============================] - 2s 33us/step - loss: 0.7997 - acc: 0.7448 - val_loss: 1.4694 - val_acc: 0.5071\n",
      "Epoch 45/50\n",
      "50000/50000 [==============================] - 2s 34us/step - loss: 0.7985 - acc: 0.7442 - val_loss: 1.4700 - val_acc: 0.5058\n",
      "\n",
      "Epoch 00045: ReduceLROnPlateau reducing learning rate to 3.125000148429535e-05.\n",
      "Epoch 46/50\n",
      "50000/50000 [==============================] - 2s 34us/step - loss: 0.7959 - acc: 0.7468 - val_loss: 1.4694 - val_acc: 0.5097\n",
      "Epoch 47/50\n",
      "50000/50000 [==============================] - 2s 34us/step - loss: 0.7957 - acc: 0.7454 - val_loss: 1.4702 - val_acc: 0.5086\n",
      "Epoch 48/50\n",
      "50000/50000 [==============================] - 2s 34us/step - loss: 0.7942 - acc: 0.7469 - val_loss: 1.4700 - val_acc: 0.5063\n",
      "Epoch 49/50\n",
      "50000/50000 [==============================] - 2s 34us/step - loss: 0.7952 - acc: 0.7466 - val_loss: 1.4707 - val_acc: 0.5080\n",
      "Epoch 50/50\n",
      "50000/50000 [==============================] - 2s 34us/step - loss: 0.7928 - acc: 0.7461 - val_loss: 1.4708 - val_acc: 0.5077\n",
      "\n",
      "Epoch 00050: ReduceLROnPlateau reducing learning rate to 1.5625000742147677e-05.\n"
     ]
    }
   ],
   "source": [
    "model = build_mlp(input_shape=x_train.shape[1:])\n",
    "model.summary()\n",
    "optimizer = keras.optimizers.SGD(lr=LEARNING_RATE, nesterov=True, momentum=MOMENTUM)\n",
    "model.compile(loss=\"categorical_crossentropy\", metrics=[\"accuracy\"], optimizer=optimizer)\n",
    "\n",
    "model.fit(x_train, y_train, \n",
    "          epochs=EPOCHS, \n",
    "          batch_size=BATCH_SIZE, \n",
    "          validation_data=(x_test, y_test), \n",
    "          shuffle=True,\n",
    "          callbacks=[reduce_lr]\n",
    "         )\n",
    "\n",
    "# Collect results\n",
    "train_loss = model.history.history[\"loss\"]\n",
    "valid_loss = model.history.history[\"val_loss\"]\n",
    "train_acc = model.history.history[\"acc\"]\n",
    "valid_acc = model.history.history[\"val_acc\"]"
   ]
  },
  {
   "cell_type": "code",
   "execution_count": 9,
   "metadata": {},
   "outputs": [
    {
     "data": {
      "image/png": "[encoded data removed]",
      "text/plain": [
       "<Figure size 432x288 with 1 Axes>"
      ]
     },
     "metadata": {
      "needs_background": "light"
     },
     "output_type": "display_data"
    },
    {
     "data": {
      "image/png": "[encoded data removed]",
      "text/plain": [
       "<Figure size 432x288 with 1 Axes>"
      ]
     },
     "metadata": {
      "needs_background": "light"
     },
     "output_type": "display_data"
    }
   ],
   "source": [
    "import matplotlib.pyplot as plt\n",
    "%matplotlib inline\n",
    "\n",
    "plt.plot(range(len(train_loss)), train_loss, label=\"train loss\")\n",
    "plt.plot(range(len(valid_loss)), valid_loss, label=\"valid loss\")\n",
    "plt.legend()\n",
    "plt.title(\"Loss\")\n",
    "plt.show()\n",
    "\n",
    "plt.plot(range(len(train_acc)), train_acc, label=\"train accuracy\")\n",
    "plt.plot(range(len(valid_acc)), valid_acc, label=\"valid accuracy\")\n",
    "plt.legend()\n",
    "plt.title(\"Accuracy\")\n",
    "plt.show()"
   ]
  },
  {
   "cell_type": "markdown",
   "metadata": {},
   "source": [
    "## Work\n",
    "1. 請改變 reduce_lr 的 patience 和 factor 並比較不同設定下，對訓練/驗證集的影響\n",
    "2. 請將 optimizer 換成 Adam、RMSprop 搭配 reduce_lr 並比較訓練結果"
   ]
  }
 ],
 "metadata": {
  "kernelspec": {
   "display_name": "Python 3",
   "language": "python",
   "name": "python3"
  },
  "language_info": {
   "codemirror_mode": {
    "name": "ipython",
    "version": 3
   },
   "file_extension": ".py",
   "mimetype": "text/x-python",
   "name": "python",
   "nbconvert_exporter": "python",
   "pygments_lexer": "ipython3",
   "version": "3.5.2"
  }
 },
 "nbformat": 4,
 "nbformat_minor": 2
}
